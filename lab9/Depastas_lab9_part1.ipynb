{
 "nbformat": 4,
 "nbformat_minor": 0,
 "metadata": {
  "colab": {
   "name": "Stochastics_Lab9_RBF.ipynb",
   "provenance": [],
   "collapsed_sections": []
  },
  "kernelspec": {
   "name": "python3",
   "display_name": "Python 3"
  },
  "language_info": {
   "name": "python"
  }
 },
 "cells": [
  {
   "cell_type": "markdown",
   "source": [
    "# Radial Basis Function\n",
    "\n",
    "Σκοπός της παρούσας άσκησης είναι η πρόβλεψη ως προς το αν ένας/μία πελάτης/ισσα μίας τράπεζας θα κάνει τη χρήση της προθεσμιακής κατάθεσης ή όχι. Αυτή η πρόβλεψη θα εξαχθεί με βάση συγκεκριμένα δημογραφικά χαρακτηριστικά του/της\n",
    "όπως η ηλικία, η εργασία, η εκπαίδευση, η οικογενειακή κατάσταση κ.λπ.\n",
    "Για να το επιτύχουμε αυτό θα κάνουμε χρήση μίας εφαρμογής βασισμένη σε RBF. Στο κρυφό επίπεδο των νευρώνων υπολογίζονται τα κέντρα των clusters με τη χρήση του αλγορίθμου k-means.\n",
    "\n",
    "\n",
    " "
   ],
   "metadata": {
    "id": "60LtVqhSDSVs"
   }
  },
  {
   "cell_type": "markdown",
   "source": [
    "**Βήμα 1ο**: Αρχικά φορτώνουμε τις απαράιτητες βιβλιοθήκες"
   ],
   "metadata": {
    "id": "VZo7LLMnFRhe"
   }
  },
  {
   "cell_type": "code",
   "execution_count": 2,
   "metadata": {
    "id": "qty0hUG3xn16"
   },
   "outputs": [],
   "source": [
    "import pandas as pd\n",
    "import numpy as np\n",
    "from sklearn.preprocessing import LabelEncoder\n",
    "from sklearn.model_selection import train_test_split\n",
    "from sklearn.preprocessing import StandardScaler\n",
    "from sklearn.cluster import KMeans\n",
    "import math\n",
    "from sklearn.metrics import accuracy_score"
   ]
  },
  {
   "cell_type": "markdown",
   "source": [
    "**Βήμα 2ο**: διάβαζουμε το αρχείο bank-full.csv και απομονώνουμε τις στήλες με τα χαρακτηριστικά που θα χρησιμοποιήσουμε (εργασία, αν έχει δανειακές υποχρεώσεις κλπ). Το αρχείο είναι διαθέσιμο [εδώ](https://raw.githubusercontent.com/nkostopoulos/StochasticsLabPublic/master/lab9/bank-full.csv) και θα πρέπει να το φορτώσετε στο colab."
   ],
   "metadata": {
    "id": "b7eJ-CAZFumE"
   }
  },
  {
   "cell_type": "code",
   "source": [
    "dataset = pd.read_csv('bank-full.csv',sep=None)"
   ],
   "metadata": {
    "id": "86ayppUSywGN"
   },
   "execution_count": 3,
   "outputs": [
    {
     "name": "stderr",
     "output_type": "stream",
     "text": [
      "C:\\Users\\User\\AppData\\Local\\Temp\\ipykernel_6172\\3887905473.py:1: ParserWarning: Falling back to the 'python' engine because the 'c' engine does not support sep=None with delim_whitespace=False; you can avoid this warning by specifying engine='python'.\n",
      "  dataset = pd.read_csv('bank-full.csv',sep=None)\n"
     ]
    }
   ]
  },
  {
   "cell_type": "code",
   "source": [
    "dataset.head()"
   ],
   "metadata": {
    "id": "BxZJ6WxiBhzz"
   },
   "execution_count": 4,
   "outputs": [
    {
     "data": {
      "text/plain": "   age           job  marital  education default  balance housing loan  \\\n0   58    management  married   tertiary      no     2143     yes   no   \n1   44    technician   single  secondary      no       29     yes   no   \n2   33  entrepreneur  married  secondary      no        2     yes  yes   \n3   47   blue-collar  married    unknown      no     1506     yes   no   \n4   33       unknown   single    unknown      no        1      no   no   \n\n   contact  day month  duration  campaign  pdays  previous poutcome   y  \n0  unknown    5   may       261         1     -1         0  unknown  no  \n1  unknown    5   may       151         1     -1         0  unknown  no  \n2  unknown    5   may        76         1     -1         0  unknown  no  \n3  unknown    5   may        92         1     -1         0  unknown  no  \n4  unknown    5   may       198         1     -1         0  unknown  no  ",
      "text/html": "<div>\n<style scoped>\n    .dataframe tbody tr th:only-of-type {\n        vertical-align: middle;\n    }\n\n    .dataframe tbody tr th {\n        vertical-align: top;\n    }\n\n    .dataframe thead th {\n        text-align: right;\n    }\n</style>\n<table border=\"1\" class=\"dataframe\">\n  <thead>\n    <tr style=\"text-align: right;\">\n      <th></th>\n      <th>age</th>\n      <th>job</th>\n      <th>marital</th>\n      <th>education</th>\n      <th>default</th>\n      <th>balance</th>\n      <th>housing</th>\n      <th>loan</th>\n      <th>contact</th>\n      <th>day</th>\n      <th>month</th>\n      <th>duration</th>\n      <th>campaign</th>\n      <th>pdays</th>\n      <th>previous</th>\n      <th>poutcome</th>\n      <th>y</th>\n    </tr>\n  </thead>\n  <tbody>\n    <tr>\n      <th>0</th>\n      <td>58</td>\n      <td>management</td>\n      <td>married</td>\n      <td>tertiary</td>\n      <td>no</td>\n      <td>2143</td>\n      <td>yes</td>\n      <td>no</td>\n      <td>unknown</td>\n      <td>5</td>\n      <td>may</td>\n      <td>261</td>\n      <td>1</td>\n      <td>-1</td>\n      <td>0</td>\n      <td>unknown</td>\n      <td>no</td>\n    </tr>\n    <tr>\n      <th>1</th>\n      <td>44</td>\n      <td>technician</td>\n      <td>single</td>\n      <td>secondary</td>\n      <td>no</td>\n      <td>29</td>\n      <td>yes</td>\n      <td>no</td>\n      <td>unknown</td>\n      <td>5</td>\n      <td>may</td>\n      <td>151</td>\n      <td>1</td>\n      <td>-1</td>\n      <td>0</td>\n      <td>unknown</td>\n      <td>no</td>\n    </tr>\n    <tr>\n      <th>2</th>\n      <td>33</td>\n      <td>entrepreneur</td>\n      <td>married</td>\n      <td>secondary</td>\n      <td>no</td>\n      <td>2</td>\n      <td>yes</td>\n      <td>yes</td>\n      <td>unknown</td>\n      <td>5</td>\n      <td>may</td>\n      <td>76</td>\n      <td>1</td>\n      <td>-1</td>\n      <td>0</td>\n      <td>unknown</td>\n      <td>no</td>\n    </tr>\n    <tr>\n      <th>3</th>\n      <td>47</td>\n      <td>blue-collar</td>\n      <td>married</td>\n      <td>unknown</td>\n      <td>no</td>\n      <td>1506</td>\n      <td>yes</td>\n      <td>no</td>\n      <td>unknown</td>\n      <td>5</td>\n      <td>may</td>\n      <td>92</td>\n      <td>1</td>\n      <td>-1</td>\n      <td>0</td>\n      <td>unknown</td>\n      <td>no</td>\n    </tr>\n    <tr>\n      <th>4</th>\n      <td>33</td>\n      <td>unknown</td>\n      <td>single</td>\n      <td>unknown</td>\n      <td>no</td>\n      <td>1</td>\n      <td>no</td>\n      <td>no</td>\n      <td>unknown</td>\n      <td>5</td>\n      <td>may</td>\n      <td>198</td>\n      <td>1</td>\n      <td>-1</td>\n      <td>0</td>\n      <td>unknown</td>\n      <td>no</td>\n    </tr>\n  </tbody>\n</table>\n</div>"
     },
     "execution_count": 4,
     "metadata": {},
     "output_type": "execute_result"
    }
   ]
  },
  {
   "cell_type": "code",
   "source": [
    "col_to_use = ['age','balance','day','duration','campaign','pdays','previous']\n",
    "data = dataset.drop(col_to_use,axis=1)"
   ],
   "metadata": {
    "id": "SEmiKBIEBprT"
   },
   "execution_count": 5,
   "outputs": []
  },
  {
   "cell_type": "code",
   "source": [
    "data.head()"
   ],
   "metadata": {
    "id": "R0VJ4MURBr8j"
   },
   "execution_count": 6,
   "outputs": [
    {
     "data": {
      "text/plain": "            job  marital  education default housing loan  contact month  \\\n0    management  married   tertiary      no     yes   no  unknown   may   \n1    technician   single  secondary      no     yes   no  unknown   may   \n2  entrepreneur  married  secondary      no     yes  yes  unknown   may   \n3   blue-collar  married    unknown      no     yes   no  unknown   may   \n4       unknown   single    unknown      no      no   no  unknown   may   \n\n  poutcome   y  \n0  unknown  no  \n1  unknown  no  \n2  unknown  no  \n3  unknown  no  \n4  unknown  no  ",
      "text/html": "<div>\n<style scoped>\n    .dataframe tbody tr th:only-of-type {\n        vertical-align: middle;\n    }\n\n    .dataframe tbody tr th {\n        vertical-align: top;\n    }\n\n    .dataframe thead th {\n        text-align: right;\n    }\n</style>\n<table border=\"1\" class=\"dataframe\">\n  <thead>\n    <tr style=\"text-align: right;\">\n      <th></th>\n      <th>job</th>\n      <th>marital</th>\n      <th>education</th>\n      <th>default</th>\n      <th>housing</th>\n      <th>loan</th>\n      <th>contact</th>\n      <th>month</th>\n      <th>poutcome</th>\n      <th>y</th>\n    </tr>\n  </thead>\n  <tbody>\n    <tr>\n      <th>0</th>\n      <td>management</td>\n      <td>married</td>\n      <td>tertiary</td>\n      <td>no</td>\n      <td>yes</td>\n      <td>no</td>\n      <td>unknown</td>\n      <td>may</td>\n      <td>unknown</td>\n      <td>no</td>\n    </tr>\n    <tr>\n      <th>1</th>\n      <td>technician</td>\n      <td>single</td>\n      <td>secondary</td>\n      <td>no</td>\n      <td>yes</td>\n      <td>no</td>\n      <td>unknown</td>\n      <td>may</td>\n      <td>unknown</td>\n      <td>no</td>\n    </tr>\n    <tr>\n      <th>2</th>\n      <td>entrepreneur</td>\n      <td>married</td>\n      <td>secondary</td>\n      <td>no</td>\n      <td>yes</td>\n      <td>yes</td>\n      <td>unknown</td>\n      <td>may</td>\n      <td>unknown</td>\n      <td>no</td>\n    </tr>\n    <tr>\n      <th>3</th>\n      <td>blue-collar</td>\n      <td>married</td>\n      <td>unknown</td>\n      <td>no</td>\n      <td>yes</td>\n      <td>no</td>\n      <td>unknown</td>\n      <td>may</td>\n      <td>unknown</td>\n      <td>no</td>\n    </tr>\n    <tr>\n      <th>4</th>\n      <td>unknown</td>\n      <td>single</td>\n      <td>unknown</td>\n      <td>no</td>\n      <td>no</td>\n      <td>no</td>\n      <td>unknown</td>\n      <td>may</td>\n      <td>unknown</td>\n      <td>no</td>\n    </tr>\n  </tbody>\n</table>\n</div>"
     },
     "execution_count": 6,
     "metadata": {},
     "output_type": "execute_result"
    }
   ]
  },
  {
   "cell_type": "code",
   "source": [
    "data = data.apply(LabelEncoder().fit_transform)"
   ],
   "metadata": {
    "id": "Ne8KiG-9Bwk7"
   },
   "execution_count": 7,
   "outputs": []
  },
  {
   "cell_type": "code",
   "source": [
    "data.head()"
   ],
   "metadata": {
    "id": "fsTCBqDwBzvj"
   },
   "execution_count": 8,
   "outputs": [
    {
     "data": {
      "text/plain": "   job  marital  education  default  housing  loan  contact  month  poutcome  \\\n0    4        1          2        0        1     0        2      8         3   \n1    9        2          1        0        1     0        2      8         3   \n2    2        1          1        0        1     1        2      8         3   \n3    1        1          3        0        1     0        2      8         3   \n4   11        2          3        0        0     0        2      8         3   \n\n   y  \n0  0  \n1  0  \n2  0  \n3  0  \n4  0  ",
      "text/html": "<div>\n<style scoped>\n    .dataframe tbody tr th:only-of-type {\n        vertical-align: middle;\n    }\n\n    .dataframe tbody tr th {\n        vertical-align: top;\n    }\n\n    .dataframe thead th {\n        text-align: right;\n    }\n</style>\n<table border=\"1\" class=\"dataframe\">\n  <thead>\n    <tr style=\"text-align: right;\">\n      <th></th>\n      <th>job</th>\n      <th>marital</th>\n      <th>education</th>\n      <th>default</th>\n      <th>housing</th>\n      <th>loan</th>\n      <th>contact</th>\n      <th>month</th>\n      <th>poutcome</th>\n      <th>y</th>\n    </tr>\n  </thead>\n  <tbody>\n    <tr>\n      <th>0</th>\n      <td>4</td>\n      <td>1</td>\n      <td>2</td>\n      <td>0</td>\n      <td>1</td>\n      <td>0</td>\n      <td>2</td>\n      <td>8</td>\n      <td>3</td>\n      <td>0</td>\n    </tr>\n    <tr>\n      <th>1</th>\n      <td>9</td>\n      <td>2</td>\n      <td>1</td>\n      <td>0</td>\n      <td>1</td>\n      <td>0</td>\n      <td>2</td>\n      <td>8</td>\n      <td>3</td>\n      <td>0</td>\n    </tr>\n    <tr>\n      <th>2</th>\n      <td>2</td>\n      <td>1</td>\n      <td>1</td>\n      <td>0</td>\n      <td>1</td>\n      <td>1</td>\n      <td>2</td>\n      <td>8</td>\n      <td>3</td>\n      <td>0</td>\n    </tr>\n    <tr>\n      <th>3</th>\n      <td>1</td>\n      <td>1</td>\n      <td>3</td>\n      <td>0</td>\n      <td>1</td>\n      <td>0</td>\n      <td>2</td>\n      <td>8</td>\n      <td>3</td>\n      <td>0</td>\n    </tr>\n    <tr>\n      <th>4</th>\n      <td>11</td>\n      <td>2</td>\n      <td>3</td>\n      <td>0</td>\n      <td>0</td>\n      <td>0</td>\n      <td>2</td>\n      <td>8</td>\n      <td>3</td>\n      <td>0</td>\n    </tr>\n  </tbody>\n</table>\n</div>"
     },
     "execution_count": 8,
     "metadata": {},
     "output_type": "execute_result"
    }
   ]
  },
  {
   "cell_type": "code",
   "source": [
    "print(data['job'].unique())"
   ],
   "metadata": {
    "id": "pq2Dc_-iB3P7"
   },
   "execution_count": 9,
   "outputs": [
    {
     "name": "stdout",
     "output_type": "stream",
     "text": [
      "[ 4  9  2  1 11  5  0  7  6 10  3  8]\n"
     ]
    }
   ]
  },
  {
   "cell_type": "code",
   "source": [
    "print(dataset['job'].unique())"
   ],
   "metadata": {
    "id": "oiruDF0kB6Yz"
   },
   "execution_count": 10,
   "outputs": [
    {
     "name": "stdout",
     "output_type": "stream",
     "text": [
      "['management' 'technician' 'entrepreneur' 'blue-collar' 'unknown'\n",
      " 'retired' 'admin.' 'services' 'self-employed' 'unemployed' 'housemaid'\n",
      " 'student']\n"
     ]
    }
   ]
  },
  {
   "cell_type": "code",
   "source": [
    "data_rest = dataset[col_to_use]\n",
    "data_rest.head()"
   ],
   "metadata": {
    "id": "2uQ7vgqsB9h7"
   },
   "execution_count": 11,
   "outputs": [
    {
     "data": {
      "text/plain": "   age  balance  day  duration  campaign  pdays  previous\n0   58     2143    5       261         1     -1         0\n1   44       29    5       151         1     -1         0\n2   33        2    5        76         1     -1         0\n3   47     1506    5        92         1     -1         0\n4   33        1    5       198         1     -1         0",
      "text/html": "<div>\n<style scoped>\n    .dataframe tbody tr th:only-of-type {\n        vertical-align: middle;\n    }\n\n    .dataframe tbody tr th {\n        vertical-align: top;\n    }\n\n    .dataframe thead th {\n        text-align: right;\n    }\n</style>\n<table border=\"1\" class=\"dataframe\">\n  <thead>\n    <tr style=\"text-align: right;\">\n      <th></th>\n      <th>age</th>\n      <th>balance</th>\n      <th>day</th>\n      <th>duration</th>\n      <th>campaign</th>\n      <th>pdays</th>\n      <th>previous</th>\n    </tr>\n  </thead>\n  <tbody>\n    <tr>\n      <th>0</th>\n      <td>58</td>\n      <td>2143</td>\n      <td>5</td>\n      <td>261</td>\n      <td>1</td>\n      <td>-1</td>\n      <td>0</td>\n    </tr>\n    <tr>\n      <th>1</th>\n      <td>44</td>\n      <td>29</td>\n      <td>5</td>\n      <td>151</td>\n      <td>1</td>\n      <td>-1</td>\n      <td>0</td>\n    </tr>\n    <tr>\n      <th>2</th>\n      <td>33</td>\n      <td>2</td>\n      <td>5</td>\n      <td>76</td>\n      <td>1</td>\n      <td>-1</td>\n      <td>0</td>\n    </tr>\n    <tr>\n      <th>3</th>\n      <td>47</td>\n      <td>1506</td>\n      <td>5</td>\n      <td>92</td>\n      <td>1</td>\n      <td>-1</td>\n      <td>0</td>\n    </tr>\n    <tr>\n      <th>4</th>\n      <td>33</td>\n      <td>1</td>\n      <td>5</td>\n      <td>198</td>\n      <td>1</td>\n      <td>-1</td>\n      <td>0</td>\n    </tr>\n  </tbody>\n</table>\n</div>"
     },
     "execution_count": 11,
     "metadata": {},
     "output_type": "execute_result"
    }
   ]
  },
  {
   "cell_type": "code",
   "source": [
    "dataset2 = pd.concat([data_rest,data],axis=1)"
   ],
   "metadata": {
    "id": "bAIpmkjGCCdT"
   },
   "execution_count": 12,
   "outputs": []
  },
  {
   "cell_type": "code",
   "source": [
    "dataset2.head()"
   ],
   "metadata": {
    "id": "S2e_EIlxCE_z"
   },
   "execution_count": 13,
   "outputs": [
    {
     "data": {
      "text/plain": "   age  balance  day  duration  campaign  pdays  previous  job  marital  \\\n0   58     2143    5       261         1     -1         0    4        1   \n1   44       29    5       151         1     -1         0    9        2   \n2   33        2    5        76         1     -1         0    2        1   \n3   47     1506    5        92         1     -1         0    1        1   \n4   33        1    5       198         1     -1         0   11        2   \n\n   education  default  housing  loan  contact  month  poutcome  y  \n0          2        0        1     0        2      8         3  0  \n1          1        0        1     0        2      8         3  0  \n2          1        0        1     1        2      8         3  0  \n3          3        0        1     0        2      8         3  0  \n4          3        0        0     0        2      8         3  0  ",
      "text/html": "<div>\n<style scoped>\n    .dataframe tbody tr th:only-of-type {\n        vertical-align: middle;\n    }\n\n    .dataframe tbody tr th {\n        vertical-align: top;\n    }\n\n    .dataframe thead th {\n        text-align: right;\n    }\n</style>\n<table border=\"1\" class=\"dataframe\">\n  <thead>\n    <tr style=\"text-align: right;\">\n      <th></th>\n      <th>age</th>\n      <th>balance</th>\n      <th>day</th>\n      <th>duration</th>\n      <th>campaign</th>\n      <th>pdays</th>\n      <th>previous</th>\n      <th>job</th>\n      <th>marital</th>\n      <th>education</th>\n      <th>default</th>\n      <th>housing</th>\n      <th>loan</th>\n      <th>contact</th>\n      <th>month</th>\n      <th>poutcome</th>\n      <th>y</th>\n    </tr>\n  </thead>\n  <tbody>\n    <tr>\n      <th>0</th>\n      <td>58</td>\n      <td>2143</td>\n      <td>5</td>\n      <td>261</td>\n      <td>1</td>\n      <td>-1</td>\n      <td>0</td>\n      <td>4</td>\n      <td>1</td>\n      <td>2</td>\n      <td>0</td>\n      <td>1</td>\n      <td>0</td>\n      <td>2</td>\n      <td>8</td>\n      <td>3</td>\n      <td>0</td>\n    </tr>\n    <tr>\n      <th>1</th>\n      <td>44</td>\n      <td>29</td>\n      <td>5</td>\n      <td>151</td>\n      <td>1</td>\n      <td>-1</td>\n      <td>0</td>\n      <td>9</td>\n      <td>2</td>\n      <td>1</td>\n      <td>0</td>\n      <td>1</td>\n      <td>0</td>\n      <td>2</td>\n      <td>8</td>\n      <td>3</td>\n      <td>0</td>\n    </tr>\n    <tr>\n      <th>2</th>\n      <td>33</td>\n      <td>2</td>\n      <td>5</td>\n      <td>76</td>\n      <td>1</td>\n      <td>-1</td>\n      <td>0</td>\n      <td>2</td>\n      <td>1</td>\n      <td>1</td>\n      <td>0</td>\n      <td>1</td>\n      <td>1</td>\n      <td>2</td>\n      <td>8</td>\n      <td>3</td>\n      <td>0</td>\n    </tr>\n    <tr>\n      <th>3</th>\n      <td>47</td>\n      <td>1506</td>\n      <td>5</td>\n      <td>92</td>\n      <td>1</td>\n      <td>-1</td>\n      <td>0</td>\n      <td>1</td>\n      <td>1</td>\n      <td>3</td>\n      <td>0</td>\n      <td>1</td>\n      <td>0</td>\n      <td>2</td>\n      <td>8</td>\n      <td>3</td>\n      <td>0</td>\n    </tr>\n    <tr>\n      <th>4</th>\n      <td>33</td>\n      <td>1</td>\n      <td>5</td>\n      <td>198</td>\n      <td>1</td>\n      <td>-1</td>\n      <td>0</td>\n      <td>11</td>\n      <td>2</td>\n      <td>3</td>\n      <td>0</td>\n      <td>0</td>\n      <td>0</td>\n      <td>2</td>\n      <td>8</td>\n      <td>3</td>\n      <td>0</td>\n    </tr>\n  </tbody>\n</table>\n</div>"
     },
     "execution_count": 13,
     "metadata": {},
     "output_type": "execute_result"
    }
   ]
  },
  {
   "cell_type": "markdown",
   "source": [
    "**Βήμα 3ο**: Σπάμε στο dataset σε train και test dataset και κάνουμε scale με τη χρήση της συνάρτησης StandardScaler()"
   ],
   "metadata": {
    "id": "7XPsWym0Gqmz"
   }
  },
  {
   "cell_type": "code",
   "source": [
    "X= dataset2.drop('y',axis=1)\n",
    "y= dataset2['y']\n",
    "\n",
    "X_train, X_test, y_train, y_test= train_test_split(X,y, test_size= 0.33, random_state= 4)"
   ],
   "metadata": {
    "id": "B1h_X0e7CI9b"
   },
   "execution_count": 14,
   "outputs": []
  },
  {
   "cell_type": "code",
   "source": [
    "scaler = StandardScaler()\n",
    "X_train = scaler.fit_transform(X_train)\n",
    "X_test = scaler.transform(X_test)"
   ],
   "metadata": {
    "id": "gTd1fz7sCMit"
   },
   "execution_count": 15,
   "outputs": []
  },
  {
   "cell_type": "code",
   "source": [
    "print(X_train)"
   ],
   "metadata": {
    "id": "AvrG8ucrCN8j"
   },
   "execution_count": 16,
   "outputs": [
    {
     "name": "stdout",
     "output_type": "stream",
     "text": [
      "[[ 3.39736083 -0.45852779  0.14087303 ... -0.71332324 -1.50513854\n",
      "   0.44672656]\n",
      " [-0.27605947  2.43941798  0.50067953 ...  0.40010942 -1.83733874\n",
      "  -2.58685457]\n",
      " [ 0.66584317 -0.13326522 -0.93854645 ... -0.71332324  1.48466323\n",
      "  -0.56446715]\n",
      " ...\n",
      " [-0.74701079 -0.22619739  0.62061503 ... -0.71332324  1.15246303\n",
      "   0.44672656]\n",
      " [ 1.60774581 -0.42275894 -1.53822394 ...  1.51354209  0.15586244\n",
      "   0.44672656]\n",
      " [ 0.28908211 -0.13627382  1.58009901 ... -0.71332324 -0.17633776\n",
      "   0.44672656]]\n"
     ]
    }
   ]
  },
  {
   "cell_type": "markdown",
   "source": [
    "**Βήμα 4ο**: Ορίζουμε τα κέντρα των νευρώνων με τη χρήση του k-means. Αρχικά τρέχει ο αλγόριθμος k-means για να βρούμε τα κέντρα και την τυπική απόκλιση των clusters."
   ],
   "metadata": {
    "id": "XUomduVEG593"
   }
  },
  {
   "cell_type": "code",
   "source": [
    "K_cent= 8\n",
    "km= KMeans(n_clusters= K_cent, max_iter= 100)\n",
    "km.fit(X_train)\n",
    "cent= km.cluster_centers_"
   ],
   "metadata": {
    "id": "--5b0xEXCVl7"
   },
   "execution_count": 17,
   "outputs": []
  },
  {
   "cell_type": "code",
   "source": [
    "max=0 \n",
    "for i in range(K_cent):\n",
    "\tfor j in range(K_cent):\n",
    "\t\td= np.linalg.norm(cent[i]-cent[j])\n",
    "\t\tif(d> max):\n",
    "\t\t\tmax= d\n",
    "d= max\n",
    "\n",
    "sigma= d/math.sqrt(2*K_cent)"
   ],
   "metadata": {
    "id": "3sJgNJmQCXrM"
   },
   "execution_count": 18,
   "outputs": []
  },
  {
   "cell_type": "markdown",
   "source": [
    "Βήμα 5ο: Δημιουργούμε τον πίνακα σχέσεων F (γραμμικός συνδυασμός των Κ συναρτήσεων βάσης φj(x)."
   ],
   "metadata": {
    "id": "YJmzjR2gHNal"
   }
  },
  {
   "cell_type": "code",
   "source": [
    "shape= X_train.shape\n",
    "row= shape[0]\n",
    "column= K_cent\n",
    "F= np.empty((row,column), dtype= float)"
   ],
   "metadata": {
    "id": "sY7PlwoFCaxE"
   },
   "execution_count": 19,
   "outputs": []
  },
  {
   "cell_type": "code",
   "source": [
    "for i in range(row):\n",
    "  for j in range(column):\n",
    "    dist= np.linalg.norm(X_train[i]-cent[j])\n",
    "    F[i][j]= math.exp(-math.pow(dist,2)/math.pow(2*sigma,2))"
   ],
   "metadata": {
    "id": "erGPJDpSCfIL"
   },
   "execution_count": 20,
   "outputs": []
  },
  {
   "cell_type": "markdown",
   "source": [
    "**Βήμα 6ο**: Βρίσκουμε τον πίνακα βάρους W για την εκπαίδευση του δικτύου"
   ],
   "metadata": {
    "id": "2M4gFE3FHtbO"
   }
  },
  {
   "cell_type": "code",
   "source": [
    "FTG= np.dot(F.T,F)\n",
    "FTG_inv= np.linalg.inv(FTG)\n",
    "fac= np.dot(FTG_inv,F.T)\n",
    "W= np.dot(fac,y_train)"
   ],
   "metadata": {
    "id": "iTD1cf7jCipb"
   },
   "execution_count": 21,
   "outputs": []
  },
  {
   "cell_type": "markdown",
   "source": [
    "**Βήμα 7ο**: Ρύθμιση του πίνακα F για το test dataset"
   ],
   "metadata": {
    "id": "wrH3spL_H2vd"
   }
  },
  {
   "cell_type": "code",
   "source": [
    "row= X_test.shape[0]\n",
    "column= K_cent\n",
    "F_test= np.empty((row,column), dtype= float)\n",
    "for i in range(row):\n",
    "\tfor j in range(column):\n",
    "\t\tdist= np.linalg.norm(X_test[i]-cent[j])\n",
    "\t\tF_test[i][j]= math.exp(-math.pow(dist,2)/math.pow(2*sigma,2))"
   ],
   "metadata": {
    "id": "sH8s9fozClDj"
   },
   "execution_count": 22,
   "outputs": []
  },
  {
   "cell_type": "markdown",
   "source": [
    "**Βήμα 8ο**: Ακρίβεια πρόβλεψης στο test dataset"
   ],
   "metadata": {
    "id": "DItcYmHIIE0O"
   }
  },
  {
   "cell_type": "code",
   "source": [
    "prediction= np.dot(F_test,W)\n",
    "prediction= 0.5*(np.sign(prediction-0.5)+1)\n",
    "\n",
    "score= accuracy_score(prediction,y_test)\n",
    "print(score.mean())"
   ],
   "metadata": {
    "id": "SSgzAWxfCmtL"
   },
   "execution_count": 23,
   "outputs": [
    {
     "name": "stdout",
     "output_type": "stream",
     "text": [
      "0.8876675603217158\n"
     ]
    }
   ]
  },
  {
   "cell_type": "markdown",
   "source": [
    "## Ερωτήσεις\n",
    "\n",
    "**Ερώτηση 1**: Να αναφέρετε επιγραμματικά με ποιον τρόπο λειτουργεί ένα νευρωνικό δίκτυο RBF\n",
    "\n",
    "**Ερώτηση 2**:Με ποιούς τρόπους μπορούμε να υπολογίσουμε τα βάρη στα hidden layers; Ποιες διαφορές υπάρχουν στους τρόπους αυτούς; Ποιος παρέχει τη καλύτερη δυνατή λύση;\n",
    "\n",
    "**Ερώτηση 3**: Επιχειρήστε να αλλάξετε την τιμή του k σε 10 και στη συνέχεια σε 50. Τι παρατηρείτε ως προς την ακρίβεια των αποτελεσμάτων;"
   ],
   "metadata": {
    "id": "yQ5z71wlsEbk"
   }
  },
  {
   "cell_type": "markdown",
   "source": [
    "**Ερώτηση 1**\n",
    "Να αναφέρετε επιγραμματικά με ποιον τρόπο λειτουργεί ένα νευρωνικό δίκτυο RBF\n",
    "\n",
    "Τα νευρωνικά δίκτυα συναρτήσεων πυρήνα RBF (radial basis function networks) είναι δίκτυα πρόσθιας τροφοδότησης (feedforward) που χρησιμοποιούνται σε προβλήματα επιβλεπόμενης μηχανικής μάθησης. Είναι δίκτυα εναλλακτικά των MLP, τα οποία ωστόσο υλοποιούν απεικονίσεις από το χώρο εισόδων στο χώρο εξόδων όπως και το MLP έχοντας, όμως, εντελώς διαφορετική λειτουργία κρυμμένου επιπέδου. Στο ακόλουθο σχήμα φαίνεται η δομή ενός τέτοιου νευρωνικού δικτύου.\n",
    "\n",
    "<img src=\"lab9_part1_rbf_network.jpg\"></img>\n",
    "\n",
    "Τα δίκτυα αυτά περιέχουν μονάχα ένα κρυφό επίπεδο (hidden layer), οι νευρώνες του οποίου υπολογίζουν μια συνάρτηση $h_j(\\vec{x})$ του διανύσματος εισόδου του δικτύου $\\vec{x}$.\n",
    "\n",
    "Αν ένα δίκτυο RBF έχει τα εξής χαρακτηριστικά:\n",
    "- $d$ διάσταση εισόδου\n",
    "- $Μ$ νευρώνες στο hidden layer\n",
    "- $p$ διάσταση εξόδου\n",
    "\n",
    "τότε, για είσοδο $\\vec{x} = (x_1,x_2,...,x_d)^T$, και έξοδο $\\vec{o}$ με συνιστώσες $o_i$, $i=1,2,...,p$, τότε αυτές υπολογίζονται ως:\n",
    "\n",
    "$o_{i}(\\vec{x})=v_{i 0}+\\sum_{j=1}^{M} v_{i j} h_{j}(\\vec{x})$\n",
    "\n",
    "με $v_{ij}$ να είναι το βάρος που συνδέει τον νευρώνα $j$, ($j=1,2,...,M$) του hidden layer με το νευρώνα εξόδου $i$, ($i=1,2,...,p$) και $v_{i0}$ είναι η πόλωση/bias του νευρώνα εξόδου $i$. Οι νευρώνες εξόδου είναι τυπικοί νευρώνες εσωτερικού γινομένου κατ' αναλογία με το MLP με γραμμική συνάρτηση ενεργοποίησης.\n",
    "\n",
    "Οι συναρτήσεις RBF υπεισέρχονται στους κρυμμένους νευρώνες, οι οποίοι υπολογίζουν τις συναρτήσεις $h(\\vec{x})$, οι οποίες λέγονται **ακτινικές συναρτήσεις βάσης (radial basis functions)**.\n",
    "Οι συναρτήσεις αυτές έχουν την εξής μορφή: υπάρχει ένα σημείο το οποίο λέγεται κέντρο και όπου οι συναρτήσεις αυτές παρέχουν μέγιστη τιμή, ενώ απομακρυνόμενοι από το σημείο αυτό η τιμή της συνάρτησης μειώνεται αρκετά γρήγορα.\n",
    "\n",
    "Παράδειγμα ακτινικής συνάρτησης βάσης είναι η συνάρτηση Gauss, γνωστή και ως πυρήνας (kernel) RBF.\n",
    "$h_{j}(\\vec{x})=\\exp \\left(-\\frac{\\left\\|\\vec{x}-\\vec{w_{j}}\\right\\|^{2}}{2 \\sigma_{j}^{2}}\\right)=\\exp \\left(-\\frac{\\sum_{i=1}^{d}\\left(x_{i}-w_{ji}\\right)^{2}}{2 \\sigma_{j}^{2}}\\right)$,\n",
    "\n",
    "όπου το δίανυσμα βαρών $\\vec{w_j}=(w_{j1}, w_{j2}, ..., w_{jd})^T$ καθορίζει το κέντρο της συνάρτησης $h_{j}(\\vec{x})$, ενώ η παράμετρος $\\sigma_{j}$ καθορίζει την ακτίνα της συνάρτησης. Η συνάρτηση μεγιστοποιείται στο κέντρο για $\\vec{x}=\\vec{w_j}$ με μέγιστη τιμή $h_j(\\vec{x}=\\vec{w_j})=exp(0)=1$, με την τιμή της να ελατώνεται εκθετικά απομακρυνόμενοι από το κέντρο. Η ελάττωση αυτή καθορίζεται από την τιμή της ακτίνας $\\sigma_{j}$, όπου για μικρές τιμές της ο ρυθμός μείωσης είναι μεγάλος ενώ το αντίθετο συμβαίνει για μεγάλες τιμές της ακτίνας.\n",
    "\n",
    "Συνεπώς, κάθε συνάρτηση RBF $h_{j}(\\vec{x})$ χαρακτηρίζεται από μια σφαιρική περιοχή (υπερσφαίρα στις $d$ διαστάσεις) εμβέλειας, εκτός της οποίας η συνάρτηση παίρνει αμελητέες τιμές. Όταν, λοιπόν, ένα διάνυσμα εισόδου $\\vec{x}$ μπει ως είσοδος στο δίκτυο RBF, οι hidden neurons που περιέχουν το $\\vec{x}$ στην περιοχή εμβέλειάς τους, θα δώσουν μεγάλη τιμή εξόδου.\n",
    "\n",
    "Αν σε ένα πρόβλημα, είναι γνωστό πως τα δεδομένα εκπαίδευσης για πρόβλημα ταξινόμησης σχηματίζουν κατά προσέγγιση σφαιρικές και διακριτές ομάδες, και τα δεδομένα κάθε ομάδας είναι της ίδιας κατηγορίας, τότε για κάθε ομάδα δεδομένων, μπορεί να οριστεί ένας νευρώνας RBF με κέντρο το κέντρο της αντίστοιχης ομάδας και ακτίνα τη διασπορά της ομάδας. Τότε για μια είσοδο $\\vec{x}$, η τιμή της εξόδου $h_j(\\vec{x})$ του κρυφού νευρώνα $j$ δηλώνει αν το $\\vec{x}$ ανήκει στην ομάδα $j$. Άρα το δεδομένο εισόδου $\\vec{x}$ απεικονίζεται στο διάνυσμα $\\vec{h}(\\vec{x})=(h_1(\\vec{x}), h_2(\\vec{x}), ..., h_M(\\vec{x}))$, που δείχνει το βαθμό στον οποίο το x ανήκει σε κάποια απ' τις ομάδες. Εν συνεχεία, είναι εύκολο να καθοριστούν τα βάρη του επιπέδου εξόδου, ώστε ο κρυμμένος νευρώνας που αντιστοιχεί σε στην ομάδα κατηγορίας έστω $C_k$ να διεγείρει μόνο τον αντίστοιχο νευρώνα εξόδου $k$.\n",
    "\n",
    "Συμπερασματικά, οι **παράμετροι/βάρη** του δικτύου RBF ου πρέπει να καθοριστούν **κατά τη διάρκεια εκπαίδευσης** του δικτύου είναι:\n",
    "- **$M \\cdot d$**: τα κέντρα δηλαδή $\\vec{w}_j=(w_{j1}, w_{j2}, ..., w_{jd})T$ των ακτινικών συναρτήσεων βάσης, άρα των αντίστοιχων νευρώνων RBF του κρυφού επιπέδου\n",
    "- **$M$**: οι ακτίνες δηλαδή $\\sigma_j$  των ακτινικών συναρτήσεων βάσης, άρα των αντίστοιχων νευρώνων RBF του κρυφού επιπέδου\n",
    "- **$(Μ+1)\\cdot p$**: Οι παράμετροι δηλαδή του επιπέδου εξόδου συμπεριλαμβανομένων των biases των νευρώνων εξόδου\n",
    "\n",
    "**ΣΥΝΟΛΟ ΠΑΡΑΜΕΤΡΩΝ ΠΡΟΣ ΕΚΤΙΜΗΣΗ**: $M \\cdot d + M + (M+1) \\cdot p = M \\cdot (d+p+1) + p$\n"
   ],
   "metadata": {
    "collapsed": false,
    "pycharm": {
     "name": "#%% md\n"
    }
   }
  },
  {
   "cell_type": "markdown",
   "source": [
    "**Ερώτηση 2**\n",
    "Με ποιούς τρόπους μπορούμε να υπολογίσουμε τα βάρη στα hidden layers; Ποιες διαφορές υπάρχουν στους τρόπους αυτούς; Ποιος παρέχει τη καλύτερη δυνατή λύση;"
   ],
   "metadata": {
    "collapsed": false,
    "pycharm": {
     "name": "#%% md\n"
    }
   }
  },
  {
   "cell_type": "markdown",
   "source": [
    "Τα δίκτυα RBF έχουν δύο τύπους βαρών/παραμέτρων προς εκμάθηση.\n",
    "- **Τα βάρη $\\vec{w}$** που αναπαριστούν τις συντεταγμένες των κέντρων των κρυμμένων νευρώνων\n",
    "- **Τα βάρη $\\vec{v}$** που είναι τα κλασικά βάρη των νευρώνων στο επίπεδο εξόδου όπως και σε ένα MLP και τα οποία ορίζουν την εξίσωση υπερεπιπέδου για τους νευρώνες εξόδου.\n",
    "\n",
    "Για την εκτίμηση των παραμέτρων που αναφέρθηκαν παραπάνω, υπάρχουν δύο μέθοδοι εκπαίδευσης:\n",
    "- **Ενιαία εκπαίδευση** για όλους τους τύπους παραμέτρων/βαρών\n",
    "- **Εκπαίδευση δύο σταδίων**\n",
    "\n",
    "Στην **ενιαία εκπαίδευση**, ορίζοντας τη συνάρτηση σφάλματος (πχ µέσο τετραγωνικό σφάλµα), μπορούμε έπειτα να εφαρμόσουμε Gradient descent. Τα βάρη $\\vec{v}$ αρχικοποιούνται τυχαία όπως σε ένα MLP. Ωστόσο αν τα βάρη $\\vec{w}$ των κέντρων των κρυφών νευρώνων (δηλαδή των συναρτήσεων ακτινικής βάσης) αρχικοποιούνται τυχαία, τότε η μέθοδος gradient descent είναι δύσκολο να αποφύγει τοπικά ελάχιστα. Αν, ωστόσο, για τα κέντρα και τις ακτίνες γίνει αρχικοποίηση με καλές τιμές τότε η gradient descent θα οδηγήσει σε καλές λύσεις. Για το λόγο αυτό, καθώς **επιθυμούμε τα κέντρα των κρυφών νευρώνων RBF να τοποθετούνται σε κέντρα ομάδων** που υπάρχουν στα δεδομένα εκπαίδευσης, η μέθοδος **εκπαίδευσης δύο σταδίων** προτιμάται.\n",
    "\n",
    "Στη μέθοδο **εκπαίδευσης δύο σταδίων**:\n",
    "\n",
    "**ΣΤΑΔΙΟ 1**:\n",
    "- Αρχικά, χρησιμοποιείται το σύνολο των δεδομένων εκπαίδευσης για τον καθορισμό των νευρώνων RBF $X=\\{ \\vec{x}^{(1)}, \\vec{x}^{(2)}, ..., \\vec{x}^{(n)} \\}$, όπου έχουμε $n$ τον αριθμό δειγματικά στοιχεία συνόλου εκπαίδευσης και το $i$-οστό διάνυσμα εισόδου είναι το $\\vec{x}^{(i)} = (x^{(i)}_1,x^{(i)}_2,...,x^{(i)}_d)^T$\n",
    "- Αγνοειται η πληροφορία σχετικά με την κατηγορία κάθε προτύπου εκπαίδευσης\n",
    "- Εφαρμόζεται κάποια μέθοδος ομαδοποίησης/συσταδοποίησης, λόγου χάρη k-means. Από εκεί, προκύπτουν τα κέντρα των ομάδων $\\vec{w_j}$, ενώ ο καθορισμός της ακτίνας γίνεται υπολογίζοντας τη διασπορά των δεδομένων κάθε ομάδας $\\sigma_{\\mathrm{j}}^{2}=\\frac{1}{\\mathrm{~N}_{\\mathrm{j}}} \\sum_{\\mathrm{χ}^{\\mathrm{n}} \\in \\mathrm{O}_{\\mathrm{j}}}\\left\\|\\mathrm{x}^{\\mathrm{n}}-\\mathrm{w}_{\\mathrm{j}}\\right\\|^{2}$\n",
    "\n",
    "**ΣΤΑΔΙΟ 2**\n",
    "Για το δεύτερο στάδιο μπορούν να γίνουν δύο επιλογές:\n",
    "1. Τα βάρη $w_{ij}$ και $\\sigma_j$ παραμένουν σταθερά στις τιμές που καθορίστηκαν στο 1ο στάδιο και απομένει η εύρεση μόνο των βαρών $v_{ij}$ και των biases $v_{i0}$ του επιπέδου εξόδου. Στην περίπτωση αυτή προσδιορίζονται τα βάρη αυτά με τη μέθοδο gradient descent.\n",
    "2. Εφαρμογή gradient descent όπως στην περίπτωση της ενιαίας εκπαίδευσης, αρχικοποιώντας όμως τα κέντρα και τις ακτίνες RBF στις τιμές που προέκυψαν από το 1ο στάδιο.\n"
   ],
   "metadata": {
    "collapsed": false,
    "pycharm": {
     "name": "#%% md\n"
    }
   }
  },
  {
   "cell_type": "markdown",
   "source": [
    "**Ερώτηση 3**:\n",
    "Επιχειρήστε να αλλάξετε την τιμή του k σε 10 και στη συνέχεια σε 50. Τι παρατηρείτε ως προς την ακρίβεια των αποτελεσμάτων;"
   ],
   "metadata": {
    "collapsed": false,
    "pycharm": {
     "name": "#%% md\n"
    }
   }
  },
  {
   "cell_type": "markdown",
   "source": [
    "k=10"
   ],
   "metadata": {
    "collapsed": false,
    "pycharm": {
     "name": "#%% md\n"
    }
   }
  },
  {
   "cell_type": "code",
   "execution_count": 25,
   "outputs": [
    {
     "name": "stdout",
     "output_type": "stream",
     "text": [
      "0.8914209115281502\n"
     ]
    }
   ],
   "source": [
    "K_cent= 10\n",
    "km= KMeans(n_clusters= K_cent, max_iter= 100)\n",
    "km.fit(X_train)\n",
    "cent= km.cluster_centers_\n",
    "\n",
    "max=0\n",
    "for i in range(K_cent):\n",
    "\tfor j in range(K_cent):\n",
    "\t\td= np.linalg.norm(cent[i]-cent[j])\n",
    "\t\tif(d> max):\n",
    "\t\t\tmax= d\n",
    "d= max\n",
    "\n",
    "sigma= d/math.sqrt(2*K_cent)\n",
    "\n",
    "shape= X_train.shape\n",
    "row= shape[0]\n",
    "column= K_cent\n",
    "F= np.empty((row,column), dtype= float)\n",
    "\n",
    "for i in range(row):\n",
    "  for j in range(column):\n",
    "    dist= np.linalg.norm(X_train[i]-cent[j])\n",
    "    F[i][j]= math.exp(-math.pow(dist,2)/math.pow(2*sigma,2))\n",
    "\n",
    "FTG= np.dot(F.T,F)\n",
    "FTG_inv= np.linalg.inv(FTG)\n",
    "fac= np.dot(FTG_inv,F.T)\n",
    "W= np.dot(fac,y_train)\n",
    "\n",
    "row= X_test.shape[0]\n",
    "column= K_cent\n",
    "F_test= np.empty((row,column), dtype= float)\n",
    "for i in range(row):\n",
    "\tfor j in range(column):\n",
    "\t\tdist= np.linalg.norm(X_test[i]-cent[j])\n",
    "\t\tF_test[i][j]= math.exp(-math.pow(dist,2)/math.pow(2*sigma,2))\n",
    "\n",
    "\n",
    "prediction= np.dot(F_test,W)\n",
    "prediction= 0.5*(np.sign(prediction-0.5)+1)\n",
    "\n",
    "score= accuracy_score(prediction,y_test)\n",
    "print(score.mean())"
   ],
   "metadata": {
    "collapsed": false,
    "pycharm": {
     "name": "#%%\n"
    }
   }
  },
  {
   "cell_type": "markdown",
   "source": [
    "Παρατηρούμε πως αυξάνοντας τον αριθμό των κέντρων στον k-means, k από 8 σε 10, το score αυξάνεται από 88.77% σε 89.14%."
   ],
   "metadata": {
    "collapsed": false,
    "pycharm": {
     "name": "#%% md\n"
    }
   }
  },
  {
   "cell_type": "markdown",
   "source": [
    "k=50"
   ],
   "metadata": {
    "collapsed": false,
    "pycharm": {
     "name": "#%% md\n"
    }
   }
  },
  {
   "cell_type": "code",
   "execution_count": 26,
   "outputs": [
    {
     "name": "stdout",
     "output_type": "stream",
     "text": [
      "0.8949061662198391\n"
     ]
    }
   ],
   "source": [
    "K_cent= 50\n",
    "km= KMeans(n_clusters= K_cent, max_iter= 100)\n",
    "km.fit(X_train)\n",
    "cent= km.cluster_centers_\n",
    "\n",
    "max=0\n",
    "for i in range(K_cent):\n",
    "\tfor j in range(K_cent):\n",
    "\t\td= np.linalg.norm(cent[i]-cent[j])\n",
    "\t\tif(d> max):\n",
    "\t\t\tmax= d\n",
    "d= max\n",
    "\n",
    "sigma= d/math.sqrt(2*K_cent)\n",
    "\n",
    "shape= X_train.shape\n",
    "row= shape[0]\n",
    "column= K_cent\n",
    "F= np.empty((row,column), dtype= float)\n",
    "\n",
    "for i in range(row):\n",
    "  for j in range(column):\n",
    "    dist= np.linalg.norm(X_train[i]-cent[j])\n",
    "    F[i][j]= math.exp(-math.pow(dist,2)/math.pow(2*sigma,2))\n",
    "\n",
    "FTG= np.dot(F.T,F)\n",
    "FTG_inv= np.linalg.inv(FTG)\n",
    "fac= np.dot(FTG_inv,F.T)\n",
    "W= np.dot(fac,y_train)\n",
    "\n",
    "row= X_test.shape[0]\n",
    "column= K_cent\n",
    "F_test= np.empty((row,column), dtype= float)\n",
    "for i in range(row):\n",
    "\tfor j in range(column):\n",
    "\t\tdist= np.linalg.norm(X_test[i]-cent[j])\n",
    "\t\tF_test[i][j]= math.exp(-math.pow(dist,2)/math.pow(2*sigma,2))\n",
    "\n",
    "\n",
    "prediction= np.dot(F_test,W)\n",
    "prediction= 0.5*(np.sign(prediction-0.5)+1)\n",
    "\n",
    "score= accuracy_score(prediction,y_test)\n",
    "print(score.mean())"
   ],
   "metadata": {
    "collapsed": false,
    "pycharm": {
     "name": "#%%\n"
    }
   }
  },
  {
   "cell_type": "markdown",
   "source": [
    "Αρχικά, παρατηρήσαμε ότι αυξάνοντας το k περαιτέρω από 10 σε 50, ο χρόνος εκτέλεσης αυξήθηκε σημαντικά, καθώς αυξάνουμε τον αριθμό των κρυφών νευρώνων και συναρτήσεων βάσης RBF, άρα και των παραμέτρων των δικτύων.\n",
    "\n",
    "Ωστόσο το score από 89.14% πήγε σε 89.49%, μια πολύ μικρή αύξηση που μας δείχνει πως ενδεχομένως ο βέλτιστος αριθμός k είναι πιο κοντά στο 10. Αυτός ο αριθμός (k) είναι ουσιαστικά ο αριθμός ομάδων στον οποίων εμπίπτουν τα δεδομένα εκπαίδευσης."
   ],
   "metadata": {
    "collapsed": false,
    "pycharm": {
     "name": "#%% md\n"
    }
   }
  }
 ]
}