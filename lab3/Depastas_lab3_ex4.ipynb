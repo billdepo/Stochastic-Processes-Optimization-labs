{
 "nbformat": 4,
 "nbformat_minor": 0,
 "metadata": {
  "colab": {
   "name": "Stochastic_Processes_&_Optimization_in_Machine_Learning_(Lab_3_Exercise_4).ipynb",
   "provenance": [],
   "collapsed_sections": []
  },
  "kernelspec": {
   "name": "python3",
   "display_name": "Python 3"
  }
 },
 "cells": [
  {
   "cell_type": "markdown",
   "metadata": {
    "id": "0LsZdK1LTB1T"
   },
   "source": [
    "<h1><b>Άσκηση 4</b></h1>\n",
    "<p align=\"justify\">Η μέθοδος Monte Carlo είναι μια υπολογιστική μέθοδος, που βασίζεται στο νόμο των μεγάλων αριθμών. Αν {Χ<sub>n</sub>}<sub>n∈N</sub> είναι μια ακολουθία από ανεξάρτητες, ισόνομες τυχαίες μεταβλητές, με πεπερασμένη μέση τιμή Ε[Χ], τότε:</p>\n",
    "\n",
    "$$\n",
    "P\\left[\n",
    "\\frac{1}{n}\\sum_{k=1}^{n}X_k \\rightarrow E[X]\n",
    "\\right] = 1\n",
    "$$\n",
    "\n",
    "<p align=\"justify\">Προκειμένου να υπολογίσουμε τη μέση τιμή Ε[Χ]  μιας τυχαίας μεταβλητής Χ, μπορούμε λοιπόν να πάρουμε το μέσο όρο ενός μεγάλου αριθμού ανεξάρτητων δειγμάτων αυτής της μεταβλητής. Με παρόμοιο τρόπο, μπορούμε να προσεγγίσουμε υπολογιστικά την πιθανότητα ενός ενδεχομένου από το κλάσμα των πραγματοποιήσεών του σε μια σειρά από <b>m</b> ανεξάρτητες προσομοιώσεις μέχρι το βήμα <b>n</b>, δηλαδή:</p>\n",
    "\n",
    "$$\n",
    "P\\left[\n",
    "\\frac{1}{m} \\sum_{k=1}^{m}H_k \\rightarrow P[X_n | X_0]\n",
    "\\right] = 1\n",
    "$$\n",
    "\n",
    "<p align=\"justify\">όπου η τυχαία μεταβλητή Η_k παίρνει την τιμή 1 εάν το ενδεχόμενο πραγματοποιείται στο τέλος του εκάστοτε πειράματος και 0 στην αντίθετη περίπτωση. Σ’ αυτήν την ιδέα θα βασιστεί η άσκηση αυτή. Σας δίνεται η μαρκοβιανή αλυσίδα στο χώρο καταστάσεων <b>Χ</b>={1,2,3} με πίνακα πιθανοτήτων μετάβασης:</p>\n",
    "\n",
    "$$\n",
    "P = \\begin{pmatrix}\n",
    "0 & 1 & 0\\\\\n",
    "0 & 2/3 & 1/3\\\\\n",
    "1/6 & 5/6 & 0\n",
    "\\end{pmatrix}\n",
    "$$\n",
    "\n",
    "<p align=\"justify\">Χρησιμοποιώντας το πρόγραμμα που δίνεται παρακάτω, θα πραγματοποιήσετε <b>m</b> ανεξάρτητα πειράματα για να εκτιμήσετε την πιθανότητα <b>Για να τρέξετε το πρόγραμμα θα πρέπει να έχετε φορτώσει το αρχείο <i><a href=\"https://github.com/nkostopoulos/StochasticsLabPublic/blob/master/lab3/simple_markov_chain_lib.py\">simple_markov_chain_lib.py</a></i></b>.</p>\n",
    "\n",
    "$$\n",
    "P\\left[\n",
    "X_{40} = 1 | X_0 = 1\n",
    "\\right]\n",
    "$$\n",
    "\n",
    "<p align=\"justify\">δηλαδή την πιθανότητα να βρίσκεται η αλυσίδα στην κατάσταση 1 στο 40ό βήμα της δεδομένου ότι ξεκίνησε από την κατάσταση 1. Για να ελέγξετε την ορθότητα της μεθόδου, το πρόγραμμα περιλαμβάνει και τον ακριβή υπολογισμό της παραπάνω πιθανότητας.</p> \n",
    "<ul>\n",
    "<li>Να μελετήσετε το πρόγραμμα και να περιγράψετε σύντομα τη μέθοδο που ακολουθείται.</li>\n",
    "<li>Να επαναλάβετε τη διαδικασία για τιμές της παραμέτρου m: (α) 1,000, (β) 10,000, (γ) 50,000, (δ) 100,000, (ε) 500,000. Να καταγράψετε και να σχολιάσετε την τιμή της παραπάνω πιθανότητας όπως υπολογίζεται από την προσομοίωση σε σχέση με την ακριβή τιμή της.</li>\n",
    "</ul>\n"
   ]
  },
  {
   "cell_type": "code",
   "metadata": {
    "id": "gkMG5r8WX1np"
   },
   "source": [
    "from __future__ import division\n",
    "from simple_markov_chain_lib import markov_chain\n",
    "import statistics as stat\n",
    "from numpy import matmul\n",
    "import numpy as np\n",
    "\n",
    "def defineMarkovTable(): \n",
    "\tp = 1/6\n",
    "\tmarkov_table = {\n",
    "\t\t1: {2: 1.},\n",
    "\t\t2: {2: 2/3, 3: 1/3},\n",
    "\t\t3: {1: p, 2: 1-p}\n",
    "\t}\n",
    "\n",
    "\treturn markov_table\n",
    "\n",
    "def defineNumpyTable():\n",
    "\tPn = np.array([[0,1,0],\n",
    "\t\t       [0,2/3,1/3],\n",
    "\t\t       [1/6, 5/6, 0]])\n",
    "\tP0 = np.array([[1,0,0]])\n",
    "\t\n",
    "\treturn Pn,P0\n",
    "\n",
    "def multiplyNumpyTables(Pn,P0):\n",
    "\tfor index in range(40):\n",
    "\t\tPn = np.matmul(Pn,Pn)\n",
    "\tPn = np.matmul(P0,Pn)\n",
    "\treturn Pn\n",
    "\n",
    "def defineInitDistribution():\n",
    "\tinit_dist = {1: 1.}\n",
    "\t\n",
    "\treturn init_dist\n",
    "\n",
    "def calculateProbabilities(markov_table, init_dist, experiments):\n",
    "\tmc = markov_chain(markov_table, init_dist)\n",
    "\t#experiments = 500000\n",
    "\tsteps = 40\n",
    "\tvisits = 0\n",
    "\n",
    "\tfor index in range(experiments):\n",
    "\t\tmc.start()\n",
    "\t\tfor j in range(steps):\n",
    "\t\t\tmc.move()\n",
    "\t\tif mc.running_state == 1: visits += 1\n",
    "\n",
    "\tprobability = visits / experiments\n",
    "\treturn probability\n",
    "\n",
    "# real probabilities calculation\n",
    "if __name__ == \"__main__\":\n",
    "\tmarkov_table = defineMarkovTable()\n",
    "\tinit_dist = defineInitDistribution()\n",
    "\n",
    "\tPn,P0 = defineNumpyTable()\n",
    "\trealProbability = multiplyNumpyTables(Pn,P0)\n",
    "\tprint(realProbability)"
   ],
   "execution_count": 14,
   "outputs": [
    {
     "name": "stdout",
     "output_type": "stream",
     "text": [
      "[[0.03999857 0.71997421 0.2399914 ]]\n"
     ]
    }
   ]
  },
  {
   "cell_type": "code",
   "execution_count": 15,
   "outputs": [
    {
     "name": "stdout",
     "output_type": "stream",
     "text": [
      "The real probabilities therefore are the following:\n",
      "P( X40=1 | X0=1 ) = 4.0 %\n",
      "P( X40=2 | X0=1 ) = 72.0 %\n",
      "P( X40=3 | X0=1 ) = 24.0 %\n"
     ]
    }
   ],
   "source": [
    "print(f'The real probabilities therefore are the following:\\n'\n",
    "\t  f'P( X40=1 | X0=1 ) = {round(realProbability[0][0]*100, 2)} %\\n'\n",
    "\t  f'P( X40=2 | X0=1 ) = {round(realProbability[0][1]*100, 2)} %\\n'\n",
    "\t  f'P( X40=3 | X0=1 ) = {round(realProbability[0][2]*100, 2)} %' )"
   ],
   "metadata": {
    "collapsed": false,
    "pycharm": {
     "name": "#%%\n"
    }
   }
  },
  {
   "cell_type": "markdown",
   "source": [
    "Για να υπολογίσουμε τις πιθανότητες που προκύπτουν πειραματικά μέσω της μεθόδου Monte Carlo, ορίζουμε την παρακάτω συνάρτηση:"
   ],
   "metadata": {
    "collapsed": false,
    "pycharm": {
     "name": "#%% md\n"
    }
   }
  },
  {
   "cell_type": "code",
   "execution_count": 25,
   "outputs": [],
   "source": [
    "#modified code, parameter: experiments\n",
    "\n",
    "def monte_carlo_probability(markov_table, init_dist, experiments):\n",
    "\tprobability = calculateProbabilities(markov_table, init_dist, experiments)\n",
    "\t#print(probability)\n",
    "\tprint(f'The monte carlo calculated probability for {experiments} experiments is the following:\\n'\n",
    "\t\t  f'P( X40=1 | X0=1 ) = {round(probability*100, 2)} %')"
   ],
   "metadata": {
    "collapsed": false,
    "pycharm": {
     "name": "#%%\n"
    }
   }
  },
  {
   "cell_type": "markdown",
   "source": [
    "Το σύνολο του προγράμματος που δόθηκε προηγουμένως επιτελεί δύο λειτουργίες:\n",
    "\n",
    "<ol>\n",
    "\t<li>\n",
    "\t\tΥπολογισμός πιθανοτήτων\n",
    "\t\t$ P\\left[ X_{40} = i | X_0 = 1 \\right] $, για i=1, 2, 3 αναλυτικά.\n",
    "\t</li>\n",
    "\t<li>\n",
    "\t\tΥπολογισμός πιθανότητας  $ P\\left[ X_{40} = 1 | X_0 = 1 \\right]$ πειραματικά με τη μέθοδο Monte Carlo για έναν αριθμό experiments.\n",
    "\t</li>\n",
    "</ol>"
   ],
   "metadata": {
    "collapsed": false,
    "pycharm": {
     "name": "#%% md\n"
    }
   }
  },
  {
   "cell_type": "markdown",
   "source": [
    "Για το (1): υπολογισμό πιθανοτήτων $ P\\left[ X_{40} = i | X_0 = 1 \\right] $, για i=1, 2, 3 αναλυτικά, ο τρόπος υπολογισμού είναι ο εξής:\n",
    "\n",
    "Αρχικά ορίζουμε\n",
    "\\begin{equation}\n",
    "P_0 =  \\begin{bmatrix}\n",
    "\t\t1 & 0 & 0\\\\\n",
    "\t\t\\end{bmatrix},\n",
    "P =  \\begin{bmatrix}\n",
    "\t\t0 & 1 & 0\\\\\n",
    "\t\t0 & \\frac{2}{3} & \\frac{1}{3}\\\\\n",
    "\t\t\\frac{1}{6} & \\frac{5}{6} & 0\\\\\n",
    "\t\t\\end{bmatrix}\n",
    "\\end{equation}\n",
    "\n",
    "και έπειτα ο υπολογισμός των πιθανοτήτων αναλυτικά προκύπτει:\n",
    "\\begin{equation}\n",
    "\t\\begin{bmatrix}\n",
    "\t\tP\\left( X_{40} = 1 | X_0 = 1 \\right) & P\\left( X_{40} = 2 | X_0 = 1 \\right) & P\\left( X_{40} = 3 | X_0 = 1 \\right)\\\\\n",
    "\t\\end{bmatrix} = P_0 \\cdot P^{40}\n",
    "\\end{equation}\n",
    "\n",
    "όπου ο υπολογισμός προκύπτει από τη θεωρία για τις ιδιότητες των καταστάσεων αλυσίδων Markov. Με βάση τη δομή της αλυσίδας υπό εξέταση, μπορεί να δειχθεί ότι είναι εργοδική και για τις πιθανότητες των καταστάσεων $X_i$, i=1,2,3 της εργοδικής αυτής αλυσίδας στο βήμα μετάβασης $n=40$, οι πιθανότητες μετάβασης ορίζουν ένα $(1$ x $3)$ διάνυσμα $\\boldsymbol{π}^{(n)} = \\boldsymbol{π}^{(40)} = [ \\ P(X_{40} = 1 | X_0 = 1), \\  P ( X_{40} = 2 | X_0 = 1), \\  P(X_{40} = 3 | X_0 = 1]) \\ ]$.\n",
    "Ακόμη η στοχαστική μήτρα $(3$ x $3)$ είναι η $\\boldsymbol{P}$ για την αλυσίδα, ενώ οι αρχικές συνθήκες είναι $ \\boldsymbol{π}^{(0)} = [1 \\ 0 \\ 0] = P_0$\n",
    "\n",
    "Τότε:\n",
    "$ \\boldsymbol{π}^{(n)} = \\boldsymbol{π}^{(n-1)} * \\boldsymbol{P} =  \\boldsymbol{π}^{(n-2)} * \\boldsymbol{P}^2 = ... = \\boldsymbol{π}^{(0)} * \\boldsymbol{P}^n $,\n",
    "\n",
    "άρα $ \\boldsymbol{π}^{(40)} = \\boldsymbol{π}^{(0)} * \\boldsymbol{P}^{40} = \\boldsymbol{P_0} * \\boldsymbol{P}^{40} $\n"
   ],
   "metadata": {
    "collapsed": false,
    "pycharm": {
     "name": "#%% md\n"
    }
   }
  },
  {
   "cell_type": "markdown",
   "source": [
    "Για το (2), πειραματικό υπολογισμό με τη μέθοδο Monte Carlo, ο τρόπος που δουλεύει ο αλγόριθμος είναι ο εξής:\n",
    "\n",
    "Αρχικά ορίζονται ο πίνακας μετάβασης για την αλυσίδα Markov, $P$ καθώς και οι αρχικές συνθήκες (εν προκειμένω αυτό αφορά το γεγονός ότι $X_0=1$). Επίσης, δίνεται ως παράμετρος ο αριθμός των πειραμάτων / experiments προς πραγματοποίηση.\n",
    "\n",
    "Στη συνέχεια δημιουργείται ένα αντικείμενο markov_chain από τη βιβλιοθήκη simple_markov_chain_lib.py, και ορίζεται εκεί ο αριθμός των βημάτων από την αρχική κατάσταση για τον οποίο θα υπολογιστεί η ζητούμενη πιθανότητα. Ύστερα ξεκινά η επανάληψη των πειραμάτων όπου κάθε experiment προσομοιώνεται η κίνηση μεταξύ των καταστάσεων της αλυσίδας για 40 βήματα.\n",
    "\n",
    "Για κάθε experiment, μετριέται ο αριθμός των επισκέψεων στην κατάσταση 1 μετά το πέρας 40 βημάτων και στο τέλος υπολογίζεται η πιθανότητα να βρεθεί μετά από 40 βήματα η διαδικασία στην κατάσταση 1 ως το αποτέλεσμα της διαίρεσης του συνολικού αριθμού των επισκέψεων στην κατάσταση 1 μετά τα 40 βήματα για όλα τα experiments δια τον αριθμό των experiments που πραγματοποιούνται.\n",
    "\n",
    "Θεωρητικά, αναμένουμε ότι όσο αυξάνεται ο αριθμός των experiments που πραγματοποιούνται τόσο η τιμή της πειραματικής πιθανότητας θα τείνει προς την ακριβή τιμή της πιθανότητας όπως υπολογίζεται αναλυτικά."
   ],
   "metadata": {
    "collapsed": false,
    "pycharm": {
     "name": "#%% md\n"
    }
   }
  },
  {
   "cell_type": "markdown",
   "source": [
    "Experiments = 1,000"
   ],
   "metadata": {
    "collapsed": false,
    "pycharm": {
     "name": "#%% md\n"
    }
   }
  },
  {
   "cell_type": "code",
   "execution_count": 26,
   "outputs": [
    {
     "name": "stdout",
     "output_type": "stream",
     "text": [
      "The monte carlo calculated probability for 1000 experiments is the following:\n",
      "P( X40=1 | X0=1 ) = 5.0 %\n"
     ]
    }
   ],
   "source": [
    "monte_carlo_probability(markov_table, init_dist, experiments = 1000)"
   ],
   "metadata": {
    "collapsed": false,
    "pycharm": {
     "name": "#%%\n"
    }
   }
  },
  {
   "cell_type": "markdown",
   "source": [
    "Experiments = 10,000"
   ],
   "metadata": {
    "collapsed": false,
    "pycharm": {
     "name": "#%% md\n"
    }
   }
  },
  {
   "cell_type": "code",
   "execution_count": 27,
   "outputs": [
    {
     "name": "stdout",
     "output_type": "stream",
     "text": [
      "The monte carlo calculated probability for 10000 experiments is the following:\n",
      "P( X40=1 | X0=1 ) = 3.75 %\n"
     ]
    }
   ],
   "source": [
    "monte_carlo_probability(markov_table, init_dist, experiments = 10000)"
   ],
   "metadata": {
    "collapsed": false,
    "pycharm": {
     "name": "#%%\n"
    }
   }
  },
  {
   "cell_type": "markdown",
   "source": [
    "Experiments = 50,000"
   ],
   "metadata": {
    "collapsed": false,
    "pycharm": {
     "name": "#%% md\n"
    }
   }
  },
  {
   "cell_type": "code",
   "execution_count": 28,
   "outputs": [
    {
     "name": "stdout",
     "output_type": "stream",
     "text": [
      "The monte carlo calculated probability for 50000 experiments is the following:\n",
      "P( X40=1 | X0=1 ) = 3.96 %\n"
     ]
    }
   ],
   "source": [
    "monte_carlo_probability(markov_table, init_dist, experiments = 50000)"
   ],
   "metadata": {
    "collapsed": false,
    "pycharm": {
     "name": "#%%\n"
    }
   }
  },
  {
   "cell_type": "markdown",
   "source": [
    "Experiments = 100,000"
   ],
   "metadata": {
    "collapsed": false,
    "pycharm": {
     "name": "#%% md\n"
    }
   }
  },
  {
   "cell_type": "code",
   "execution_count": 29,
   "outputs": [
    {
     "name": "stdout",
     "output_type": "stream",
     "text": [
      "The monte carlo calculated probability for 100000 experiments is the following:\n",
      "P( X40=1 | X0=1 ) = 3.94 %\n"
     ]
    }
   ],
   "source": [
    "monte_carlo_probability(markov_table, init_dist, experiments = 100000)"
   ],
   "metadata": {
    "collapsed": false,
    "pycharm": {
     "name": "#%%\n"
    }
   }
  },
  {
   "cell_type": "markdown",
   "source": [
    "Experiments = 500,000"
   ],
   "metadata": {
    "collapsed": false,
    "pycharm": {
     "name": "#%% md\n"
    }
   }
  },
  {
   "cell_type": "code",
   "execution_count": 30,
   "outputs": [
    {
     "name": "stdout",
     "output_type": "stream",
     "text": [
      "The monte carlo calculated probability for 500000 experiments is the following:\n",
      "P( X40=1 | X0=1 ) = 4.01 %\n"
     ]
    }
   ],
   "source": [
    "monte_carlo_probability(markov_table, init_dist, experiments = 500000)"
   ],
   "metadata": {
    "collapsed": false,
    "pycharm": {
     "name": "#%%\n"
    }
   }
  },
  {
   "cell_type": "markdown",
   "source": [
    "Όπως αναμέναμε από το νόμο των μεγάλων αριθμών, αυξάνοντας τον αριθμό των experiments, η πειραματική τιμή τείνει στην ακριβή τιμή της πιθανότητας που είναι το 4%."
   ],
   "metadata": {
    "collapsed": false,
    "pycharm": {
     "name": "#%% md\n"
    }
   }
  }
 ]
}