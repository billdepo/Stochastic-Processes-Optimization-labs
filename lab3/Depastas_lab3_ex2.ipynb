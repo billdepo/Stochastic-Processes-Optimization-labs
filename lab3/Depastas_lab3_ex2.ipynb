{
 "nbformat": 4,
 "nbformat_minor": 0,
 "metadata": {
  "colab": {
   "name": "Stochastic_Processes_&_Optimization_in_Machine_Learning_(Lab_3_Exercise_2).ipynb",
   "provenance": [],
   "collapsed_sections": [],
   "toc_visible": true
  },
  "kernelspec": {
   "name": "python3",
   "display_name": "Python 3"
  }
 },
 "cells": [
  {
   "cell_type": "markdown",
   "metadata": {
    "id": "xBgJvYpPrY_t",
    "colab_type": "text"
   },
   "source": [
    "<h1><b>Άσκηση 2</b></h1>\n",
    "<p align=\"justify\">Σας δίνεται η παρακάτω στοχαστική μήτρα πιθανοτήτων P μιας μαρκοβιανής αλυσίδας. Από τη μήτρα αυτή έχουν παραλειφθεί ορισμένα στοιχεία:</p>\n",
    "<img src=\"https://raw.githubusercontent.com/nkostopoulos/StochasticsLabPublic/master/lab3/ex2.PNG\"><img>\n",
    "<ul>\n",
    "<li>Να συμπληρώσετε τα κενά της μήτρας πιθανοτήτων P της μαρκοβιανής αλυσίδας.</li>\n",
    "<li>Χρησιμοποιώντας τον <a href=\"http://setosa.io/markov/index.html#%7B%22tm%22%3A%5B%5B0.6%2C0.2%2C0%2C0%2C0%2C0.2%5D%2C%5B0.2%2C0.6%2C0.2%2C0%2C0%2C0%5D%2C%5B0%2C0.2%2C0.6%2C0.2%2C0%2C0%5D%2C%5B0%2C0%2C0.2%2C0.6%2C0.2%2C0%5D%2C%5B0%2C0%2C0%2C0.2%2C0.6%2C0.2%5D%2C%5B0.2%2C0%2C0%2C0%2C0.2%2C0.6%5D%5D%7D\">προσομοιωτή</a> να σχεδιάσετε την παραπάνω μαρκοβιανή αλυσίδα και να ταξινομήσετε τις καταστάσεις της σε κλάσεις επικοινωνίας. Πώς αποκαλείται μια τέτοια αλυσίδα με κριτήριο τις κλάσεις επικοινωνίας; Τι συμπέρασμα βγάζετε σχετικά με την ύπαρξη αναλλοίωτης κατανομής για την αλυσίδα;</li>\n",
    "<li>Χρησιμοποιώντας τον κώδικα που παρατίθεται στο τέλος της άσκησης θα εκτιμήσετε την αναλλοίωτη κατανομή της μαρκοβιανής αλυσίδας με τη μέθοδο της προσομοίωσης. Το πρόγραμμα: (α) ορίζει τη μήτρα πιθανοτήτων και την αρχική κατανομή της αλυσίδας, (β) ορίζει το μοντέλο της και (γ) εκτιμά την αναλλοίωτη κατανομή της αλυσίδας για κάθε κατάσταση, διαιρώντας τον αριθμό των επισκέψεων στην κατάσταση αυτή με το συνολικό αριθμό των βημάτων της αλυσίδας (παράμετρος <i>total_runs</i>). Το πρόγραμμα δίνει ως έξοδο ένα ραβδόγραμμα που απεικονίζει την αναλλοίωτη κατανομή της αλυσίδας. Να καταγράψετε το αποτέλεσμα της εκτέλεσης του προγράμματος για συνολικό αριθμό βημάτων της αλυσίδας (α) 500, (β) 1,000, (γ) 10,000, (δ) 100,000, (ε) 1,000,000, (στ) 10,000,000 και (ζ) 100,000,000. Πόσο μεταβάλεται η εκτίμηση ανάμεσα σε κάθε έξοδο; Τι παρατηρείτε σχετικά με το συνολικό χρόνο εκτέλεσης της προσομοίωσης ανάλογα με το συνολικό αριθμό βημάτων της αλυσίδας; Κατά τη γνώμη σας, ποια τιμή του συνολικού αριθμού των βημάτων της αλυσίδας επιτυγχάνει μια ικανοποιητική ισορροπία ανάμεσα στην ακρίβεια του αποτελέσματος και το συνολικό χρόνο εκτέλεσης της προσομοίωσης; <b>Για να τρέξετε το πρόγραμμα θα πρέπει να έχετε φορτώσει το αρχείο <i><a href=\"https://github.com/nkostopoulos/StochasticsLabPublic/blob/master/lab3/simple_markov_chain_lib.py\">simple_markov_chain_lib.py</a></i>.</b></li>\n",
    "<li>Τι παρατηρείτε σχετικά με τις τιμές της αναλλοίωτης κατανομής της παραπάνω μαρκοβιανής αλυσίδας; Να υπολογίσετε το άθροισμα των στοιχείων κάθε στήλης της μήτρας πιθανοτήτων <b>P</b>. Πώς ονομάζεται μία τέτοια μήτρα πιθανοτήτων και τι ισχύει για την αναλλοίωτη κατανομή μιας τέτοιας αλυσίδας;</li>\n"
   ]
  },
  {
   "cell_type": "markdown",
   "source": [
    "Για τη μήτρα πιθανοτήτων P, θα πρέπει οι πιθανότητες κάθε γραμμής να αθροίζουν στη μονάδα, δηλαδή $\\sum_{j=0}^{5}p_{ij} = 1$ για $i = 0,1,2,3,4,5$.\n",
    "\n",
    "Άρα:\n",
    "\n",
    "\\begin{equation}\n",
    "\n",
    "P =\n",
    "\n",
    "\\begin{bmatrix}\n",
    "    0.6 & 0.2 & 0 & 0 & 0 & 0.2\\\\\n",
    "    0.2 & 0.6 & 0.2 & 0 & 0 & 0\\\\\n",
    "    0 & 0.2 & 0.6 & 0.2 & 0 & 0\\\\\n",
    "    0 & 0 & 0.2 & 0.6 & 0.2 & 0\\\\\n",
    "    0 & 0 & 0 & 0.2 & 0.6 & 0.2\\\\\n",
    "    0.2 & 0 & 0 & 0 & 0.2 & 0.6\\\\\n",
    "\\end{bmatrix}\n",
    "\\end{equation}"
   ],
   "metadata": {
    "collapsed": false,
    "pycharm": {
     "name": "#%% md\n"
    }
   }
  },
  {
   "cell_type": "markdown",
   "source": [
    "Παρακάτω, παρουσιάζεται η αλυσίδα Markov όπως προέκυψε από τον προσομοιωτή:\n",
    "\n",
    "<img src=\"Markov_chain_lab3_ex2.JPG\" title=\"Markov Chain image from simulation\">"
   ],
   "metadata": {
    "collapsed": false,
    "pycharm": {
     "name": "#%% md\n"
    }
   }
  },
  {
   "cell_type": "markdown",
   "source": [
    "Όπως φαίνεται από τη σχεδίαση της αλυσίδας Markov υπάρχει συμμετρία και ολόκληρος ο χώρος καταστάσεων είναι μια κλειστή κλάση όπου όλες οι καταστάσεις της αλυσίδας επικοινωνούν μεταξύ τους, άρα η Μαρκοβιανή αλυσίδα είναι μη υποβιβάσιμη (irreducible). Επιπλέον, η μαρκοβιανή αλυσίδα είναι μη περιοδική και εφόσον είναι και irreducible, τότε είναι εργοδική. Υπάρχει, επομένως, αναλλοίωτη κατανομή και παρακάτω γίνεται εκτίμησή της."
   ],
   "metadata": {
    "collapsed": false,
    "pycharm": {
     "name": "#%% md\n"
    }
   }
  },
  {
   "cell_type": "code",
   "metadata": {
    "id": "utJ4k__vIseq",
    "colab_type": "code",
    "colab": {}
   },
   "source": [
    "from __future__ import division\n",
    "from simple_markov_chain_lib import markov_chain\n",
    "import numpy as np\n",
    "import matplotlib.pyplot as plt\n",
    "\n",
    "def defineMarkovTable(): \n",
    "\tmarkov_table = {\n",
    "\t\t0: {0: 0.6, 1: 0.2, 5: 0.2},\n",
    "\t\t1: {0: 0.2, 1: 0.6, 2: 0.2},\n",
    "\t\t2: {1: 0.2, 2: 0.6, 3: 0.2},\n",
    "\t\t3: {2: 0.2, 3: 0.6, 4: 0.2},\n",
    "\t\t4: {3: 0.2, 4: 0.6, 5: 0.2},\n",
    "\t\t5: {0: 0.2, 4: 0.2, 5: 0.6}\n",
    "        }\n",
    "\n",
    "\treturn markov_table\n",
    "\n",
    "def defineInitDistribution():\n",
    "\tinit_dist = {0: 1.}\n",
    "\t\n",
    "\treturn init_dist\n",
    "\n",
    "def calculateFrequencyTable(markov_table,init_dist, total_runs = 10000):\n",
    "\t#total_runs = 10000\n",
    "\n",
    "\tvisits = list()\n",
    "\tvisits = [0] * len(markov_table)\n",
    "\n",
    "\tfor index in range(total_runs):\n",
    "\t\tmc.move()\n",
    "\t\tvisits[mc.running_state] += 1\n",
    "\t\n",
    "\tfrequency = [v/total_runs for v in visits]\n",
    "\t\n",
    "\treturn frequency\n",
    "\n",
    "def printFrequencies(frequency, markov_table):\n",
    "\tfor state in range(0, len(markov_table)) :\n",
    "\t\tprint(str(state) + \": \", str(frequency[state]))\n",
    "\t\n",
    "\treturn None\n",
    "\n",
    "def plotFrequencies(frequency):\n",
    "\tobjects = ('1', '2', '3', '4', '5', '6')\n",
    "\ty_pos = np.arange(len(objects))\n",
    "\t\n",
    "\tplt.bar(y_pos, frequency, align='center', alpha=0.5)\n",
    "\tplt.xticks(y_pos, objects)\n",
    "\tplt.ylabel('States')\n",
    "\tplt.title('Frequencies')\n",
    "\tplt.show()\n",
    "\t\n",
    "\treturn None\n",
    "\n",
    "if __name__ == \"__main__\":\n",
    "\tmarkov_table = defineMarkovTable()\n",
    "\tinit_dist = defineInitDistribution()\n",
    "\tmc = markov_chain(markov_table, init_dist)\n",
    "\tmc.start()\n",
    "\n",
    "\tfrequency = calculateFrequencyTable(markov_table, init_dist)\n",
    "\tprintFrequencies(frequency, markov_table)\n",
    "\tplotFrequencies(frequency)"
   ],
   "execution_count": 1,
   "outputs": [
    {
     "name": "stdout",
     "output_type": "stream",
     "text": [
      "0:  0.1519\n",
      "1:  0.1659\n",
      "2:  0.1848\n",
      "3:  0.1626\n",
      "4:  0.1715\n",
      "5:  0.1633\n"
     ]
    },
    {
     "data": {
      "text/plain": "<Figure size 432x288 with 1 Axes>",
      "image/png": "[encoded data removed]"
     },
     "metadata": {
      "needs_background": "light"
     },
     "output_type": "display_data"
    }
   ]
  },
  {
   "cell_type": "markdown",
   "source": [
    "## total runs = 500"
   ],
   "metadata": {
    "collapsed": false,
    "pycharm": {
     "name": "#%% md\n"
    }
   }
  },
  {
   "cell_type": "code",
   "execution_count": 2,
   "outputs": [
    {
     "name": "stdout",
     "output_type": "stream",
     "text": [
      "0:  0.148\n",
      "1:  0.17\n",
      "2:  0.204\n",
      "3:  0.186\n",
      "4:  0.172\n",
      "5:  0.12\n"
     ]
    },
    {
     "data": {
      "text/plain": "<Figure size 432x288 with 1 Axes>",
      "image/png": "[encoded data removed]"
     },
     "metadata": {
      "needs_background": "light"
     },
     "output_type": "display_data"
    }
   ],
   "source": [
    "total_runs = 500\n",
    "\n",
    "mc = markov_chain(markov_table, init_dist)\n",
    "mc.start()\n",
    "\n",
    "frequency = calculateFrequencyTable(markov_table, init_dist, total_runs)\n",
    "printFrequencies(frequency, markov_table)\n",
    "plotFrequencies(frequency)"
   ],
   "metadata": {
    "collapsed": false,
    "pycharm": {
     "name": "#%%\n"
    }
   }
  },
  {
   "cell_type": "markdown",
   "source": [
    "## total runs = 1,000"
   ],
   "metadata": {
    "collapsed": false,
    "pycharm": {
     "name": "#%% md\n"
    }
   }
  },
  {
   "cell_type": "code",
   "execution_count": 3,
   "outputs": [
    {
     "name": "stdout",
     "output_type": "stream",
     "text": [
      "0:  0.103\n",
      "1:  0.109\n",
      "2:  0.146\n",
      "3:  0.23\n",
      "4:  0.238\n",
      "5:  0.174\n"
     ]
    },
    {
     "data": {
      "text/plain": "<Figure size 432x288 with 1 Axes>",
      "image/png": "[encoded data removed]"
     },
     "metadata": {
      "needs_background": "light"
     },
     "output_type": "display_data"
    }
   ],
   "source": [
    "total_runs = 1000\n",
    "\n",
    "mc = markov_chain(markov_table, init_dist)\n",
    "mc.start()\n",
    "\n",
    "frequency = calculateFrequencyTable(markov_table, init_dist, total_runs)\n",
    "printFrequencies(frequency, markov_table)\n",
    "plotFrequencies(frequency)"
   ],
   "metadata": {
    "collapsed": false,
    "pycharm": {
     "name": "#%%\n"
    }
   }
  },
  {
   "cell_type": "markdown",
   "source": [
    "## total_runs = 10,000"
   ],
   "metadata": {
    "collapsed": false,
    "pycharm": {
     "name": "#%% md\n"
    }
   }
  },
  {
   "cell_type": "code",
   "execution_count": 4,
   "outputs": [
    {
     "name": "stdout",
     "output_type": "stream",
     "text": [
      "0:  0.1671\n",
      "1:  0.1693\n",
      "2:  0.1732\n",
      "3:  0.1658\n",
      "4:  0.1669\n",
      "5:  0.1577\n"
     ]
    },
    {
     "data": {
      "text/plain": "<Figure size 432x288 with 1 Axes>",
      "image/png": "[encoded data removed]"
     },
     "metadata": {
      "needs_background": "light"
     },
     "output_type": "display_data"
    }
   ],
   "source": [
    "total_runs = 10000\n",
    "\n",
    "mc = markov_chain(markov_table, init_dist)\n",
    "mc.start()\n",
    "\n",
    "frequency = calculateFrequencyTable(markov_table, init_dist, total_runs)\n",
    "printFrequencies(frequency, markov_table)\n",
    "plotFrequencies(frequency)"
   ],
   "metadata": {
    "collapsed": false,
    "pycharm": {
     "name": "#%%\n"
    }
   }
  },
  {
   "cell_type": "markdown",
   "source": [
    "## total runs = 100,000"
   ],
   "metadata": {
    "collapsed": false,
    "pycharm": {
     "name": "#%% md\n"
    }
   }
  },
  {
   "cell_type": "code",
   "execution_count": 5,
   "outputs": [
    {
     "name": "stdout",
     "output_type": "stream",
     "text": [
      "0:  0.16447\n",
      "1:  0.16753\n",
      "2:  0.16791\n",
      "3:  0.16762\n",
      "4:  0.1655\n",
      "5:  0.16697\n"
     ]
    },
    {
     "data": {
      "text/plain": "<Figure size 432x288 with 1 Axes>",
      "image/png": "[encoded data removed]"
     },
     "metadata": {
      "needs_background": "light"
     },
     "output_type": "display_data"
    }
   ],
   "source": [
    "total_runs = 100000\n",
    "\n",
    "mc = markov_chain(markov_table, init_dist)\n",
    "mc.start()\n",
    "\n",
    "frequency = calculateFrequencyTable(markov_table, init_dist, total_runs)\n",
    "printFrequencies(frequency, markov_table)\n",
    "plotFrequencies(frequency)"
   ],
   "metadata": {
    "collapsed": false,
    "pycharm": {
     "name": "#%%\n"
    }
   }
  },
  {
   "cell_type": "markdown",
   "source": [
    "## total runs = 1,000,000"
   ],
   "metadata": {
    "collapsed": false,
    "pycharm": {
     "name": "#%% md\n"
    }
   }
  },
  {
   "cell_type": "code",
   "execution_count": 6,
   "outputs": [
    {
     "name": "stdout",
     "output_type": "stream",
     "text": [
      "0:  0.16512\n",
      "1:  0.166362\n",
      "2:  0.167021\n",
      "3:  0.166617\n",
      "4:  0.167338\n",
      "5:  0.167542\n"
     ]
    },
    {
     "data": {
      "text/plain": "<Figure size 432x288 with 1 Axes>",
      "image/png": "[encoded data removed]"
     },
     "metadata": {
      "needs_background": "light"
     },
     "output_type": "display_data"
    }
   ],
   "source": [
    "total_runs = 1000000\n",
    "\n",
    "mc = markov_chain(markov_table, init_dist)\n",
    "mc.start()\n",
    "\n",
    "frequency = calculateFrequencyTable(markov_table, init_dist, total_runs)\n",
    "printFrequencies(frequency, markov_table)\n",
    "plotFrequencies(frequency)"
   ],
   "metadata": {
    "collapsed": false,
    "pycharm": {
     "name": "#%%\n"
    }
   }
  },
  {
   "cell_type": "markdown",
   "source": [
    "## total runs = 10,000,000"
   ],
   "metadata": {
    "collapsed": false,
    "pycharm": {
     "name": "#%% md\n"
    }
   }
  },
  {
   "cell_type": "code",
   "execution_count": 7,
   "outputs": [
    {
     "name": "stdout",
     "output_type": "stream",
     "text": [
      "0:  0.1670771\n",
      "1:  0.1665362\n",
      "2:  0.166208\n",
      "3:  0.1662958\n",
      "4:  0.1668137\n",
      "5:  0.1670692\n"
     ]
    },
    {
     "data": {
      "text/plain": "<Figure size 432x288 with 1 Axes>",
      "image/png": "[encoded data removed]"
     },
     "metadata": {
      "needs_background": "light"
     },
     "output_type": "display_data"
    }
   ],
   "source": [
    "total_runs = 10000000\n",
    "\n",
    "mc = markov_chain(markov_table, init_dist)\n",
    "mc.start()\n",
    "\n",
    "frequency = calculateFrequencyTable(markov_table, init_dist, total_runs)\n",
    "printFrequencies(frequency, markov_table)\n",
    "plotFrequencies(frequency)"
   ],
   "metadata": {
    "collapsed": false,
    "pycharm": {
     "name": "#%%\n"
    }
   }
  },
  {
   "cell_type": "markdown",
   "source": [
    "## total runs = 100,000,000"
   ],
   "metadata": {
    "collapsed": false,
    "pycharm": {
     "name": "#%% md\n"
    }
   }
  },
  {
   "cell_type": "code",
   "execution_count": 8,
   "outputs": [
    {
     "name": "stdout",
     "output_type": "stream",
     "text": [
      "0:  0.16673472\n",
      "1:  0.16667826\n",
      "2:  0.16667379\n",
      "3:  0.16668311\n",
      "4:  0.16662163\n",
      "5:  0.16660849\n"
     ]
    },
    {
     "data": {
      "text/plain": "<Figure size 432x288 with 1 Axes>",
      "image/png": "[encoded data removed]"
     },
     "metadata": {
      "needs_background": "light"
     },
     "output_type": "display_data"
    }
   ],
   "source": [
    "total_runs = 100000000\n",
    "\n",
    "mc = markov_chain(markov_table, init_dist)\n",
    "mc.start()\n",
    "\n",
    "frequency = calculateFrequencyTable(markov_table, init_dist, total_runs)\n",
    "printFrequencies(frequency, markov_table)\n",
    "plotFrequencies(frequency)"
   ],
   "metadata": {
    "collapsed": false,
    "pycharm": {
     "name": "#%%\n"
    }
   }
  },
  {
   "cell_type": "markdown",
   "source": [
    "Παρατηρούμε από τα παραπάνω ότι ένας αριθμός total runs ίσος με 100,000 είναι αρκετός ώστε να λάβουμε εργοδικές τιμές πιθανοτήτων των καταστάσεων πολύ κοντά στις αναμενόμενες που είναι 1/6 για κάθε κατάσταση. Στην περίπτωση αυτή και ο υπολογιστικός χρόνος δεν είναι μεγάλος, ενώ αυξάνοντας περαιτέρω τα total runs, ο χρόνος εκτέλεσης αυξάνεται σημαντικά με μικρό όφελος στην ακρίβεια."
   ],
   "metadata": {
    "collapsed": false,
    "pycharm": {
     "name": "#%% md\n"
    }
   }
  },
  {
   "cell_type": "markdown",
   "source": [
    "## <li>Τι παρατηρείτε σχετικά με τις τιμές της αναλλοίωτης κατανομής της παραπάνω μαρκοβιανής αλυσίδας; Να υπολογίσετε το άθροισμα των στοιχείων κάθε στήλης της μήτρας πιθανοτήτων <b>P</b>. Πώς ονομάζεται μία τέτοια μήτρα πιθανοτήτων και τι ισχύει για την αναλλοίωτη κατανομή μιας τέτοιας αλυσίδας;</li>\n"
   ],
   "metadata": {
    "collapsed": false,
    "pycharm": {
     "name": "#%% md\n"
    }
   }
  },
  {
   "cell_type": "markdown",
   "source": [
    "Για την αναλλοίωτη κατανομή της παραπάνω μαρκοβιανής αλυσίδας παρατηρούμε ότι όλες οι πιθανότητες συγκλίνουν στην τιμή 1/6.\n",
    "Για τη μήτρα πιθανοτήτων P βλέπουμε πως το άθροισμα των στοιχείων κάθε στήλης είναι 1. Ένας τέτοιος πίνακας/μήτρα λέγεται διπλά στοχαστικός και στην περίπτωση αυτή έχουμε εξ ορισμού ίση πιθανότητα να βρεθούμε σε κάθε κατάσταση της αλυσίδας δεδομένου πως έχει παρέλθει το μεταβατικό φαινόμενο. Επομένως, θα μπορούσαμε εξ αρχής να πούμε ότι η αναλλοίωτη κατανομή της αλυσίδας είναι $π = [\\frac{1}{6}, \\frac{1}{6}, \\frac{1}{6}, \\frac{1}{6}, \\frac{1}{6}, \\frac{1}{6}]$"
   ],
   "metadata": {
    "collapsed": false,
    "pycharm": {
     "name": "#%% md\n"
    }
   }
  }
 ]
}