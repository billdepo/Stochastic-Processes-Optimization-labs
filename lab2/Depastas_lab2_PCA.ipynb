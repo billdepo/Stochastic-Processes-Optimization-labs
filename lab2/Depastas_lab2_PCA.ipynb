{
 "nbformat": 4,
 "nbformat_minor": 0,
 "metadata": {
  "colab": {
   "name": "Stochastic_Processes_&_Optimization_in_Machine_Learning_(Lab_2_PCA).ipynb",
   "provenance": []
  },
  "kernelspec": {
   "name": "python3",
   "display_name": "Python 3"
  }
 },
 "cells": [
  {
   "cell_type": "markdown",
   "metadata": {
    "id": "s_xjbOW-TkC3"
   },
   "source": [
    "<h1><b><i>Principal Component Analysis</i> (<i>PCA</i>) </b></h1>\n",
    "\n",
    "<p>Στην άσκηση αυτή θα μελετήσετε τον αλγόριθμο <b><i>ανάλυσης σε κύριες συνιστώσες</i></b> (<b><i>Principal Component Analysis</i></b>, <b><i>PCA</i></b>), υλοποιημένο σύμφωνα με τη <b><i>μέθοδο συνδιακύμανσης</i></b> (<b><i>covariance method</i></b>). Για να κατανοήσετε τη χρησιμότητα της μεθόδου θα εκπαιδεύσετε και θα αξιολογήσετε την ακρίβεια ενός μοντέλου <b><i>logistic regression</i></b> για ένα dataset πριν και μετά την εφαρμογή του αλγορίθμου <b><i>PCA</i></b>. Περισσότερες πληροφορίες για τη μέθοδο αυτή μπορείτε να αναζητήσετε <a href=\"https://ourarchive.otago.ac.nz/handle/10523/7534\">εδώ</a>.</p>\n",
    "\n",
    "<p>Η άσκηση περιλαμβάνει <b><i>δύο</i></b> προγράμματα <i>Python</i>: (a) το πρώτο δέχεται ένα dataset σε μορφή .<i>csv</i>, εφαρμόζει τον αλγόριθμο <b><i>PCA</i></b> και δημιουργεί το αρχείο <b><i>foo.csv</i></b> με το μετασχηματισμένο dataset, όπως προκύπτει από τις κύριες συνιστώσες που επέλεξε ο χρήστης να διατηρήσει, (b) το δεύτερο δέχεται ένα αρχείο σε μορφή .<i>csv</i>, διαχωρίζει το dataset σε <i>training</i> και <i>test set</i>, εκπαιδεύει ένα μοντέλο <b><i>logistic regression</i></b>, χρησιμοποιώντας το <i>training set</i> και υπολογίζει τον αριθμό των σφαλμάτων του μοντέλου πάνω στο <i>test set</i>.</p>\n",
    "\n",
    "<p>Το dataset που θα χρησιμοποιήσετε παρέχεται σε δύο μορφές: (a) <b><i><a href=\"https://raw.githubusercontent.com/nkostopoulos/StochasticsLabPublic/master/lab2/demo3a.csv\">demo3a.csv</a></i></b> και (b) <b><i><a href=\"https://github.com/nkostopoulos/StochasticsLabPublic/blob/master/lab2/demo3b.csv\">demo3b.csv</a></i></b>, το οποίο δεν περιλαμβάνει την πρώτη στήλη του <b><i><a href=\"https://raw.githubusercontent.com/nkostopoulos/StochasticsLabPublic/master/lab2/demo3a.csv\">demo3a.csv</a></i></b>, δηλαδή τα <i>labels</i> που αντιστοιχούν σε κάθε είσοδο. Τα datasets αυτά αποτελούν απλοποιημένη μορφή του dataset που μπορεί να βρεθεί <a href=\"https://archive.ics.uci.edu/ml/datasets/wine\">εδώ</a>.</p>\n",
    "\n",
    "<h3><b><i>Ανάλυση σε Κύριες Συνιστώσες</i></b></h3>\n",
    "<p>Αρχικά, θα φορτώσετε τις βιβλιοθήκες που απαιτούνται για το πρόγραμμα που θα αναλύσει το dataset <b><i><a href=\"https://github.com/nkostopoulos/StochasticsLabPublic/blob/master/lab2/demo3b.csv\">demo3b.csv</a></i></b> στις κύριες συνιστώσες του.</p>\n",
    "\n",
    "\n"
   ]
  },
  {
   "cell_type": "code",
   "metadata": {
    "id": "KDcaQZ2ofeum",
    "outputId": "becc8350-a05e-4b48-8e78-6d366c1020a2",
    "colab": {
     "base_uri": "https://localhost:8080/"
    }
   },
   "source": [
    "!pip install numpy\n",
    "#https://machinelearningmastery.com/calculate-principal-component-analysis-scratch-python/\n",
    "from numpy import genfromtxt\n",
    "from numpy import mean\n",
    "from numpy import cov\n",
    "from numpy.linalg import eig\n",
    "import numpy as np"
   ],
   "execution_count": 140,
   "outputs": [
    {
     "name": "stdout",
     "output_type": "stream",
     "text": [
      "Requirement already satisfied: numpy in c:\\users\\user\\downloads\\dsml msc\\2nd semester\\στοχαστικές διεργασίες και βελτιστοποίηση\\stochasticslabpublic\\venv\\lib\\site-packages (1.22.3)\n"
     ]
    }
   ]
  },
  {
   "cell_type": "markdown",
   "metadata": {
    "id": "pMilxe9Uf-WT"
   },
   "source": []
  },
  {
   "cell_type": "code",
   "metadata": {
    "id": "k92Gv9dwftZp"
   },
   "source": [
    "#data = genfromtxt('https://raw.githubusercontent.com/nkostopoulos/StochasticsLabPublic/master/lab2/demo3b.csv', delimiter=',')\n",
    "data = genfromtxt('demo3b.csv', delimiter=',')"
   ],
   "execution_count": 141,
   "outputs": []
  },
  {
   "cell_type": "markdown",
   "metadata": {
    "id": "ydl-AyxahG2b"
   },
   "source": [
    "<p>Έπειτα, θα υπολογίσετε το μέσο όρο κάθε στήλης (feature) του dataset και θα κανονικοποιήσετε κάθε feature με αυτόν</p>"
   ]
  },
  {
   "cell_type": "code",
   "metadata": {
    "id": "QU4TQXw2g4xF"
   },
   "source": [
    "M = mean(data.T, axis=1)\n",
    "data_normal = data - M"
   ],
   "execution_count": 142,
   "outputs": []
  },
  {
   "cell_type": "markdown",
   "metadata": {
    "id": "BYWD8ozQh-h8"
   },
   "source": [
    "<p>Στη συνέχεια, θα υπολογίσετε το <b><i>πίνακα συνδιακύμανσης</i></b> (<b><i>covariance matrix</i></b>) για το dataset</p>"
   ]
  },
  {
   "cell_type": "code",
   "metadata": {
    "id": "N3B6Pw6diHxe",
    "outputId": "6d1dd2f9-51c8-4d04-9817-49fc519805fa",
    "colab": {
     "base_uri": "https://localhost:8080/"
    }
   },
   "source": [
    "covariance = cov(data_normal.T)\n",
    "print(\"The covariance matrix of the normalized data is the following: \")\n",
    "print(covariance)"
   ],
   "execution_count": 143,
   "outputs": [
    {
     "name": "stdout",
     "output_type": "stream",
     "text": [
      "The covariance matrix of the normalized data is the following: \n",
      "[[ 7.89911157e-01  1.64350328e-02  5.03965534e-02 -1.39557561e+00\n",
      "   4.51870543e+00  2.35123047e-01  3.56524806e-01 -2.92133512e-02\n",
      "   9.15320632e-02  1.07205560e+00  3.92238044e-03  1.22678110e-01\n",
      "   2.36909466e+02]\n",
      " [ 1.64350328e-02  7.74344335e-01  3.18039952e-02  4.24165474e-01\n",
      "  -2.21434109e-01  1.44160704e-02  3.75581395e-02  5.34385808e-03\n",
      "   6.47891175e-02 -1.54797734e-01 -6.06599761e-02  6.96007454e-02\n",
      "  -3.33629219e+01]\n",
      " [ 5.03965534e-02  3.18039952e-02  8.83052117e-02  3.73006798e-01\n",
      "   1.40136434e+00  4.12452594e-02  8.26573643e-02  5.81539654e-03\n",
      "   1.24709839e-02  1.22397007e-01  2.06346094e-03  3.02871079e-02\n",
      "   3.18556160e+01]\n",
      " [-1.39557561e+00  4.24165474e-01  3.73006798e-01  1.15631181e+01\n",
      "  -6.46193798e+00 -4.24464222e-01 -4.52046512e-01  1.24282469e-01\n",
      "  -1.77910614e-01 -2.39565069e+00 -2.05387955e-02 -1.02069171e-03\n",
      "  -5.11872284e+02]\n",
      " [ 4.51870543e+00 -2.21434109e-01  1.40136434e+00 -6.46193798e+00\n",
      "   2.36586822e+02  2.55096899e+00  2.89720930e+00 -3.57263566e-01\n",
      "   2.30737209e+00  8.63970543e+00  1.85996899e-01  9.56255814e-01\n",
      "   2.31515659e+03]\n",
      " [ 2.35123047e-01  1.44160704e-02  4.12452594e-02 -4.24464222e-01\n",
      "   2.55096899e+00  2.97453936e-01  3.40611628e-01 -2.64587657e-02\n",
      "   1.30694305e-01  5.23527370e-01 -7.63816339e-04  1.28195856e-01\n",
      "   9.73171139e+01]\n",
      " [ 3.56524806e-01  3.75581395e-02  8.26573643e-02 -4.52046512e-01\n",
      "   2.89720930e+00  3.40611628e-01  5.44297674e-01 -2.88767442e-02\n",
      "   2.16111628e-01  8.48084496e-01 -8.24186047e-04  1.88436434e-01\n",
      "   1.41942171e+02]\n",
      " [-2.92133512e-02  5.34385808e-03  5.81539654e-03  1.24282469e-01\n",
      "  -3.57263566e-01 -2.64587657e-02 -2.88767442e-02  1.18999463e-02\n",
      "  -1.98501670e-02 -4.97212642e-02  9.44753727e-04 -2.42901670e-02\n",
      "  -1.26918819e+01]\n",
      " [ 9.15320632e-02  6.47891175e-02  1.24709839e-02 -1.77910614e-01\n",
      "   2.30737209e+00  1.30694305e-01  2.16111628e-01 -1.98501670e-02\n",
      "   2.91137680e-01  2.39266834e-01 -9.77493143e-04  8.78196959e-02\n",
      "   5.22928014e+01]\n",
      " [ 1.07205560e+00 -1.54797734e-01  1.22397007e-01 -2.39565069e+00\n",
      "   8.63970543e+00  5.23527370e-01  8.48084496e-01 -4.97212642e-02\n",
      "   2.39266834e-01  2.64316778e+00  2.68330829e-03  1.60809159e-01\n",
      "   4.44340177e+02]\n",
      " [ 3.92238044e-03 -6.06599761e-02  2.06346094e-03 -2.05387955e-02\n",
      "   1.85996899e-01 -7.63816339e-04 -8.24186047e-04  9.44753727e-04\n",
      "  -9.77493143e-04  2.68330829e-03  2.84562519e-02 -8.13836136e-03\n",
      "   6.93777746e+00]\n",
      " [ 1.22678110e-01  6.96007454e-02  3.02871079e-02 -1.02069171e-03\n",
      "   9.56255814e-01  1.28195856e-01  1.88436434e-01 -2.42901670e-02\n",
      "   8.78196959e-02  1.60809159e-01 -8.13836136e-03  2.25782952e-01\n",
      "   3.83903673e+01]\n",
      " [ 2.36909466e+02 -3.33629219e+01  3.18556160e+01 -5.11872284e+02\n",
      "   2.31515659e+03  9.73171139e+01  1.41942171e+02 -1.26918819e+01\n",
      "   5.22928014e+01  4.44340177e+02  6.93777746e+00  3.83903673e+01\n",
      "   1.24265433e+05]]\n"
     ]
    }
   ]
  },
  {
   "cell_type": "markdown",
   "metadata": {
    "id": "rFxfxGxbiPsm"
   },
   "source": [
    "<p>Το επόμενο βήμα είναι να υπολογίσετε τις <b><i>ιδιοτιμές</i></b> (<b><i>eigenvalues</i></b>) και τα <b><i>ιδιοδιανύσματα</i></b> (<b><i>eigenvectors</i></b>) του dataset.</p>"
   ]
  },
  {
   "cell_type": "code",
   "metadata": {
    "id": "nyqu1myLieP3",
    "outputId": "f94f094b-666e-4f48-b424-0ef434307cc6",
    "colab": {
     "base_uri": "https://localhost:8080/"
    }
   },
   "source": [
    "values, vectors = eig(covariance)\n",
    "print(\"The eigenvalues of the normalized data are the following: \")\n",
    "print(values)"
   ],
   "execution_count": 144,
   "outputs": [
    {
     "name": "stdout",
     "output_type": "stream",
     "text": [
      "The eigenvalues of the normalized data are the following: \n",
      "[1.24313073e+05 1.93456026e+02 9.50168321e+00 1.32500169e+00\n",
      " 8.10595669e-01 4.51081713e-01 2.69157831e-01 1.60993380e-01\n",
      " 1.11100343e-01 6.13399000e-03 2.19782528e-02 3.20312852e-02\n",
      " 5.87421686e-02]\n"
     ]
    }
   ]
  },
  {
   "cell_type": "markdown",
   "metadata": {
    "id": "51_NKEP2imoW"
   },
   "source": [
    "<p>Στη συνέχεια, θα επιλέξετε τις πιο σημαντικές <b><i>ιδιοτιμές</i></b> και θα προσαρμόσετε αντίστοιχα τα <b><i>ιδιοδιανύσματα</i></b> του dataset.</p>"
   ]
  },
  {
   "cell_type": "code",
   "metadata": {
    "id": "Dee3ENf1i4Lx",
    "outputId": "7dc7eff2-c93c-44f0-c772-f8db18ea1bad",
    "colab": {
     "base_uri": "https://localhost:8080/"
    }
   },
   "source": [
    "new_values = values[0:3]\n",
    "print(\"The most important eigenvalues are the following: \")\n",
    "print(new_values)\n",
    "new_vectors = vectors[0:3]\n",
    "print(\"The most important eigenvectors are the following: \")\n",
    "print(new_vectors)"
   ],
   "execution_count": 145,
   "outputs": [
    {
     "name": "stdout",
     "output_type": "stream",
     "text": [
      "The most important eigenvalues are the following: \n",
      "[1.24313073e+05 1.93456026e+02 9.50168321e+00]\n",
      "The most important eigenvectors are the following: \n",
      "[[-1.90615566e-03 -4.75319302e-04 -4.70065618e-02  2.25255930e-01\n",
      "   9.82089183e-02 -2.20758056e-01 -8.52483156e-01 -3.65140031e-01\n",
      "  -1.65925760e-01 -5.62139324e-03 -2.07811823e-02  2.48378617e-02\n",
      "  -8.18675258e-04]\n",
      " [ 2.68379014e-04 -2.11118304e-03  3.21935310e-02  1.25115825e-01\n",
      "   9.16405147e-01 -3.07909300e-01  1.86306127e-01  7.26209733e-02\n",
      "  -1.81047372e-02 -1.16925805e-02  8.44468784e-02 -2.41209813e-02\n",
      "   2.31770029e-02]\n",
      " [-2.56407459e-04 -4.21644285e-03  5.19948847e-02  4.67286333e-02\n",
      "   2.01302236e-02 -3.45064791e-03 -1.57617050e-02  1.52544206e-01\n",
      "  -7.18891029e-02 -1.38330530e-01 -6.68720003e-02  6.75337422e-01\n",
      "  -6.97354965e-01]]\n"
     ]
    }
   ]
  },
  {
   "cell_type": "markdown",
   "metadata": {
    "id": "6IVdHr-Ti-O5"
   },
   "source": [
    "<p>Τώρα, θα εφαρμόσετε τα νέα <b><i>ιδιοδιανύσματα</i></b> στο παλιό dataset για να πάρετε το νέο, μειωμένο σε μέγεθος dataset.</p>"
   ]
  },
  {
   "cell_type": "code",
   "execution_count": 146,
   "outputs": [
    {
     "data": {
      "text/plain": "array([[ 1.28592308e+00, -2.58076923e-01,  8.95384615e-02, ...,\n        -1.88923077e-02,  9.65615385e-01,  2.74907692e+02],\n       [ 2.55923077e-01, -1.88076923e-01, -2.00461538e-01, ...,\n        -8.89230769e-03,  4.45615385e-01,  2.59907692e+02],\n       [ 2.15923077e-01,  3.91923077e-01,  3.29538462e-01, ...,\n        -2.88923077e-02,  2.15615385e-01,  3.94907692e+02],\n       ...,\n       [-1.15407692e+00,  1.61923077e-01,  4.39538462e-01, ...,\n        -8.88923077e-02, -5.14384615e-01, -3.24092308e+02],\n       [-5.74076923e-01, -3.38076923e-01, -4.04615385e-02, ...,\n        -1.68892308e-01, -1.74384615e-01, -4.48092308e+02],\n       [-9.04076923e-01,  2.33192308e+00,  3.95384615e-02, ...,\n        -2.68892308e-01, -3.84384615e-01, -2.10092308e+02]])"
     },
     "execution_count": 146,
     "metadata": {},
     "output_type": "execute_result"
    }
   ],
   "source": [
    "data_normal"
   ],
   "metadata": {
    "collapsed": false,
    "pycharm": {
     "name": "#%%\n"
    }
   }
  },
  {
   "cell_type": "code",
   "execution_count": 147,
   "outputs": [
    {
     "data": {
      "text/plain": "array([[ 1.28592308e+00,  2.55923077e-01,  2.15923077e-01, ...,\n        -1.15407692e+00, -5.74076923e-01, -9.04076923e-01],\n       [-2.58076923e-01, -1.88076923e-01,  3.91923077e-01, ...,\n         1.61923077e-01, -3.38076923e-01,  2.33192308e+00],\n       [ 8.95384615e-02, -2.00461538e-01,  3.29538462e-01, ...,\n         4.39538462e-01, -4.04615385e-02,  3.95384615e-02],\n       ...,\n       [-1.88923077e-02, -8.89230769e-03, -2.88923077e-02, ...,\n        -8.88923077e-02, -1.68892308e-01, -2.68892308e-01],\n       [ 9.65615385e-01,  4.45615385e-01,  2.15615385e-01, ...,\n        -5.14384615e-01, -1.74384615e-01, -3.84384615e-01],\n       [ 2.74907692e+02,  2.59907692e+02,  3.94907692e+02, ...,\n        -3.24092308e+02, -4.48092308e+02, -2.10092308e+02]])"
     },
     "execution_count": 147,
     "metadata": {},
     "output_type": "execute_result"
    }
   ],
   "source": [
    "data_normal.T"
   ],
   "metadata": {
    "collapsed": false,
    "pycharm": {
     "name": "#%%\n"
    }
   }
  },
  {
   "cell_type": "code",
   "execution_count": 148,
   "outputs": [
    {
     "data": {
      "text/plain": "array([[-1.90615566e-03, -4.75319302e-04, -4.70065618e-02,\n         2.25255930e-01,  9.82089183e-02, -2.20758056e-01,\n        -8.52483156e-01, -3.65140031e-01, -1.65925760e-01,\n        -5.62139324e-03, -2.07811823e-02,  2.48378617e-02,\n        -8.18675258e-04],\n       [ 2.68379014e-04, -2.11118304e-03,  3.21935310e-02,\n         1.25115825e-01,  9.16405147e-01, -3.07909300e-01,\n         1.86306127e-01,  7.26209733e-02, -1.81047372e-02,\n        -1.16925805e-02,  8.44468784e-02, -2.41209813e-02,\n         2.31770029e-02],\n       [-2.56407459e-04, -4.21644285e-03,  5.19948847e-02,\n         4.67286333e-02,  2.01302236e-02, -3.45064791e-03,\n        -1.57617050e-02,  1.52544206e-01, -7.18891029e-02,\n        -1.38330530e-01, -6.68720003e-02,  6.75337422e-01,\n        -6.97354965e-01]])"
     },
     "execution_count": 148,
     "metadata": {},
     "output_type": "execute_result"
    }
   ],
   "source": [
    "new_vectors"
   ],
   "metadata": {
    "collapsed": false,
    "pycharm": {
     "name": "#%%\n"
    }
   }
  },
  {
   "cell_type": "code",
   "metadata": {
    "id": "HtJouKmSjPbD"
   },
   "source": [
    "new_data = new_vectors.dot(data_normal.T)"
   ],
   "execution_count": 149,
   "outputs": []
  },
  {
   "cell_type": "markdown",
   "metadata": {
    "id": "o5B93KQ3jTpf"
   },
   "source": [
    "<p>Να αποθηκεύσετε το νέο dataset σε ένα αρχείο <i>csv</i>.</p>"
   ]
  },
  {
   "cell_type": "code",
   "metadata": {
    "id": "W1uY6kFWjflf"
   },
   "source": [
    "np.savetxt(\"foo.csv\", new_data.T, delimiter=\",\")"
   ],
   "execution_count": 150,
   "outputs": []
  },
  {
   "cell_type": "markdown",
   "source": [
    "<h4><b><i>Ερωτήσεις</i></b></h4>\n",
    "<ul>\n",
    "<li>Να μελετήσετε το παραπάνω πρόγραμμα και να περιγράψετε, σύντομα, τα βήματα που ακολουθεί ο αλγόριθμος <b><i>PCA</i></b>, υλοποιημένος με τη μέθοδο <b><i>covariance</i></b>. Να συμπεριλάβετε και τις μαθηματικές πράξεις.</li>\n",
    "<li>Να εφαρμόσετε τον αλγόριθμο <b><i>PCA</i></b> πάνω στα δεδομένα του αρχείου <i><a href=\"https://github.com/nkostopoulos/StochasticsLabPublic/blob/master/lab2/demo3b.csv\">demo3b.csv</a></i>. Στη συνέχεια, να καταγράψετε τον <i>πίνακα συνδιακύμανσης</i> του dataset και τις ιδιοτιμές του πίνακα αυτού. Τι υποδηλώνουν οι θετικές και τι οι αρνητικές τιμές του <i>πίνακα συνδιακύμανσης</i>; Να διατάξετε τις <i>ιδιοτιμές</i> σε φθίνουσα σειρά. Τι παρατηρείτε για τις τρεις πρώτες σε σχέση με τις υπόλοιπες; Πόσες <i>κύριες συνιστώσες</i> επιλέγει να διατηρήσει ο αλγόριθμος;</li>\n",
    "</ul>"
   ],
   "metadata": {
    "collapsed": false
   }
  },
  {
   "cell_type": "markdown",
   "source": [
    "Ο αλγόριθμος PCA υλοποιημένος με τη μέθοδο covariance όπως παραπάνω κάνει τα κάτοθι.\n",
    "\n",
    "Αρχικά πρίζουμε ένα δειγματικό στοιχείο ως $\\vec{x}=[x_1, x_2, ..., x_m]^T$, όπου οι συνιστώσες x_i με i=1,2,...,m αποτελούν δειγματικές τιμές τυχαίων μεταβλητών $X_i$ αναφερόμενες σε τυχαία διανύσματα $\\vec{X}=[X_1, X_2, ..., X_m]^T$ του δειγματικού χώρου, υποθέτοντας $E[\\vec{X}]=E[X_i]=0, i=1,2,...,m$.\n",
    "\n",
    "Η συμμετρική μήτρα $R_{mxm}$ = E[X*X^T] είναι η μήτρα συσχέτισης (correlation matrix) των τυχαίων διανυσμάτων \\vec{X} με ιδιοδιανύσματα (eigenvectors) $\\vec{q_j}$ (διανύσματα-στήλες) και ιδιοτιμές (eigenvalues) $λ_j$ τέτοιες, ώστε να ισχύει: $R q_j = λ_j q_j, j=1,2,...m$ αριθμημένα κατά φθήνουσα σειρά με βάση τις ιδιοτιμές.\n",
    "\n",
    "Τα ιδιοδυνύσματα $q_j$ ορίζουν ορθοκανονικές κύριες κατευθύνσεις, μετασχηματίζοντας το δειγματικό στοιχείο δεδομένων $\\vec{x}=[x_1, x_2, ..., x_m]^T$ με m συντεταγμένες $x_i, i=1,2,...,m$ σε $\\vec{a}=[a_1, a_2, ..., a_m]^T = [x^T q_1, x^T q_2, ..., x^T q_m]^T$ με m συντεταγμένες $a_i, i=1,2,...,m$ που αποτελούν τις κύριες συνιστώσες (principal components). Σημειώνεται εδώ πως $λ_j=q_j^T R q_j = var(A_j) = σ_j^2$ όπου $A_j$ είναι η τυχαία μεταβλητή με δειγματική τιμή την κύρια συνιστώσα $a_j$.\n",
    "\n",
    "Τέλος οι αρχικές συντεταγμένες του δειγματικού στοιχείου μπορούν μονοσήμαντα να υπολογιστούν από τις κύριες συνιστώσες (decoding) ως $x=\\sum{j=1 to m, a_j q_j}$.\n",
    "\n",
    "Με βάση τα πραπάνω, η μεθοδολογία που ακολουθήθηκε εδώ είναι η εξής:\n",
    "- Εύρεση δειγματικού μέσου όρου $\\bar{x_j}=\\frac{1}{n}\\sum{i=1,to i=n, x_ij}$ όπου n: ο αριθμός των δειγματικών στοιχείων του δείγματος, κάθε χαρακτηριστικού/στήλης και κανονικοποίηση με βάση αυτόν (αφαιρώντας τον μέσο όρο από κάθε τιμή).\n",
    "- Εύρεση covariance matrix για τα κανονικοποιημένα δεδομένα\n",
    "- Υπολογισμός ιδιοτιμών και ιδιοδιανυσμάτων πίνακα συνδιακύμανσης (covariance matrix)\n",
    "- Οι ιδιοτιμές είναι με φθίνουσα σειρά με βάση την τιμή τους, άρα 1η είναι η μεγαλύτερη ιδιοτιμή, 2η είναι η 2η μεγαλύτερη κ.ο.κ. Κρατούμε εν προκειμένω τις 3 πρώτες κύριες συνιστώσες, θεωρώντας ότι περιγράφουν ικανοποιητικό ποσοστό της μεταβλητότητας (variance) των δεδομένων (δειγματικών στοιχείων)\n",
    "- Τέλος, παίρνουμε το dot product των ιδιοδιανυσμάτων αυτών που κρατήθηκαν με κάθε δειγματικό στοιχείο $\\vec{x}$ ως εξής:\n",
    "$\\vec{a}=[a_1, a_2, α_3]^T = [\\vec{x}^T\\vec{q_1}, \\vec{x}^T\\vec{q_2}, \\vec{x}^T\\vec{q_3}]^T$, όπου $\\vec{q_1}, \\vec{q_2}, \\vec{q_3}$ τα 3 ιδιοδιανύσματα που αντιστοιχούν στις 3 μεγαλύτερες ιδιοτιμές του πίνακα συνδιακύμανσης $λ_1, λ_2, λ_3$"
   ],
   "metadata": {
    "collapsed": false,
    "pycharm": {
     "name": "#%% md\n"
    }
   }
  },
  {
   "cell_type": "markdown",
   "source": [
    "Εφαρμόζοντας τον αλγόριθμο PCA πάνω στα δεδομένα του αρχείου `demo3b.csv`, είδαμε προηγουμένως τον πίνακα συνδιακύμανσης και τις ιδιοτιμές του. θετική συνδιακύμανση για δύο χαρακτηριστικά (features) $X_1, X_2$ σημαίνει πως το άθροισμα γινομένων \\sum{i=1, to n, x_1i * x_2i} είναι θετικό και άρα διαφαίνεται μια τάση τα δεδομένα να βρίσκοντα στο 1ο και 3ο τεταρτημόριο, έχοντας μια κάποια γραμμική σχέση πιθανόν. Αντίστοιχα για αρνητικές τιμές, έχουμε 2ο και 4ο τεταρτημόριο.\n",
    "\n",
    "Οι τρεις πρώτες ιδιοτιμές (σε φθίνουσα σειρά) είναι οι εξής:\n",
    "- 1.24313073e+05\n",
    "- 1.93456026e+02\n",
    "- 9.50168321e+00]\n",
    "\n",
    "Οι υπόλοιπες ιδιοτιμές είναι οι ακόλουθες:\n",
    "\n",
    "- 1.32500169e+00\n",
    "- 8.10595669e-01\n",
    "- 4.51081713e-01\n",
    "- 2.69157831e-01\n",
    "- 1.60993380e-01\n",
    " -1.11100343e-01\n",
    "- 6.13399000e-03\n",
    "- 2.19782528e-02\n",
    "- 3.20312852e-02\n",
    "- 5.87421686e-02\n",
    "\n",
    "Είναι εμφανές ότι οι 3 πρώτες ιδιοτιμές είναι πολύ μεγαλύτερες από τις υπόλοιπες, πράγμα που σημαίνει ότι εξηγούν το μεγαλύτερο μέρος της διακύμανσης των δεδομένων και μπορούν με αυτό τον τρόπο να εξηγήσουν επαρκώς τα δεδομένα, αφαιρώντας τις υπόλοιπες ιδιοτιμές. Γενικώς, ένας αλγόριθμος θα επέλεγε τον αριθμό εκείνο των κύριων συνιστωσών (άρα και ιδιοτιμών) που θα επέτρεπε να επεξηγηθεί μεγάλο μέρος της διακύμανσης των δεδομένων πχ. μεγαλύτερο από 95%. Εδώ, αυθαίρετα επελέγησαν 3 κύριες συνιστώσες, ωστόσο βλέπομε ότι αυτές εξηγούν το μεγαλύτερο μέρος της διακύμνασης. Μάλιστα"
   ],
   "metadata": {
    "collapsed": false,
    "pycharm": {
     "name": "#%% md\n"
    }
   }
  },
  {
   "cell_type": "markdown",
   "metadata": {
    "id": "DBRxVL9BmqGw"
   },
   "source": [
    "<h3><b><i>Logistic Regression</i></b></h3>\n",
    "\n",
    "<p>Αρχικά, θα φορτώσετε τις απαραίτητες βιβλιοθήκες.</p>"
   ]
  },
  {
   "cell_type": "code",
   "metadata": {
    "id": "MiGjiOEQnpwn",
    "outputId": "873770f3-c5cf-404a-be17-4345deb0a90f",
    "colab": {
     "base_uri": "https://localhost:8080/"
    }
   },
   "source": [
    "!pip install pandas\n",
    "!pip install numpy\n",
    "!pip install matplotlib\n",
    "!pip install sklearn\n",
    "import pandas as pd\n",
    "import numpy as np\n",
    "import matplotlib.pyplot as plt\n",
    "from sklearn.model_selection import train_test_split\n",
    "from sklearn.decomposition import PCA\n",
    "from sklearn.preprocessing import StandardScaler\n",
    "from sklearn.linear_model import LogisticRegression"
   ],
   "execution_count": 151,
   "outputs": [
    {
     "name": "stdout",
     "output_type": "stream",
     "text": [
      "Requirement already satisfied: pandas in c:\\users\\user\\downloads\\dsml msc\\2nd semester\\στοχαστικές διεργασίες και βελτιστοποίηση\\stochasticslabpublic\\venv\\lib\\site-packages (1.4.1)\n",
      "Requirement already satisfied: pytz>=2020.1 in c:\\users\\user\\downloads\\dsml msc\\2nd semester\\στοχαστικές διεργασίες και βελτιστοποίηση\\stochasticslabpublic\\venv\\lib\\site-packages (from pandas) (2021.3)\n",
      "Requirement already satisfied: numpy>=1.21.0 in c:\\users\\user\\downloads\\dsml msc\\2nd semester\\στοχαστικές διεργασίες και βελτιστοποίηση\\stochasticslabpublic\\venv\\lib\\site-packages (from pandas) (1.22.3)\n",
      "Requirement already satisfied: python-dateutil>=2.8.1 in c:\\users\\user\\downloads\\dsml msc\\2nd semester\\στοχαστικές διεργασίες και βελτιστοποίηση\\stochasticslabpublic\\venv\\lib\\site-packages (from pandas) (2.8.2)\n",
      "Requirement already satisfied: six>=1.5 in c:\\users\\user\\downloads\\dsml msc\\2nd semester\\στοχαστικές διεργασίες και βελτιστοποίηση\\stochasticslabpublic\\venv\\lib\\site-packages (from python-dateutil>=2.8.1->pandas) (1.16.0)\n",
      "Requirement already satisfied: numpy in c:\\users\\user\\downloads\\dsml msc\\2nd semester\\στοχαστικές διεργασίες και βελτιστοποίηση\\stochasticslabpublic\\venv\\lib\\site-packages (1.22.3)\n",
      "Requirement already satisfied: matplotlib in c:\\users\\user\\downloads\\dsml msc\\2nd semester\\στοχαστικές διεργασίες και βελτιστοποίηση\\stochasticslabpublic\\venv\\lib\\site-packages (3.5.1)\n",
      "Requirement already satisfied: numpy>=1.17 in c:\\users\\user\\downloads\\dsml msc\\2nd semester\\στοχαστικές διεργασίες και βελτιστοποίηση\\stochasticslabpublic\\venv\\lib\\site-packages (from matplotlib) (1.22.3)\n",
      "Requirement already satisfied: packaging>=20.0 in c:\\users\\user\\downloads\\dsml msc\\2nd semester\\στοχαστικές διεργασίες και βελτιστοποίηση\\stochasticslabpublic\\venv\\lib\\site-packages (from matplotlib) (21.3)\n",
      "Requirement already satisfied: fonttools>=4.22.0 in c:\\users\\user\\downloads\\dsml msc\\2nd semester\\στοχαστικές διεργασίες και βελτιστοποίηση\\stochasticslabpublic\\venv\\lib\\site-packages (from matplotlib) (4.30.0)\n",
      "Requirement already satisfied: cycler>=0.10 in c:\\users\\user\\downloads\\dsml msc\\2nd semester\\στοχαστικές διεργασίες και βελτιστοποίηση\\stochasticslabpublic\\venv\\lib\\site-packages (from matplotlib) (0.11.0)\n",
      "Requirement already satisfied: pillow>=6.2.0 in c:\\users\\user\\downloads\\dsml msc\\2nd semester\\στοχαστικές διεργασίες και βελτιστοποίηση\\stochasticslabpublic\\venv\\lib\\site-packages (from matplotlib) (9.0.1)\n",
      "Requirement already satisfied: kiwisolver>=1.0.1 in c:\\users\\user\\downloads\\dsml msc\\2nd semester\\στοχαστικές διεργασίες και βελτιστοποίηση\\stochasticslabpublic\\venv\\lib\\site-packages (from matplotlib) (1.3.2)\n",
      "Requirement already satisfied: pyparsing>=2.2.1 in c:\\users\\user\\downloads\\dsml msc\\2nd semester\\στοχαστικές διεργασίες και βελτιστοποίηση\\stochasticslabpublic\\venv\\lib\\site-packages (from matplotlib) (3.0.7)\n",
      "Requirement already satisfied: python-dateutil>=2.7 in c:\\users\\user\\downloads\\dsml msc\\2nd semester\\στοχαστικές διεργασίες και βελτιστοποίηση\\stochasticslabpublic\\venv\\lib\\site-packages (from matplotlib) (2.8.2)\n",
      "Requirement already satisfied: six>=1.5 in c:\\users\\user\\downloads\\dsml msc\\2nd semester\\στοχαστικές διεργασίες και βελτιστοποίηση\\stochasticslabpublic\\venv\\lib\\site-packages (from python-dateutil>=2.7->matplotlib) (1.16.0)\n",
      "Requirement already satisfied: sklearn in c:\\users\\user\\downloads\\dsml msc\\2nd semester\\στοχαστικές διεργασίες και βελτιστοποίηση\\stochasticslabpublic\\venv\\lib\\site-packages (0.0)\n",
      "Requirement already satisfied: scikit-learn in c:\\users\\user\\downloads\\dsml msc\\2nd semester\\στοχαστικές διεργασίες και βελτιστοποίηση\\stochasticslabpublic\\venv\\lib\\site-packages (from sklearn) (1.0.2)\n",
      "Requirement already satisfied: joblib>=0.11 in c:\\users\\user\\downloads\\dsml msc\\2nd semester\\στοχαστικές διεργασίες και βελτιστοποίηση\\stochasticslabpublic\\venv\\lib\\site-packages (from scikit-learn->sklearn) (1.1.0)\n",
      "Requirement already satisfied: threadpoolctl>=2.0.0 in c:\\users\\user\\downloads\\dsml msc\\2nd semester\\στοχαστικές διεργασίες και βελτιστοποίηση\\stochasticslabpublic\\venv\\lib\\site-packages (from scikit-learn->sklearn) (3.1.0)\n",
      "Requirement already satisfied: scipy>=1.1.0 in c:\\users\\user\\downloads\\dsml msc\\2nd semester\\στοχαστικές διεργασίες και βελτιστοποίηση\\stochasticslabpublic\\venv\\lib\\site-packages (from scikit-learn->sklearn) (1.8.0)\n",
      "Requirement already satisfied: numpy>=1.14.6 in c:\\users\\user\\downloads\\dsml msc\\2nd semester\\στοχαστικές διεργασίες και βελτιστοποίηση\\stochasticslabpublic\\venv\\lib\\site-packages (from scikit-learn->sklearn) (1.22.3)\n"
     ]
    }
   ]
  },
  {
   "cell_type": "markdown",
   "metadata": {
    "id": "JnNo_v4Jn3gn"
   },
   "source": [
    "Στη συνέχεια, θα φορτώσετε τα datasets που θα χρησιμοποιηθούν για την εκπαίδευση του μοντέλου <b><i>logistic regression</i></b>. Στην πρώτη περίπτωση, θα εκπαιδεύσετε το μοντέλο, χρησιμοποιώντας το αρχείο <i><a href=\"https://raw.githubusercontent.com/nkostopoulos/StochasticsLabPublic/master/lab2/demo3a.csv\">demo3a.csv</a></i>. Στη δεύτερη περίπτωση, θα φορτώσετε το αρχείο <i>foo.csv</i> που πήρατε ως έξοδο από το προηγούμενο τμήμα κώδικα της άσκησης (<i>Ανάλυση σε Κύριες Συνιστώσες</i>), προσθέτοντας στην πρώτη στήλη του αρχείου τα labels που υπάρχουν στην πρώτη στήλη του αρχείου <a href=\"https://raw.githubusercontent.com/nkostopoulos/StochasticsLabPublic/master/lab2/demo3a.csv\"><i>demo3a.csv</i></a>."
   ]
  },
  {
   "cell_type": "code",
   "metadata": {
    "id": "7cJDDmjxpSTT"
   },
   "source": [
    "#df = pd.read_csv(\"https://raw.githubusercontent.com/nkostopoulos/StochasticsLabPublic/master/lab2/demo3a.csv\")\n",
    "df = pd.read_csv(\"demo3a.csv\", header=None)\n",
    "#df = pd.read_csv(\"foo.csv\")"
   ],
   "execution_count": 152,
   "outputs": []
  },
  {
   "cell_type": "markdown",
   "metadata": {
    "id": "nyQn9Hjapdjj"
   },
   "source": [
    "<p>Έπειτα, θα χωρίσετε το dataset σε <i>training</i> και <i>test set</i>.</p>"
   ]
  },
  {
   "cell_type": "code",
   "execution_count": 153,
   "outputs": [
    {
     "data": {
      "text/plain": "     0      1     2     3     4    5     6     7     8     9     10    11  \\\n0     1  14.23  1.71  2.43  15.6  127  2.80  3.06  0.28  2.29  5.64  1.04   \n1     1  13.20  1.78  2.14  11.2  100  2.65  2.76  0.26  1.28  4.38  1.05   \n2     1  13.16  2.36  2.67  18.6  101  2.80  3.24  0.30  2.81  5.68  1.03   \n3     1  14.37  1.95  2.50  16.8  113  3.85  3.49  0.24  2.18  7.80  0.86   \n4     1  13.24  2.59  2.87  21.0  118  2.80  2.69  0.39  1.82  4.32  1.04   \n..   ..    ...   ...   ...   ...  ...   ...   ...   ...   ...   ...   ...   \n125   2  12.07  2.16  2.17  21.0   85  2.60  2.65  0.37  1.35  2.76  0.86   \n126   2  12.43  1.53  2.29  21.5   86  2.74  3.15  0.39  1.77  3.94  0.69   \n127   2  11.79  2.13  2.78  28.5   92  2.13  2.24  0.58  1.76  3.00  0.97   \n128   2  12.37  1.63  2.30  24.5   88  2.22  2.45  0.40  1.90  2.12  0.89   \n129   2  12.04  4.30  2.38  22.0   80  2.10  1.75  0.42  1.35  2.60  0.79   \n\n       12    13  \n0    3.92  1065  \n1    3.40  1050  \n2    3.17  1185  \n3    3.45  1480  \n4    2.93   735  \n..    ...   ...  \n125  3.28   378  \n126  2.84   352  \n127  2.44   466  \n128  2.78   342  \n129  2.57   580  \n\n[130 rows x 14 columns]",
      "text/html": "<div>\n<style scoped>\n    .dataframe tbody tr th:only-of-type {\n        vertical-align: middle;\n    }\n\n    .dataframe tbody tr th {\n        vertical-align: top;\n    }\n\n    .dataframe thead th {\n        text-align: right;\n    }\n</style>\n<table border=\"1\" class=\"dataframe\">\n  <thead>\n    <tr style=\"text-align: right;\">\n      <th></th>\n      <th>0</th>\n      <th>1</th>\n      <th>2</th>\n      <th>3</th>\n      <th>4</th>\n      <th>5</th>\n      <th>6</th>\n      <th>7</th>\n      <th>8</th>\n      <th>9</th>\n      <th>10</th>\n      <th>11</th>\n      <th>12</th>\n      <th>13</th>\n    </tr>\n  </thead>\n  <tbody>\n    <tr>\n      <th>0</th>\n      <td>1</td>\n      <td>14.23</td>\n      <td>1.71</td>\n      <td>2.43</td>\n      <td>15.6</td>\n      <td>127</td>\n      <td>2.80</td>\n      <td>3.06</td>\n      <td>0.28</td>\n      <td>2.29</td>\n      <td>5.64</td>\n      <td>1.04</td>\n      <td>3.92</td>\n      <td>1065</td>\n    </tr>\n    <tr>\n      <th>1</th>\n      <td>1</td>\n      <td>13.20</td>\n      <td>1.78</td>\n      <td>2.14</td>\n      <td>11.2</td>\n      <td>100</td>\n      <td>2.65</td>\n      <td>2.76</td>\n      <td>0.26</td>\n      <td>1.28</td>\n      <td>4.38</td>\n      <td>1.05</td>\n      <td>3.40</td>\n      <td>1050</td>\n    </tr>\n    <tr>\n      <th>2</th>\n      <td>1</td>\n      <td>13.16</td>\n      <td>2.36</td>\n      <td>2.67</td>\n      <td>18.6</td>\n      <td>101</td>\n      <td>2.80</td>\n      <td>3.24</td>\n      <td>0.30</td>\n      <td>2.81</td>\n      <td>5.68</td>\n      <td>1.03</td>\n      <td>3.17</td>\n      <td>1185</td>\n    </tr>\n    <tr>\n      <th>3</th>\n      <td>1</td>\n      <td>14.37</td>\n      <td>1.95</td>\n      <td>2.50</td>\n      <td>16.8</td>\n      <td>113</td>\n      <td>3.85</td>\n      <td>3.49</td>\n      <td>0.24</td>\n      <td>2.18</td>\n      <td>7.80</td>\n      <td>0.86</td>\n      <td>3.45</td>\n      <td>1480</td>\n    </tr>\n    <tr>\n      <th>4</th>\n      <td>1</td>\n      <td>13.24</td>\n      <td>2.59</td>\n      <td>2.87</td>\n      <td>21.0</td>\n      <td>118</td>\n      <td>2.80</td>\n      <td>2.69</td>\n      <td>0.39</td>\n      <td>1.82</td>\n      <td>4.32</td>\n      <td>1.04</td>\n      <td>2.93</td>\n      <td>735</td>\n    </tr>\n    <tr>\n      <th>...</th>\n      <td>...</td>\n      <td>...</td>\n      <td>...</td>\n      <td>...</td>\n      <td>...</td>\n      <td>...</td>\n      <td>...</td>\n      <td>...</td>\n      <td>...</td>\n      <td>...</td>\n      <td>...</td>\n      <td>...</td>\n      <td>...</td>\n      <td>...</td>\n    </tr>\n    <tr>\n      <th>125</th>\n      <td>2</td>\n      <td>12.07</td>\n      <td>2.16</td>\n      <td>2.17</td>\n      <td>21.0</td>\n      <td>85</td>\n      <td>2.60</td>\n      <td>2.65</td>\n      <td>0.37</td>\n      <td>1.35</td>\n      <td>2.76</td>\n      <td>0.86</td>\n      <td>3.28</td>\n      <td>378</td>\n    </tr>\n    <tr>\n      <th>126</th>\n      <td>2</td>\n      <td>12.43</td>\n      <td>1.53</td>\n      <td>2.29</td>\n      <td>21.5</td>\n      <td>86</td>\n      <td>2.74</td>\n      <td>3.15</td>\n      <td>0.39</td>\n      <td>1.77</td>\n      <td>3.94</td>\n      <td>0.69</td>\n      <td>2.84</td>\n      <td>352</td>\n    </tr>\n    <tr>\n      <th>127</th>\n      <td>2</td>\n      <td>11.79</td>\n      <td>2.13</td>\n      <td>2.78</td>\n      <td>28.5</td>\n      <td>92</td>\n      <td>2.13</td>\n      <td>2.24</td>\n      <td>0.58</td>\n      <td>1.76</td>\n      <td>3.00</td>\n      <td>0.97</td>\n      <td>2.44</td>\n      <td>466</td>\n    </tr>\n    <tr>\n      <th>128</th>\n      <td>2</td>\n      <td>12.37</td>\n      <td>1.63</td>\n      <td>2.30</td>\n      <td>24.5</td>\n      <td>88</td>\n      <td>2.22</td>\n      <td>2.45</td>\n      <td>0.40</td>\n      <td>1.90</td>\n      <td>2.12</td>\n      <td>0.89</td>\n      <td>2.78</td>\n      <td>342</td>\n    </tr>\n    <tr>\n      <th>129</th>\n      <td>2</td>\n      <td>12.04</td>\n      <td>4.30</td>\n      <td>2.38</td>\n      <td>22.0</td>\n      <td>80</td>\n      <td>2.10</td>\n      <td>1.75</td>\n      <td>0.42</td>\n      <td>1.35</td>\n      <td>2.60</td>\n      <td>0.79</td>\n      <td>2.57</td>\n      <td>580</td>\n    </tr>\n  </tbody>\n</table>\n<p>130 rows × 14 columns</p>\n</div>"
     },
     "execution_count": 153,
     "metadata": {},
     "output_type": "execute_result"
    }
   ],
   "source": [
    "df"
   ],
   "metadata": {
    "collapsed": false,
    "pycharm": {
     "name": "#%%\n"
    }
   }
  },
  {
   "cell_type": "code",
   "metadata": {
    "id": "NuWbSbVwpWUe"
   },
   "source": [
    "# Separate the input features from the target variable\n",
    "x = df.iloc[:,1:13].values\n",
    "y = df.iloc[:,0].values\n",
    "# Split the dataset into train and test set\n",
    "Xtrain,Xtest,Ytrain,Ytest = train_test_split(x,y, test_size = 0.2, random_state=42)"
   ],
   "execution_count": 154,
   "outputs": []
  },
  {
   "cell_type": "markdown",
   "metadata": {
    "id": "HFvPctcepyai"
   },
   "source": [
    "<p>Έπειτα, θα εκπαιδεύσετε το μοντέλο <b><i>Logistic Regression</i></b></p>"
   ]
  },
  {
   "cell_type": "code",
   "metadata": {
    "id": "cDquqsFOpuUl",
    "outputId": "74123753-408e-4a25-a67b-af204ddc24f7",
    "colab": {
     "base_uri": "https://localhost:8080/"
    }
   },
   "source": [
    "classifier = LogisticRegression(max_iter = 1000)\n",
    "classifier.fit(Xtrain,Ytrain)"
   ],
   "execution_count": 155,
   "outputs": [
    {
     "data": {
      "text/plain": "LogisticRegression(max_iter=1000)"
     },
     "execution_count": 155,
     "metadata": {},
     "output_type": "execute_result"
    }
   ]
  },
  {
   "cell_type": "markdown",
   "metadata": {
    "id": "ZGx2iFUlqC4w"
   },
   "source": [
    "<p>Τέλος, θα λάβετε τις προβλέψεις του μοντέλου που εκπαιδεύσατε πάνω στο test set και θα υπολογίσετε τα συνολικά λάθη.</p>"
   ]
  },
  {
   "cell_type": "code",
   "metadata": {
    "id": "opOmr-vCqOKL",
    "outputId": "99217e4f-1332-44af-d2dd-cdad4095e87c",
    "colab": {
     "base_uri": "https://localhost:8080/"
    }
   },
   "source": [
    "# Get the predictions on the test set\n",
    "prediction = classifier.predict(Xtest)\n",
    "\n",
    "# Calculate the total number of errors on the test set\n",
    "errors = 0\n",
    "for index in range(0,len(prediction) - 1):\n",
    "\tif prediction[index] != Ytest[index]:\n",
    "\t\terrors += 1\n",
    "\n",
    "print(\"Total errors on the test dataset of 'demo3a.csv'\")\n",
    "print(errors)"
   ],
   "execution_count": 156,
   "outputs": [
    {
     "name": "stdout",
     "output_type": "stream",
     "text": [
      "Total errors on the test dataset of 'demo3a.csv'\n",
      "3\n"
     ]
    }
   ]
  },
  {
   "cell_type": "markdown",
   "metadata": {
    "id": "xRVRieelqVsA"
   },
   "source": [
    "<h4><b><i>Ερώτηση</i></b></h4>\n",
    "<p>Να εκτελέσετε παραπάνω τμήματα κώδικα με είσοδο τα αρχεία (a) <i><a href=\"https://raw.githubusercontent.com/nkostopoulos/StochasticsLabPublic/master/lab2/demo3a.csv\">demo3a.csv</a></i> και (b) <i>foo.csv</i>. Τι παρατηρείτε για την ακρίβεια του μοντέλου στις δύο περιπτώσεις; Δοκιμάστε και για την περίπτωση που κρατάμε (α) 1 και (β) 2 <i>κύριες συνιστώσες</i>. Τι παρατηρείτε;</p>"
   ]
  },
  {
   "cell_type": "code",
   "execution_count": 157,
   "outputs": [
    {
     "name": "stdout",
     "output_type": "stream",
     "text": [
      "Total errors on the test dataset of 'foo.csv' with 3 Principal Components:\n",
      "2\n"
     ]
    }
   ],
   "source": [
    "df2 = pd.read_csv(\"foo.csv\", header=None)\n",
    "df2['Labels'] = df.iloc[:, 0]\n",
    "df2\n",
    "\n",
    "# Separate the input features from the target variable\n",
    "x2 = df2.iloc[:,0:3].values\n",
    "y2 = df2.iloc[:,3].values\n",
    "# Split the dataset into train and test set\n",
    "Xtrain2,Xtest2,Ytrain2,Ytest2 = train_test_split(x2,y2, test_size = 0.2,\n",
    "\t\t\t\t\t\t\t\t\t\t\t\t random_state=42)\n",
    "\n",
    "classifier2 = LogisticRegression(max_iter = 1000)\n",
    "classifier2.fit(Xtrain2,Ytrain2)\n",
    "\n",
    "# Get the predictions on the test set\n",
    "prediction2 = classifier2.predict(Xtest2)\n",
    "\n",
    "# Calculate the total number of errors on the test set\n",
    "errors2 = 0\n",
    "for index in range(0,len(prediction2) - 1):\n",
    "\tif prediction2[index] != Ytest2[index]:\n",
    "\t\terrors2 += 1\n",
    "\n",
    "print(\"Total errors on the test dataset of 'foo.csv' with 3 Principal Components:\")\n",
    "print(errors2)"
   ],
   "metadata": {
    "collapsed": false,
    "pycharm": {
     "name": "#%%\n"
    }
   }
  },
  {
   "cell_type": "markdown",
   "source": [
    "Βλέπουμε ότι χρησιμοποιώντας 3 PCs, το test error μειώθηκε (2 total errors αντί για 3), επομένως αν δεν είναι απλά τυχαίο (λόγω του random_state που χρησιμοποιήθηκε στην train_test_split για να έχουμε reproducible results) τότε βλέπουμε ότι το μοντέλο Logistic Regression που εκπαιδεύτηκε με τα PCAed δεδομένα με 3 συνιστώσες γενικεύει καλύτερα.\n",
    "\n",
    "Εν συνεχεία επαναλαμβάνουμε για 2 και 1 Principal Component(s)."
   ],
   "metadata": {
    "collapsed": false,
    "pycharm": {
     "name": "#%% md\n"
    }
   }
  },
  {
   "cell_type": "code",
   "execution_count": 158,
   "outputs": [
    {
     "data": {
      "text/plain": "            0          1           2  Labels\n0    1.110593  30.776989 -190.908942       1\n1   -2.046626   5.161373 -181.315593       1\n2   -1.140539  10.155461 -275.513261       1\n3   -0.923028  27.444470 -481.147170       1\n4    2.030113  15.555477   38.879192       1\n..        ...        ...         ...     ...\n125 -0.698433 -22.926241  287.632592       2\n126 -1.020506 -22.518236  305.331602       2\n127  1.862346 -13.410930  226.191452       2\n128  0.550358 -20.474065  312.688586       2\n129 -0.296349 -22.696166  146.285733       2\n\n[130 rows x 4 columns]",
      "text/html": "<div>\n<style scoped>\n    .dataframe tbody tr th:only-of-type {\n        vertical-align: middle;\n    }\n\n    .dataframe tbody tr th {\n        vertical-align: top;\n    }\n\n    .dataframe thead th {\n        text-align: right;\n    }\n</style>\n<table border=\"1\" class=\"dataframe\">\n  <thead>\n    <tr style=\"text-align: right;\">\n      <th></th>\n      <th>0</th>\n      <th>1</th>\n      <th>2</th>\n      <th>Labels</th>\n    </tr>\n  </thead>\n  <tbody>\n    <tr>\n      <th>0</th>\n      <td>1.110593</td>\n      <td>30.776989</td>\n      <td>-190.908942</td>\n      <td>1</td>\n    </tr>\n    <tr>\n      <th>1</th>\n      <td>-2.046626</td>\n      <td>5.161373</td>\n      <td>-181.315593</td>\n      <td>1</td>\n    </tr>\n    <tr>\n      <th>2</th>\n      <td>-1.140539</td>\n      <td>10.155461</td>\n      <td>-275.513261</td>\n      <td>1</td>\n    </tr>\n    <tr>\n      <th>3</th>\n      <td>-0.923028</td>\n      <td>27.444470</td>\n      <td>-481.147170</td>\n      <td>1</td>\n    </tr>\n    <tr>\n      <th>4</th>\n      <td>2.030113</td>\n      <td>15.555477</td>\n      <td>38.879192</td>\n      <td>1</td>\n    </tr>\n    <tr>\n      <th>...</th>\n      <td>...</td>\n      <td>...</td>\n      <td>...</td>\n      <td>...</td>\n    </tr>\n    <tr>\n      <th>125</th>\n      <td>-0.698433</td>\n      <td>-22.926241</td>\n      <td>287.632592</td>\n      <td>2</td>\n    </tr>\n    <tr>\n      <th>126</th>\n      <td>-1.020506</td>\n      <td>-22.518236</td>\n      <td>305.331602</td>\n      <td>2</td>\n    </tr>\n    <tr>\n      <th>127</th>\n      <td>1.862346</td>\n      <td>-13.410930</td>\n      <td>226.191452</td>\n      <td>2</td>\n    </tr>\n    <tr>\n      <th>128</th>\n      <td>0.550358</td>\n      <td>-20.474065</td>\n      <td>312.688586</td>\n      <td>2</td>\n    </tr>\n    <tr>\n      <th>129</th>\n      <td>-0.296349</td>\n      <td>-22.696166</td>\n      <td>146.285733</td>\n      <td>2</td>\n    </tr>\n  </tbody>\n</table>\n<p>130 rows × 4 columns</p>\n</div>"
     },
     "execution_count": 158,
     "metadata": {},
     "output_type": "execute_result"
    }
   ],
   "source": [
    "df2"
   ],
   "metadata": {
    "collapsed": false,
    "pycharm": {
     "name": "#%%\n"
    }
   }
  },
  {
   "cell_type": "markdown",
   "source": [
    "Παρατηρούμε ότι για την περίπτωση των 3 συνιστωσών ο αλγόριθμος PCA βοηθά το σύστημα στη γενίκευση πετυχαίνοντας μικρότερο error στο test set."
   ],
   "metadata": {
    "collapsed": false,
    "pycharm": {
     "name": "#%% md\n"
    }
   }
  },
  {
   "cell_type": "code",
   "execution_count": 166,
   "outputs": [
    {
     "name": "stdout",
     "output_type": "stream",
     "text": [
      "Total errors on the test dataset of 'foo.csv' with 2 Principal Components:\n",
      "3\n"
     ]
    }
   ],
   "source": [
    "# 2 Principal Components\n",
    "\n",
    "# Separate the input features from the target variable\n",
    "x3 = df2.iloc[:,1:3].values\n",
    "y3 = df2.iloc[:,3].values\n",
    "# Split the dataset into train and test set\n",
    "Xtrain3,Xtest3,Ytrain3,Ytest3 = train_test_split(x3,y3, test_size = 0.2,\n",
    "\t\t\t\t\t\t\t\t\t\t\t\t random_state=42)\n",
    "\n",
    "classifier3 = LogisticRegression(max_iter = 1000)\n",
    "classifier3.fit(Xtrain3,Ytrain3)\n",
    "\n",
    "# Get the predictions on the test set\n",
    "prediction3 = classifier3.predict(Xtest3)\n",
    "\n",
    "# Calculate the total number of errors on the test set\n",
    "errors3 = 0\n",
    "for index in range(0,len(prediction3) - 1):\n",
    "\tif prediction3[index] != Ytest3[index]:\n",
    "\t\terrors3 += 1\n",
    "\n",
    "print(\"Total errors on the test dataset of 'foo.csv' with 2 Principal Components:\")\n",
    "print(errors3)"
   ],
   "metadata": {
    "collapsed": false,
    "pycharm": {
     "name": "#%%\n"
    }
   }
  },
  {
   "cell_type": "code",
   "execution_count": 167,
   "outputs": [
    {
     "name": "stdout",
     "output_type": "stream",
     "text": [
      "Total errors on the test dataset of 'foo.csv' with 1 Principal Component:\n",
      "3\n"
     ]
    }
   ],
   "source": [
    "# 1 Principal Component\n",
    "\n",
    "# Separate the input features from the target variable\n",
    "x4 = df2.iloc[:,2:3].values\n",
    "y4 = df2.iloc[:,3].values\n",
    "# Split the dataset into train and test set\n",
    "Xtrain4,Xtest4,Ytrain4,Ytest4 = train_test_split(x4,y4, test_size = 0.2,\n",
    "\t\t\t\t\t\t\t\t\t\t\t\t random_state=42)\n",
    "\n",
    "classifier4 = LogisticRegression(max_iter = 1000)\n",
    "classifier4.fit(Xtrain4,Ytrain4)\n",
    "\n",
    "# Get the predictions on the test set\n",
    "prediction4 = classifier4.predict(Xtest4)\n",
    "\n",
    "# Calculate the total number of errors on the test set\n",
    "errors4 = 0\n",
    "for index in range(0,len(prediction4) - 1):\n",
    "\tif prediction4[index] != Ytest4[index]:\n",
    "\t\terrors4 += 1\n",
    "\n",
    "print(\"Total errors on the test dataset of 'foo.csv' with 1 Principal Component:\")\n",
    "print(errors4)"
   ],
   "metadata": {
    "collapsed": false,
    "pycharm": {
     "name": "#%%\n"
    }
   }
  },
  {
   "cell_type": "markdown",
   "source": [
    "Βλέπουμε παραπάνω πως είτε με τα 2 πρώτα principal components είτε με το 1ο μίνο το σφάλμα είναι ίσο με εκείνο για όλα τα αρχικά χαρακτηριστικά. Αυτό μπορεί να δικαιολογηθεί από το γεγονός πως το 1ο principal component εξηγεί το μεγαλύτερο μέρος της διασποράς. Μάλιστα θα δείξουμε την τιμή του καθώς και ένα 2D διάγραμμα με τα δειγματικά στοιχεία για τις 2 πρώτες κύριες συνιστώσες ως άξονες όπου θα φανεί ότι η διακύμανση στον οριζόντιο άξονα (1η κύρια συνιστώσα) είνα σημαντικά υψηλότερη από κείνη στη 2η συνιστώσα (κάθετος άξονας)."
   ],
   "metadata": {
    "collapsed": false,
    "pycharm": {
     "name": "#%% md\n"
    }
   }
  },
  {
   "cell_type": "code",
   "execution_count": 178,
   "outputs": [
    {
     "name": "stdout",
     "output_type": "stream",
     "text": [
      "The variance that the 1st Principal Component explains out of 100% of the variance is: 99.83%\n"
     ]
    }
   ],
   "source": [
    "PC1_eigenvalue = values[0]\n",
    "print(f'The variance that the 1st Principal Component explains out of 100% of the variance is: {round(100 * PC1_eigenvalue/sum(values), 2)}%')"
   ],
   "metadata": {
    "collapsed": false,
    "pycharm": {
     "name": "#%%\n"
    }
   }
  },
  {
   "cell_type": "code",
   "execution_count": 179,
   "outputs": [
    {
     "data": {
      "text/plain": "            0          1           2  Labels\n0    1.110593  30.776989 -190.908942       1\n1   -2.046626   5.161373 -181.315593       1\n2   -1.140539  10.155461 -275.513261       1\n3   -0.923028  27.444470 -481.147170       1\n4    2.030113  15.555477   38.879192       1\n..        ...        ...         ...     ...\n125 -0.698433 -22.926241  287.632592       2\n126 -1.020506 -22.518236  305.331602       2\n127  1.862346 -13.410930  226.191452       2\n128  0.550358 -20.474065  312.688586       2\n129 -0.296349 -22.696166  146.285733       2\n\n[130 rows x 4 columns]",
      "text/html": "<div>\n<style scoped>\n    .dataframe tbody tr th:only-of-type {\n        vertical-align: middle;\n    }\n\n    .dataframe tbody tr th {\n        vertical-align: top;\n    }\n\n    .dataframe thead th {\n        text-align: right;\n    }\n</style>\n<table border=\"1\" class=\"dataframe\">\n  <thead>\n    <tr style=\"text-align: right;\">\n      <th></th>\n      <th>0</th>\n      <th>1</th>\n      <th>2</th>\n      <th>Labels</th>\n    </tr>\n  </thead>\n  <tbody>\n    <tr>\n      <th>0</th>\n      <td>1.110593</td>\n      <td>30.776989</td>\n      <td>-190.908942</td>\n      <td>1</td>\n    </tr>\n    <tr>\n      <th>1</th>\n      <td>-2.046626</td>\n      <td>5.161373</td>\n      <td>-181.315593</td>\n      <td>1</td>\n    </tr>\n    <tr>\n      <th>2</th>\n      <td>-1.140539</td>\n      <td>10.155461</td>\n      <td>-275.513261</td>\n      <td>1</td>\n    </tr>\n    <tr>\n      <th>3</th>\n      <td>-0.923028</td>\n      <td>27.444470</td>\n      <td>-481.147170</td>\n      <td>1</td>\n    </tr>\n    <tr>\n      <th>4</th>\n      <td>2.030113</td>\n      <td>15.555477</td>\n      <td>38.879192</td>\n      <td>1</td>\n    </tr>\n    <tr>\n      <th>...</th>\n      <td>...</td>\n      <td>...</td>\n      <td>...</td>\n      <td>...</td>\n    </tr>\n    <tr>\n      <th>125</th>\n      <td>-0.698433</td>\n      <td>-22.926241</td>\n      <td>287.632592</td>\n      <td>2</td>\n    </tr>\n    <tr>\n      <th>126</th>\n      <td>-1.020506</td>\n      <td>-22.518236</td>\n      <td>305.331602</td>\n      <td>2</td>\n    </tr>\n    <tr>\n      <th>127</th>\n      <td>1.862346</td>\n      <td>-13.410930</td>\n      <td>226.191452</td>\n      <td>2</td>\n    </tr>\n    <tr>\n      <th>128</th>\n      <td>0.550358</td>\n      <td>-20.474065</td>\n      <td>312.688586</td>\n      <td>2</td>\n    </tr>\n    <tr>\n      <th>129</th>\n      <td>-0.296349</td>\n      <td>-22.696166</td>\n      <td>146.285733</td>\n      <td>2</td>\n    </tr>\n  </tbody>\n</table>\n<p>130 rows × 4 columns</p>\n</div>"
     },
     "execution_count": 179,
     "metadata": {},
     "output_type": "execute_result"
    }
   ],
   "source": [
    "df2"
   ],
   "metadata": {
    "collapsed": false,
    "pycharm": {
     "name": "#%%\n"
    }
   }
  },
  {
   "cell_type": "code",
   "execution_count": 182,
   "outputs": [
    {
     "data": {
      "text/plain": "<Figure size 432x288 with 1 Axes>",
      "image/png": "[encoded data removed]"
     },
     "metadata": {
      "needs_background": "light"
     },
     "output_type": "display_data"
    }
   ],
   "source": [
    "pca_1 = df2.iloc[:, 2]\n",
    "pca_2 = df2.iloc[:, 1]\n",
    "\n",
    "plt.scatter(x=pca_1, y=pca_2)\n",
    "\n",
    "plt.title('Scatter plot for 2 first Principal Components')\n",
    "plt.xlabel('PCA 1')\n",
    "plt.ylabel('PCA2')\n",
    "plt.show()"
   ],
   "metadata": {
    "collapsed": false,
    "pycharm": {
     "name": "#%%\n"
    }
   }
  },
  {
   "cell_type": "markdown",
   "source": [
    "Είναι πρόδηλο από το προηγούμενο διάγραμμα ότι η διακύμανση στον οριζόντιο άξονα (τιμές από -600 ως 400) είναι πολύ μεγαλύτερη από τη διακύμανση στον κάθετο άξονα (τιμές από -20 ως 60)."
   ],
   "metadata": {
    "collapsed": false,
    "pycharm": {
     "name": "#%% md\n"
    }
   }
  },
  {
   "cell_type": "markdown",
   "metadata": {
    "id": "gqPhHDExffku"
   },
   "source": [
    "<h3><b><i>Συμπληρωματικές Ερωτήσεις</i></b></h3>\n",
    "<ul>\n",
    "<li>Ποια είναι η χρησιμότητα του αλγορίθμου <b><i>PCA</i></b> ως προς τη δυνατότητα <i>οπτικοποίησης</i> (<i>visualization</i>) των δεδομένων του dataset;</li>\n",
    "<li>Ποια είναι η χρησιμότητα του αλγορίθμου <b><i>PCA</i></b> ως προς την ταχύτητα εκπαίδευσης του μοντέλου logistic regression; Να βασίσετε την απάντησή σας στα δύο παρακάτω τμήματα κώδικα.</li>\n",
    "</ul>"
   ]
  },
  {
   "cell_type": "markdown",
   "source": [
    "Ο αλγόριθμος PCA μας επιτρέπει να βρούμε τις κύριες συνιστώσες που παρουσιάζεται η μεγαλύτερη διακύμανση στα δεδομένα και ύστερα κρατώντας για παράδειγμα τις 2 πρώτες, μπορούμε να οπτικοποιήσουμε δεδομένα μεγάλων διαστάσεων στο επίπεδο (2 διαστάσεις). Αυτό είναι πολύ χρήσιμο τόσο σε περιπτώσεις επιβλεπόμενης όσο και μη επιβλεπόμενης μάθησης ώστε να μελετήσουμε τη διαχωρισιμότητα των δεδομένων μας με οπτικό τρόπο ή πχ να αξιολογήσουμε τα clusters που προκύπτουν μέσω ενός αλγορίθμου συσταδοποίησης.\n",
    "\n",
    "Ακόμη, η ταχύτητα εκπαίδευσης του μοντέλου αυξάνεται καθώς μειώνεται ο χώρος των χαρακτηριστικών. Ειδικά σε περιπτώσεις βαθιών νευρωνικών δικτύων με εκατομμύρια ή περισσότερα βάρη, αυτή η μείωση της διαστατικότητας των δεδομένων εισόδων μπορεί να μειώσει τον αριθμό των βαρών (παραμέτρων) του μοντέλου και άρα και το χρόνο εκπαίδευσης του δικτύου σημαντικά."
   ],
   "metadata": {
    "collapsed": false,
    "pycharm": {
     "name": "#%% md\n"
    }
   }
  }
 ]
}