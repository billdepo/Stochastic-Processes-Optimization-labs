{
 "cells": [
  {
   "cell_type": "markdown",
   "metadata": {},
   "source": [
    "<h1><b>Ο Αλγόριθμος k-means</b></h1>\n",
    "<p align=\"justify\">Στην άσκηση αυτή θα μελετήσετε τον αλγόριθμο μη επιβλεπόμενης μάθησης <a href=\"https://en.wikipedia.org/wiki/K-means_clustering\"><i>k-means</i></a>, κατασκευάζοντας ένα σύντομο πρόγραμμα. Για την παρούσα άσκηση θα χρησιμοποιήσετε τη βιβλιοθήκη <i>Scikit-Learn</i> της <i>Python</i>. Συγκεκριμένα, θα διαχωρίσετε σε <i>συστάδες (clusters)</i> 150 παραδείγματα του φυτού <i>Ίρις</i> με βάση το unlabeled dataset που σας δίνεται στο τέλος της εκφώνησης και με βάση αυτό μπορείτε να χτίσετε και το ενιαίο πρόγραμμα που θα σας ζητηθεί. Τα <i>χαρακτηριστικά (features)</i> που περιλαμβάνονται στο <i>dataset</i> και που περιγράφουν το κάθε παράδειγμα είναι τα εξής: το <i>μήκος του Σέπαλου (sepal length)</i>, το <i>πλάτος του Σέπαλου (sepal width)</i>, το <i>μήκος των Πετάλων (petal length)</i> και το <i>πλάτος των Πετάλων (petal width)</i>.</p>\n",
    "<p>Καλείστε να αναπτύξετε ένα ενιαίο πρόγραμμα που να κάνει τα παρακάτω:</p>\n",
    "<ul>\n",
    "<li>Να υλοποιεί την μέθοδο <a href=\"https://en.wikipedia.org/wiki/Elbow_method_(clustering)\"><i>«Elbow»</i></a> στο δείγμα του φυτού <i>Ίρις</i>, ώστε να εντοπίσετε έναν επαρκή αριθμό <i>συστάδων</i>. Τι παρατηρείτε;</li>\n",
    "<li>Να υλοποιεί τον αλγόριθμο <i>k-means</i> με βάση τον αριθμό <i>συστάδων</i> που βρήκατε στο προηγούμενο ερώτημα. Περιγράψτε πώς λειτουργεί ο αλγόριθμος.</li>\n",
    "<li>Επιχειρήστε να υλοποιήσετε ελέγχους σχετικά με την απόδοση του αλγορίθμου\n",
    "(<i>Ακρίβειας – Accuracy</i>, <a href=\"https://en.wikipedia.org/wiki/Confusion_matrix\"><i>Τιμές Μήτρας Λαθών – Error Matrix</i></a>).</li>\n",
    "</ul>"
   ]
  },
  {
   "cell_type": "code",
   "execution_count": 85,
   "metadata": {
    "id": "AKD4pxD3AFRE"
   },
   "outputs": [],
   "source": [
    "import matplotlib.pyplot as plt\n",
    "from sklearn import datasets\n",
    "from sklearn.cluster import KMeans\n",
    "import sklearn.metrics as scikitmetrics\n",
    "import seaborn as sns\n",
    "    \n",
    "import pandas as pd\n",
    "import numpy as np"
   ]
  },
  {
   "cell_type": "code",
   "execution_count": 86,
   "metadata": {
    "id": "nB5RhnF3ALt3"
   },
   "outputs": [
    {
     "name": "stdout",
     "output_type": "stream",
     "text": [
      "{'data': array([[5.1, 3.5, 1.4, 0.2],\n",
      "       [4.9, 3. , 1.4, 0.2],\n",
      "       [4.7, 3.2, 1.3, 0.2],\n",
      "       [4.6, 3.1, 1.5, 0.2],\n",
      "       [5. , 3.6, 1.4, 0.2],\n",
      "       [5.4, 3.9, 1.7, 0.4],\n",
      "       [4.6, 3.4, 1.4, 0.3],\n",
      "       [5. , 3.4, 1.5, 0.2],\n",
      "       [4.4, 2.9, 1.4, 0.2],\n",
      "       [4.9, 3.1, 1.5, 0.1],\n",
      "       [5.4, 3.7, 1.5, 0.2],\n",
      "       [4.8, 3.4, 1.6, 0.2],\n",
      "       [4.8, 3. , 1.4, 0.1],\n",
      "       [4.3, 3. , 1.1, 0.1],\n",
      "       [5.8, 4. , 1.2, 0.2],\n",
      "       [5.7, 4.4, 1.5, 0.4],\n",
      "       [5.4, 3.9, 1.3, 0.4],\n",
      "       [5.1, 3.5, 1.4, 0.3],\n",
      "       [5.7, 3.8, 1.7, 0.3],\n",
      "       [5.1, 3.8, 1.5, 0.3],\n",
      "       [5.4, 3.4, 1.7, 0.2],\n",
      "       [5.1, 3.7, 1.5, 0.4],\n",
      "       [4.6, 3.6, 1. , 0.2],\n",
      "       [5.1, 3.3, 1.7, 0.5],\n",
      "       [4.8, 3.4, 1.9, 0.2],\n",
      "       [5. , 3. , 1.6, 0.2],\n",
      "       [5. , 3.4, 1.6, 0.4],\n",
      "       [5.2, 3.5, 1.5, 0.2],\n",
      "       [5.2, 3.4, 1.4, 0.2],\n",
      "       [4.7, 3.2, 1.6, 0.2],\n",
      "       [4.8, 3.1, 1.6, 0.2],\n",
      "       [5.4, 3.4, 1.5, 0.4],\n",
      "       [5.2, 4.1, 1.5, 0.1],\n",
      "       [5.5, 4.2, 1.4, 0.2],\n",
      "       [4.9, 3.1, 1.5, 0.2],\n",
      "       [5. , 3.2, 1.2, 0.2],\n",
      "       [5.5, 3.5, 1.3, 0.2],\n",
      "       [4.9, 3.6, 1.4, 0.1],\n",
      "       [4.4, 3. , 1.3, 0.2],\n",
      "       [5.1, 3.4, 1.5, 0.2],\n",
      "       [5. , 3.5, 1.3, 0.3],\n",
      "       [4.5, 2.3, 1.3, 0.3],\n",
      "       [4.4, 3.2, 1.3, 0.2],\n",
      "       [5. , 3.5, 1.6, 0.6],\n",
      "       [5.1, 3.8, 1.9, 0.4],\n",
      "       [4.8, 3. , 1.4, 0.3],\n",
      "       [5.1, 3.8, 1.6, 0.2],\n",
      "       [4.6, 3.2, 1.4, 0.2],\n",
      "       [5.3, 3.7, 1.5, 0.2],\n",
      "       [5. , 3.3, 1.4, 0.2],\n",
      "       [7. , 3.2, 4.7, 1.4],\n",
      "       [6.4, 3.2, 4.5, 1.5],\n",
      "       [6.9, 3.1, 4.9, 1.5],\n",
      "       [5.5, 2.3, 4. , 1.3],\n",
      "       [6.5, 2.8, 4.6, 1.5],\n",
      "       [5.7, 2.8, 4.5, 1.3],\n",
      "       [6.3, 3.3, 4.7, 1.6],\n",
      "       [4.9, 2.4, 3.3, 1. ],\n",
      "       [6.6, 2.9, 4.6, 1.3],\n",
      "       [5.2, 2.7, 3.9, 1.4],\n",
      "       [5. , 2. , 3.5, 1. ],\n",
      "       [5.9, 3. , 4.2, 1.5],\n",
      "       [6. , 2.2, 4. , 1. ],\n",
      "       [6.1, 2.9, 4.7, 1.4],\n",
      "       [5.6, 2.9, 3.6, 1.3],\n",
      "       [6.7, 3.1, 4.4, 1.4],\n",
      "       [5.6, 3. , 4.5, 1.5],\n",
      "       [5.8, 2.7, 4.1, 1. ],\n",
      "       [6.2, 2.2, 4.5, 1.5],\n",
      "       [5.6, 2.5, 3.9, 1.1],\n",
      "       [5.9, 3.2, 4.8, 1.8],\n",
      "       [6.1, 2.8, 4. , 1.3],\n",
      "       [6.3, 2.5, 4.9, 1.5],\n",
      "       [6.1, 2.8, 4.7, 1.2],\n",
      "       [6.4, 2.9, 4.3, 1.3],\n",
      "       [6.6, 3. , 4.4, 1.4],\n",
      "       [6.8, 2.8, 4.8, 1.4],\n",
      "       [6.7, 3. , 5. , 1.7],\n",
      "       [6. , 2.9, 4.5, 1.5],\n",
      "       [5.7, 2.6, 3.5, 1. ],\n",
      "       [5.5, 2.4, 3.8, 1.1],\n",
      "       [5.5, 2.4, 3.7, 1. ],\n",
      "       [5.8, 2.7, 3.9, 1.2],\n",
      "       [6. , 2.7, 5.1, 1.6],\n",
      "       [5.4, 3. , 4.5, 1.5],\n",
      "       [6. , 3.4, 4.5, 1.6],\n",
      "       [6.7, 3.1, 4.7, 1.5],\n",
      "       [6.3, 2.3, 4.4, 1.3],\n",
      "       [5.6, 3. , 4.1, 1.3],\n",
      "       [5.5, 2.5, 4. , 1.3],\n",
      "       [5.5, 2.6, 4.4, 1.2],\n",
      "       [6.1, 3. , 4.6, 1.4],\n",
      "       [5.8, 2.6, 4. , 1.2],\n",
      "       [5. , 2.3, 3.3, 1. ],\n",
      "       [5.6, 2.7, 4.2, 1.3],\n",
      "       [5.7, 3. , 4.2, 1.2],\n",
      "       [5.7, 2.9, 4.2, 1.3],\n",
      "       [6.2, 2.9, 4.3, 1.3],\n",
      "       [5.1, 2.5, 3. , 1.1],\n",
      "       [5.7, 2.8, 4.1, 1.3],\n",
      "       [6.3, 3.3, 6. , 2.5],\n",
      "       [5.8, 2.7, 5.1, 1.9],\n",
      "       [7.1, 3. , 5.9, 2.1],\n",
      "       [6.3, 2.9, 5.6, 1.8],\n",
      "       [6.5, 3. , 5.8, 2.2],\n",
      "       [7.6, 3. , 6.6, 2.1],\n",
      "       [4.9, 2.5, 4.5, 1.7],\n",
      "       [7.3, 2.9, 6.3, 1.8],\n",
      "       [6.7, 2.5, 5.8, 1.8],\n",
      "       [7.2, 3.6, 6.1, 2.5],\n",
      "       [6.5, 3.2, 5.1, 2. ],\n",
      "       [6.4, 2.7, 5.3, 1.9],\n",
      "       [6.8, 3. , 5.5, 2.1],\n",
      "       [5.7, 2.5, 5. , 2. ],\n",
      "       [5.8, 2.8, 5.1, 2.4],\n",
      "       [6.4, 3.2, 5.3, 2.3],\n",
      "       [6.5, 3. , 5.5, 1.8],\n",
      "       [7.7, 3.8, 6.7, 2.2],\n",
      "       [7.7, 2.6, 6.9, 2.3],\n",
      "       [6. , 2.2, 5. , 1.5],\n",
      "       [6.9, 3.2, 5.7, 2.3],\n",
      "       [5.6, 2.8, 4.9, 2. ],\n",
      "       [7.7, 2.8, 6.7, 2. ],\n",
      "       [6.3, 2.7, 4.9, 1.8],\n",
      "       [6.7, 3.3, 5.7, 2.1],\n",
      "       [7.2, 3.2, 6. , 1.8],\n",
      "       [6.2, 2.8, 4.8, 1.8],\n",
      "       [6.1, 3. , 4.9, 1.8],\n",
      "       [6.4, 2.8, 5.6, 2.1],\n",
      "       [7.2, 3. , 5.8, 1.6],\n",
      "       [7.4, 2.8, 6.1, 1.9],\n",
      "       [7.9, 3.8, 6.4, 2. ],\n",
      "       [6.4, 2.8, 5.6, 2.2],\n",
      "       [6.3, 2.8, 5.1, 1.5],\n",
      "       [6.1, 2.6, 5.6, 1.4],\n",
      "       [7.7, 3. , 6.1, 2.3],\n",
      "       [6.3, 3.4, 5.6, 2.4],\n",
      "       [6.4, 3.1, 5.5, 1.8],\n",
      "       [6. , 3. , 4.8, 1.8],\n",
      "       [6.9, 3.1, 5.4, 2.1],\n",
      "       [6.7, 3.1, 5.6, 2.4],\n",
      "       [6.9, 3.1, 5.1, 2.3],\n",
      "       [5.8, 2.7, 5.1, 1.9],\n",
      "       [6.8, 3.2, 5.9, 2.3],\n",
      "       [6.7, 3.3, 5.7, 2.5],\n",
      "       [6.7, 3. , 5.2, 2.3],\n",
      "       [6.3, 2.5, 5. , 1.9],\n",
      "       [6.5, 3. , 5.2, 2. ],\n",
      "       [6.2, 3.4, 5.4, 2.3],\n",
      "       [5.9, 3. , 5.1, 1.8]]), 'target': array([0, 0, 0, 0, 0, 0, 0, 0, 0, 0, 0, 0, 0, 0, 0, 0, 0, 0, 0, 0, 0, 0,\n",
      "       0, 0, 0, 0, 0, 0, 0, 0, 0, 0, 0, 0, 0, 0, 0, 0, 0, 0, 0, 0, 0, 0,\n",
      "       0, 0, 0, 0, 0, 0, 1, 1, 1, 1, 1, 1, 1, 1, 1, 1, 1, 1, 1, 1, 1, 1,\n",
      "       1, 1, 1, 1, 1, 1, 1, 1, 1, 1, 1, 1, 1, 1, 1, 1, 1, 1, 1, 1, 1, 1,\n",
      "       1, 1, 1, 1, 1, 1, 1, 1, 1, 1, 1, 1, 2, 2, 2, 2, 2, 2, 2, 2, 2, 2,\n",
      "       2, 2, 2, 2, 2, 2, 2, 2, 2, 2, 2, 2, 2, 2, 2, 2, 2, 2, 2, 2, 2, 2,\n",
      "       2, 2, 2, 2, 2, 2, 2, 2, 2, 2, 2, 2, 2, 2, 2, 2, 2, 2]), 'frame': None, 'target_names': array(['setosa', 'versicolor', 'virginica'], dtype='<U10'), 'DESCR': '.. _iris_dataset:\\n\\nIris plants dataset\\n--------------------\\n\\n**Data Set Characteristics:**\\n\\n    :Number of Instances: 150 (50 in each of three classes)\\n    :Number of Attributes: 4 numeric, predictive attributes and the class\\n    :Attribute Information:\\n        - sepal length in cm\\n        - sepal width in cm\\n        - petal length in cm\\n        - petal width in cm\\n        - class:\\n                - Iris-Setosa\\n                - Iris-Versicolour\\n                - Iris-Virginica\\n                \\n    :Summary Statistics:\\n\\n    ============== ==== ==== ======= ===== ====================\\n                    Min  Max   Mean    SD   Class Correlation\\n    ============== ==== ==== ======= ===== ====================\\n    sepal length:   4.3  7.9   5.84   0.83    0.7826\\n    sepal width:    2.0  4.4   3.05   0.43   -0.4194\\n    petal length:   1.0  6.9   3.76   1.76    0.9490  (high!)\\n    petal width:    0.1  2.5   1.20   0.76    0.9565  (high!)\\n    ============== ==== ==== ======= ===== ====================\\n\\n    :Missing Attribute Values: None\\n    :Class Distribution: 33.3% for each of 3 classes.\\n    :Creator: R.A. Fisher\\n    :Donor: Michael Marshall (MARSHALL%PLU@io.arc.nasa.gov)\\n    :Date: July, 1988\\n\\nThe famous Iris database, first used by Sir R.A. Fisher. The dataset is taken\\nfrom Fisher\\'s paper. Note that it\\'s the same as in R, but not as in the UCI\\nMachine Learning Repository, which has two wrong data points.\\n\\nThis is perhaps the best known database to be found in the\\npattern recognition literature.  Fisher\\'s paper is a classic in the field and\\nis referenced frequently to this day.  (See Duda & Hart, for example.)  The\\ndata set contains 3 classes of 50 instances each, where each class refers to a\\ntype of iris plant.  One class is linearly separable from the other 2; the\\nlatter are NOT linearly separable from each other.\\n\\n.. topic:: References\\n\\n   - Fisher, R.A. \"The use of multiple measurements in taxonomic problems\"\\n     Annual Eugenics, 7, Part II, 179-188 (1936); also in \"Contributions to\\n     Mathematical Statistics\" (John Wiley, NY, 1950).\\n   - Duda, R.O., & Hart, P.E. (1973) Pattern Classification and Scene Analysis.\\n     (Q327.D83) John Wiley & Sons.  ISBN 0-471-22361-1.  See page 218.\\n   - Dasarathy, B.V. (1980) \"Nosing Around the Neighborhood: A New System\\n     Structure and Classification Rule for Recognition in Partially Exposed\\n     Environments\".  IEEE Transactions on Pattern Analysis and Machine\\n     Intelligence, Vol. PAMI-2, No. 1, 67-71.\\n   - Gates, G.W. (1972) \"The Reduced Nearest Neighbor Rule\".  IEEE Transactions\\n     on Information Theory, May 1972, 431-433.\\n   - See also: 1988 MLC Proceedings, 54-64.  Cheeseman et al\"s AUTOCLASS II\\n     conceptual clustering system finds 3 classes in the data.\\n   - Many, many more ...', 'feature_names': ['sepal length (cm)', 'sepal width (cm)', 'petal length (cm)', 'petal width (cm)'], 'filename': 'iris.csv', 'data_module': 'sklearn.datasets.data'}\n"
     ]
    }
   ],
   "source": [
    "# import some data to play with (from sklearn)\n",
    "iris = datasets.load_iris()\n",
    "print(iris)"
   ]
  },
  {
   "cell_type": "code",
   "execution_count": 87,
   "metadata": {
    "id": "pM0Yj-NGAQ4u"
   },
   "outputs": [
    {
     "name": "stdout",
     "output_type": "stream",
     "text": [
      "[[5.1 3.5 1.4 0.2]\n",
      " [4.9 3.  1.4 0.2]\n",
      " [4.7 3.2 1.3 0.2]\n",
      " [4.6 3.1 1.5 0.2]\n",
      " [5.  3.6 1.4 0.2]\n",
      " [5.4 3.9 1.7 0.4]\n",
      " [4.6 3.4 1.4 0.3]\n",
      " [5.  3.4 1.5 0.2]\n",
      " [4.4 2.9 1.4 0.2]\n",
      " [4.9 3.1 1.5 0.1]\n",
      " [5.4 3.7 1.5 0.2]\n",
      " [4.8 3.4 1.6 0.2]\n",
      " [4.8 3.  1.4 0.1]\n",
      " [4.3 3.  1.1 0.1]\n",
      " [5.8 4.  1.2 0.2]\n",
      " [5.7 4.4 1.5 0.4]\n",
      " [5.4 3.9 1.3 0.4]\n",
      " [5.1 3.5 1.4 0.3]\n",
      " [5.7 3.8 1.7 0.3]\n",
      " [5.1 3.8 1.5 0.3]\n",
      " [5.4 3.4 1.7 0.2]\n",
      " [5.1 3.7 1.5 0.4]\n",
      " [4.6 3.6 1.  0.2]\n",
      " [5.1 3.3 1.7 0.5]\n",
      " [4.8 3.4 1.9 0.2]\n",
      " [5.  3.  1.6 0.2]\n",
      " [5.  3.4 1.6 0.4]\n",
      " [5.2 3.5 1.5 0.2]\n",
      " [5.2 3.4 1.4 0.2]\n",
      " [4.7 3.2 1.6 0.2]\n",
      " [4.8 3.1 1.6 0.2]\n",
      " [5.4 3.4 1.5 0.4]\n",
      " [5.2 4.1 1.5 0.1]\n",
      " [5.5 4.2 1.4 0.2]\n",
      " [4.9 3.1 1.5 0.2]\n",
      " [5.  3.2 1.2 0.2]\n",
      " [5.5 3.5 1.3 0.2]\n",
      " [4.9 3.6 1.4 0.1]\n",
      " [4.4 3.  1.3 0.2]\n",
      " [5.1 3.4 1.5 0.2]\n",
      " [5.  3.5 1.3 0.3]\n",
      " [4.5 2.3 1.3 0.3]\n",
      " [4.4 3.2 1.3 0.2]\n",
      " [5.  3.5 1.6 0.6]\n",
      " [5.1 3.8 1.9 0.4]\n",
      " [4.8 3.  1.4 0.3]\n",
      " [5.1 3.8 1.6 0.2]\n",
      " [4.6 3.2 1.4 0.2]\n",
      " [5.3 3.7 1.5 0.2]\n",
      " [5.  3.3 1.4 0.2]\n",
      " [7.  3.2 4.7 1.4]\n",
      " [6.4 3.2 4.5 1.5]\n",
      " [6.9 3.1 4.9 1.5]\n",
      " [5.5 2.3 4.  1.3]\n",
      " [6.5 2.8 4.6 1.5]\n",
      " [5.7 2.8 4.5 1.3]\n",
      " [6.3 3.3 4.7 1.6]\n",
      " [4.9 2.4 3.3 1. ]\n",
      " [6.6 2.9 4.6 1.3]\n",
      " [5.2 2.7 3.9 1.4]\n",
      " [5.  2.  3.5 1. ]\n",
      " [5.9 3.  4.2 1.5]\n",
      " [6.  2.2 4.  1. ]\n",
      " [6.1 2.9 4.7 1.4]\n",
      " [5.6 2.9 3.6 1.3]\n",
      " [6.7 3.1 4.4 1.4]\n",
      " [5.6 3.  4.5 1.5]\n",
      " [5.8 2.7 4.1 1. ]\n",
      " [6.2 2.2 4.5 1.5]\n",
      " [5.6 2.5 3.9 1.1]\n",
      " [5.9 3.2 4.8 1.8]\n",
      " [6.1 2.8 4.  1.3]\n",
      " [6.3 2.5 4.9 1.5]\n",
      " [6.1 2.8 4.7 1.2]\n",
      " [6.4 2.9 4.3 1.3]\n",
      " [6.6 3.  4.4 1.4]\n",
      " [6.8 2.8 4.8 1.4]\n",
      " [6.7 3.  5.  1.7]\n",
      " [6.  2.9 4.5 1.5]\n",
      " [5.7 2.6 3.5 1. ]\n",
      " [5.5 2.4 3.8 1.1]\n",
      " [5.5 2.4 3.7 1. ]\n",
      " [5.8 2.7 3.9 1.2]\n",
      " [6.  2.7 5.1 1.6]\n",
      " [5.4 3.  4.5 1.5]\n",
      " [6.  3.4 4.5 1.6]\n",
      " [6.7 3.1 4.7 1.5]\n",
      " [6.3 2.3 4.4 1.3]\n",
      " [5.6 3.  4.1 1.3]\n",
      " [5.5 2.5 4.  1.3]\n",
      " [5.5 2.6 4.4 1.2]\n",
      " [6.1 3.  4.6 1.4]\n",
      " [5.8 2.6 4.  1.2]\n",
      " [5.  2.3 3.3 1. ]\n",
      " [5.6 2.7 4.2 1.3]\n",
      " [5.7 3.  4.2 1.2]\n",
      " [5.7 2.9 4.2 1.3]\n",
      " [6.2 2.9 4.3 1.3]\n",
      " [5.1 2.5 3.  1.1]\n",
      " [5.7 2.8 4.1 1.3]\n",
      " [6.3 3.3 6.  2.5]\n",
      " [5.8 2.7 5.1 1.9]\n",
      " [7.1 3.  5.9 2.1]\n",
      " [6.3 2.9 5.6 1.8]\n",
      " [6.5 3.  5.8 2.2]\n",
      " [7.6 3.  6.6 2.1]\n",
      " [4.9 2.5 4.5 1.7]\n",
      " [7.3 2.9 6.3 1.8]\n",
      " [6.7 2.5 5.8 1.8]\n",
      " [7.2 3.6 6.1 2.5]\n",
      " [6.5 3.2 5.1 2. ]\n",
      " [6.4 2.7 5.3 1.9]\n",
      " [6.8 3.  5.5 2.1]\n",
      " [5.7 2.5 5.  2. ]\n",
      " [5.8 2.8 5.1 2.4]\n",
      " [6.4 3.2 5.3 2.3]\n",
      " [6.5 3.  5.5 1.8]\n",
      " [7.7 3.8 6.7 2.2]\n",
      " [7.7 2.6 6.9 2.3]\n",
      " [6.  2.2 5.  1.5]\n",
      " [6.9 3.2 5.7 2.3]\n",
      " [5.6 2.8 4.9 2. ]\n",
      " [7.7 2.8 6.7 2. ]\n",
      " [6.3 2.7 4.9 1.8]\n",
      " [6.7 3.3 5.7 2.1]\n",
      " [7.2 3.2 6.  1.8]\n",
      " [6.2 2.8 4.8 1.8]\n",
      " [6.1 3.  4.9 1.8]\n",
      " [6.4 2.8 5.6 2.1]\n",
      " [7.2 3.  5.8 1.6]\n",
      " [7.4 2.8 6.1 1.9]\n",
      " [7.9 3.8 6.4 2. ]\n",
      " [6.4 2.8 5.6 2.2]\n",
      " [6.3 2.8 5.1 1.5]\n",
      " [6.1 2.6 5.6 1.4]\n",
      " [7.7 3.  6.1 2.3]\n",
      " [6.3 3.4 5.6 2.4]\n",
      " [6.4 3.1 5.5 1.8]\n",
      " [6.  3.  4.8 1.8]\n",
      " [6.9 3.1 5.4 2.1]\n",
      " [6.7 3.1 5.6 2.4]\n",
      " [6.9 3.1 5.1 2.3]\n",
      " [5.8 2.7 5.1 1.9]\n",
      " [6.8 3.2 5.9 2.3]\n",
      " [6.7 3.3 5.7 2.5]\n",
      " [6.7 3.  5.2 2.3]\n",
      " [6.3 2.5 5.  1.9]\n",
      " [6.5 3.  5.2 2. ]\n",
      " [6.2 3.4 5.4 2.3]\n",
      " [5.9 3.  5.1 1.8]]\n",
      "[0 0 0 0 0 0 0 0 0 0 0 0 0 0 0 0 0 0 0 0 0 0 0 0 0 0 0 0 0 0 0 0 0 0 0 0 0\n",
      " 0 0 0 0 0 0 0 0 0 0 0 0 0 1 1 1 1 1 1 1 1 1 1 1 1 1 1 1 1 1 1 1 1 1 1 1 1\n",
      " 1 1 1 1 1 1 1 1 1 1 1 1 1 1 1 1 1 1 1 1 1 1 1 1 1 1 2 2 2 2 2 2 2 2 2 2 2\n",
      " 2 2 2 2 2 2 2 2 2 2 2 2 2 2 2 2 2 2 2 2 2 2 2 2 2 2 2 2 2 2 2 2 2 2 2 2 2\n",
      " 2 2]\n"
     ]
    },
    {
     "data": {
      "text/plain": "array(['setosa', 'versicolor', 'virginica'], dtype='<U10')"
     },
     "execution_count": 87,
     "metadata": {},
     "output_type": "execute_result"
    }
   ],
   "source": [
    "#print is optional\n",
    "print(iris.data)\n",
    "iris.feature_names\n",
    "print(iris.target)\n",
    "iris.target_names"
   ]
  },
  {
   "cell_type": "code",
   "execution_count": 88,
   "metadata": {
    "id": "QkWS8QAOATrX"
   },
   "outputs": [],
   "source": [
    "# Store the inputs as a Pandas Dataframe and set the column names\n",
    "x = pd.DataFrame(iris.data)\n",
    "x.columns = ['Sepal_Length','Sepal_Width','Petal_Length','Petal_Width']"
   ]
  },
  {
   "cell_type": "code",
   "execution_count": 89,
   "metadata": {
    "id": "umJDBdPoAW0O",
    "pycharm": {
     "name": "#%%\n"
    }
   },
   "outputs": [],
   "source": [
    "y = pd.DataFrame(iris.target)\n",
    "y.columns = ['Targets']"
   ]
  },
  {
   "cell_type": "code",
   "execution_count": 90,
   "metadata": {
    "pycharm": {
     "name": "#%%\n"
    }
   },
   "outputs": [
    {
     "data": {
      "text/plain": "   Sepal_Length  Sepal_Width  Petal_Length  Petal_Width\n0           5.1          3.5           1.4          0.2\n1           4.9          3.0           1.4          0.2\n2           4.7          3.2           1.3          0.2\n3           4.6          3.1           1.5          0.2\n4           5.0          3.6           1.4          0.2",
      "text/html": "<div>\n<style scoped>\n    .dataframe tbody tr th:only-of-type {\n        vertical-align: middle;\n    }\n\n    .dataframe tbody tr th {\n        vertical-align: top;\n    }\n\n    .dataframe thead th {\n        text-align: right;\n    }\n</style>\n<table border=\"1\" class=\"dataframe\">\n  <thead>\n    <tr style=\"text-align: right;\">\n      <th></th>\n      <th>Sepal_Length</th>\n      <th>Sepal_Width</th>\n      <th>Petal_Length</th>\n      <th>Petal_Width</th>\n    </tr>\n  </thead>\n  <tbody>\n    <tr>\n      <th>0</th>\n      <td>5.1</td>\n      <td>3.5</td>\n      <td>1.4</td>\n      <td>0.2</td>\n    </tr>\n    <tr>\n      <th>1</th>\n      <td>4.9</td>\n      <td>3.0</td>\n      <td>1.4</td>\n      <td>0.2</td>\n    </tr>\n    <tr>\n      <th>2</th>\n      <td>4.7</td>\n      <td>3.2</td>\n      <td>1.3</td>\n      <td>0.2</td>\n    </tr>\n    <tr>\n      <th>3</th>\n      <td>4.6</td>\n      <td>3.1</td>\n      <td>1.5</td>\n      <td>0.2</td>\n    </tr>\n    <tr>\n      <th>4</th>\n      <td>5.0</td>\n      <td>3.6</td>\n      <td>1.4</td>\n      <td>0.2</td>\n    </tr>\n  </tbody>\n</table>\n</div>"
     },
     "execution_count": 90,
     "metadata": {},
     "output_type": "execute_result"
    }
   ],
   "source": [
    "x.head(5)"
   ]
  },
  {
   "cell_type": "code",
   "execution_count": 91,
   "metadata": {
    "pycharm": {
     "name": "#%%\n"
    }
   },
   "outputs": [
    {
     "data": {
      "text/plain": "   Targets\n0        0\n1        0\n2        0\n3        0\n4        0",
      "text/html": "<div>\n<style scoped>\n    .dataframe tbody tr th:only-of-type {\n        vertical-align: middle;\n    }\n\n    .dataframe tbody tr th {\n        vertical-align: top;\n    }\n\n    .dataframe thead th {\n        text-align: right;\n    }\n</style>\n<table border=\"1\" class=\"dataframe\">\n  <thead>\n    <tr style=\"text-align: right;\">\n      <th></th>\n      <th>Targets</th>\n    </tr>\n  </thead>\n  <tbody>\n    <tr>\n      <th>0</th>\n      <td>0</td>\n    </tr>\n    <tr>\n      <th>1</th>\n      <td>0</td>\n    </tr>\n    <tr>\n      <th>2</th>\n      <td>0</td>\n    </tr>\n    <tr>\n      <th>3</th>\n      <td>0</td>\n    </tr>\n    <tr>\n      <th>4</th>\n      <td>0</td>\n    </tr>\n  </tbody>\n</table>\n</div>"
     },
     "execution_count": 91,
     "metadata": {},
     "output_type": "execute_result"
    }
   ],
   "source": [
    "y.head(5)"
   ]
  },
  {
   "cell_type": "markdown",
   "metadata": {
    "pycharm": {
     "name": "#%% md\n"
    }
   },
   "source": [
    "## Να υλοποιεί την μέθοδο <a href=\"https://en.wikipedia.org/wiki/Elbow_method_(clustering)\"><i>«Elbow»</i></a> στο δείγμα του φυτού <i>Ίρις</i>, ώστε να εντοπίσετε έναν επαρκή αριθμό <i>συστάδων</i>. Τι παρατηρείτε;"
   ]
  },
  {
   "cell_type": "code",
   "execution_count": 181,
   "outputs": [
    {
     "data": {
      "text/plain": "<Figure size 432x288 with 1 Axes>",
      "image/png": "[encoded data removed]"
     },
     "metadata": {},
     "output_type": "display_data"
    }
   ],
   "source": [
    "from sklearn.cluster import KMeans\n",
    "import matplotlib.pyplot as plt\n",
    "\n",
    "sse = {}\n",
    "for k in range(2, 20):\n",
    "    kmeans = KMeans(n_clusters=k, max_iter=1000).fit(x)\n",
    "    sse[k] = kmeans.inertia_ # Inertia: Sum of distances of samples to their closest cluster center\n",
    "\n",
    "plt.figure()\n",
    "plt.plot(list(sse.keys()), list(sse.values()))\n",
    "plt.xlabel(\"Number of cluster\")\n",
    "plt.xticks(ticks=list(range(1,20)))\n",
    "plt.grid(visible=True)\n",
    "plt.ylabel(\"SSE\")\n",
    "plt.show()"
   ],
   "metadata": {
    "collapsed": false,
    "pycharm": {
     "name": "#%%\n"
    }
   }
  },
  {
   "cell_type": "markdown",
   "metadata": {
    "pycharm": {
     "name": "#%% md\n"
    }
   },
   "source": [
    "Με βάση το SSE (Sum of squared errors) και το elbow method, επιλέγουμε ως βέλτιστο αριθμό clusters τα 3. Ωστόσο και το 4 φαίνεται καλή τιμή.\n",
    "\n",
    "Παρατηρούμε ότι όσο αυξάνει ο αριθμός των clusters το άθροισμα των squared errors (SSE) μειώνεται, ωστόσο η μείωση αυτή, ενώ είναι αισθητή στην αρχή, στη συνέχεια ελαττώνεται και επομένως η αύξηση του αριθμού των συστάδων έχει μικρό αποτέλεσμα στην περαιτέρω μείωση του SSE. Έτσι, στο γόνατο ή elbow της καμπύλης θεωρούμε ότι οι τιμές του αριθμού των clusters είναι ικανοποιητικές για να συσταδοποιήσουμε τα δεδομένα."
   ]
  },
  {
   "cell_type": "markdown",
   "metadata": {
    "pycharm": {
     "name": "#%% md\n"
    }
   },
   "source": [
    "## <i>Να υλοποιεί τον αλγόριθμο <i>k-means</i> με βάση τον αριθμό <i>συστάδων</i> που βρήκατε στο προηγούμενο ερώτημα. Περιγράψτε πώς λειτουργεί ο αλγόριθμος.</i>\n",
    "\n",
    "Θσ υλοποιήσουμε τον K-means για k=3 με βάση το προηγούμενο ερώτημα."
   ]
  },
  {
   "cell_type": "code",
   "execution_count": 102,
   "outputs": [
    {
     "name": "stdout",
     "output_type": "stream",
     "text": [
      "SSE for k=3 is : 78.85144142614601\n"
     ]
    }
   ],
   "source": [
    "k = 3\n",
    "\n",
    "kmeans_k3 = KMeans(n_clusters=k, max_iter=1000, random_state=42).fit(x)\n",
    "sse = kmeans_k3.inertia_ # Inertia: Sum of distances of samples to their closest cluster center\n",
    "\n",
    "print(f'SSE for k={k} is : {sse}')"
   ],
   "metadata": {
    "collapsed": false,
    "pycharm": {
     "name": "#%%\n"
    }
   }
  },
  {
   "cell_type": "code",
   "execution_count": 103,
   "outputs": [
    {
     "data": {
      "text/plain": "dict_keys(['n_clusters', 'init', 'max_iter', 'tol', 'n_init', 'verbose', 'random_state', 'copy_x', 'algorithm', 'feature_names_in_', 'n_features_in_', '_n_init', '_tol', '_algorithm', '_n_threads', 'cluster_centers_', 'labels_', 'inertia_', 'n_iter_'])"
     },
     "execution_count": 103,
     "metadata": {},
     "output_type": "execute_result"
    }
   ],
   "source": [
    "kmeans_k3.__dict__.keys()"
   ],
   "metadata": {
    "collapsed": false,
    "pycharm": {
     "name": "#%%\n"
    }
   }
  },
  {
   "cell_type": "code",
   "execution_count": 104,
   "outputs": [
    {
     "name": "stdout",
     "output_type": "stream",
     "text": [
      "The number of clusters = 3\n",
      "The centers of the clusters are:\n",
      "[[5.9016129  2.7483871  4.39354839 1.43387097]\n",
      " [5.006      3.428      1.462      0.246     ]\n",
      " [6.85       3.07368421 5.74210526 2.07105263]]\n",
      "Data points assigned to clusters:\n",
      "[1 1 1 1 1 1 1 1 1 1 1 1 1 1 1 1 1 1 1 1 1 1 1 1 1 1 1 1 1 1 1 1 1 1 1 1 1\n",
      " 1 1 1 1 1 1 1 1 1 1 1 1 1 0 0 2 0 0 0 0 0 0 0 0 0 0 0 0 0 0 0 0 0 0 0 0 0\n",
      " 0 0 0 2 0 0 0 0 0 0 0 0 0 0 0 0 0 0 0 0 0 0 0 0 0 0 2 0 2 2 2 2 0 2 2 2 2\n",
      " 2 2 0 0 2 2 2 2 0 2 0 2 0 2 2 0 0 2 2 2 2 2 0 2 2 2 2 0 2 2 2 0 2 2 2 0 2\n",
      " 2 0]\n"
     ]
    }
   ],
   "source": [
    "n_clusters = kmeans_k3.n_clusters\n",
    "clusters_centers = kmeans_k3.cluster_centers_\n",
    "print(f'The number of clusters = {n_clusters}\\nThe centers of the clusters are:\\n{clusters_centers}\\nData points assigned to clusters:\\n{kmeans_k3.labels_}')"
   ],
   "metadata": {
    "collapsed": false,
    "pycharm": {
     "name": "#%%\n"
    }
   }
  },
  {
   "cell_type": "markdown",
   "metadata": {
    "pycharm": {
     "name": "#%% md\n"
    }
   },
   "source": [
    "Ο αλγόριθµος k-means εκτελεί τα εξής βήµατα:\n",
    "\n",
    "1. Τυχαία αρχικοποίηση k σημείων (centroids - κέντρα), καθένα εκ των οποίων αντιπροσωπεύει μια συστάδα.\n",
    "2. Ανάθεση κάθε δειγματικού στοιχείου εκπαίδευσης στη συστάδα (centroid) µε το πιο κοντινό κέντρο.\n",
    "3. Υπολογισµός νέου centroid κάθε συστάδας ως μέσο όρο των σημείων (δειγματικών στοιχείων) που έχουν ανατεθεί στη συστάδα.\n",
    "4. Εκ νέου ανάθεση κάθε δειγματικού στοιχείου εκπαίδευσης στη συστάδα (centroid) με το πιο κοντινό κέντρο.\n",
    "5. Τερματισμός όταν δεν υπάρχει νέα ανάθεση."
   ]
  },
  {
   "cell_type": "markdown",
   "metadata": {
    "pycharm": {
     "name": "#%% md\n"
    }
   },
   "source": [
    "## Επιχειρήστε να υλοποιήσετε ελέγχους σχετικά με την απόδοση του αλγορίθμου (Ακρίβειας – Accuracy, Τιμές Μήτρας Λαθών – Error Matrix)."
   ]
  },
  {
   "cell_type": "code",
   "execution_count": 105,
   "outputs": [
    {
     "data": {
      "text/plain": "     True cluster  Predicted cluster\n0               0                  1\n1               0                  1\n2               0                  1\n3               0                  1\n4               0                  1\n..            ...                ...\n145             2                  2\n146             2                  0\n147             2                  2\n148             2                  2\n149             2                  0\n\n[150 rows x 2 columns]",
      "text/html": "<div>\n<style scoped>\n    .dataframe tbody tr th:only-of-type {\n        vertical-align: middle;\n    }\n\n    .dataframe tbody tr th {\n        vertical-align: top;\n    }\n\n    .dataframe thead th {\n        text-align: right;\n    }\n</style>\n<table border=\"1\" class=\"dataframe\">\n  <thead>\n    <tr style=\"text-align: right;\">\n      <th></th>\n      <th>True cluster</th>\n      <th>Predicted cluster</th>\n    </tr>\n  </thead>\n  <tbody>\n    <tr>\n      <th>0</th>\n      <td>0</td>\n      <td>1</td>\n    </tr>\n    <tr>\n      <th>1</th>\n      <td>0</td>\n      <td>1</td>\n    </tr>\n    <tr>\n      <th>2</th>\n      <td>0</td>\n      <td>1</td>\n    </tr>\n    <tr>\n      <th>3</th>\n      <td>0</td>\n      <td>1</td>\n    </tr>\n    <tr>\n      <th>4</th>\n      <td>0</td>\n      <td>1</td>\n    </tr>\n    <tr>\n      <th>...</th>\n      <td>...</td>\n      <td>...</td>\n    </tr>\n    <tr>\n      <th>145</th>\n      <td>2</td>\n      <td>2</td>\n    </tr>\n    <tr>\n      <th>146</th>\n      <td>2</td>\n      <td>0</td>\n    </tr>\n    <tr>\n      <th>147</th>\n      <td>2</td>\n      <td>2</td>\n    </tr>\n    <tr>\n      <th>148</th>\n      <td>2</td>\n      <td>2</td>\n    </tr>\n    <tr>\n      <th>149</th>\n      <td>2</td>\n      <td>0</td>\n    </tr>\n  </tbody>\n</table>\n<p>150 rows × 2 columns</p>\n</div>"
     },
     "execution_count": 105,
     "metadata": {},
     "output_type": "execute_result"
    }
   ],
   "source": [
    "predicted_cluster = kmeans_k3.labels_\n",
    "true_cluster = iris.target\n",
    "\n",
    "cluster_results_df = pd.DataFrame({'True cluster': true_cluster, 'Predicted cluster': predicted_cluster})\n",
    "cluster_results_df"
   ],
   "metadata": {
    "collapsed": false,
    "pycharm": {
     "name": "#%%\n"
    }
   }
  },
  {
   "cell_type": "code",
   "execution_count": 106,
   "outputs": [
    {
     "name": "stdout",
     "output_type": "stream",
     "text": [
      "16 data points out of 150 were wrongly clustered\n"
     ]
    },
    {
     "data": {
      "text/plain": "     True cluster  Predicted cluster  Predicted cluster mapped  \\\n0               0                  1                         0   \n1               0                  1                         0   \n2               0                  1                         0   \n3               0                  1                         0   \n4               0                  1                         0   \n..            ...                ...                       ...   \n145             2                  2                         2   \n146             2                  0                         1   \n147             2                  2                         2   \n148             2                  2                         2   \n149             2                  0                         1   \n\n     Correctly clustered  \n0                   True  \n1                   True  \n2                   True  \n3                   True  \n4                   True  \n..                   ...  \n145                 True  \n146                False  \n147                 True  \n148                 True  \n149                False  \n\n[150 rows x 4 columns]",
      "text/html": "<div>\n<style scoped>\n    .dataframe tbody tr th:only-of-type {\n        vertical-align: middle;\n    }\n\n    .dataframe tbody tr th {\n        vertical-align: top;\n    }\n\n    .dataframe thead th {\n        text-align: right;\n    }\n</style>\n<table border=\"1\" class=\"dataframe\">\n  <thead>\n    <tr style=\"text-align: right;\">\n      <th></th>\n      <th>True cluster</th>\n      <th>Predicted cluster</th>\n      <th>Predicted cluster mapped</th>\n      <th>Correctly clustered</th>\n    </tr>\n  </thead>\n  <tbody>\n    <tr>\n      <th>0</th>\n      <td>0</td>\n      <td>1</td>\n      <td>0</td>\n      <td>True</td>\n    </tr>\n    <tr>\n      <th>1</th>\n      <td>0</td>\n      <td>1</td>\n      <td>0</td>\n      <td>True</td>\n    </tr>\n    <tr>\n      <th>2</th>\n      <td>0</td>\n      <td>1</td>\n      <td>0</td>\n      <td>True</td>\n    </tr>\n    <tr>\n      <th>3</th>\n      <td>0</td>\n      <td>1</td>\n      <td>0</td>\n      <td>True</td>\n    </tr>\n    <tr>\n      <th>4</th>\n      <td>0</td>\n      <td>1</td>\n      <td>0</td>\n      <td>True</td>\n    </tr>\n    <tr>\n      <th>...</th>\n      <td>...</td>\n      <td>...</td>\n      <td>...</td>\n      <td>...</td>\n    </tr>\n    <tr>\n      <th>145</th>\n      <td>2</td>\n      <td>2</td>\n      <td>2</td>\n      <td>True</td>\n    </tr>\n    <tr>\n      <th>146</th>\n      <td>2</td>\n      <td>0</td>\n      <td>1</td>\n      <td>False</td>\n    </tr>\n    <tr>\n      <th>147</th>\n      <td>2</td>\n      <td>2</td>\n      <td>2</td>\n      <td>True</td>\n    </tr>\n    <tr>\n      <th>148</th>\n      <td>2</td>\n      <td>2</td>\n      <td>2</td>\n      <td>True</td>\n    </tr>\n    <tr>\n      <th>149</th>\n      <td>2</td>\n      <td>0</td>\n      <td>1</td>\n      <td>False</td>\n    </tr>\n  </tbody>\n</table>\n<p>150 rows × 4 columns</p>\n</div>"
     },
     "execution_count": 106,
     "metadata": {},
     "output_type": "execute_result"
    }
   ],
   "source": [
    "# map the clusters correctly\n",
    "predicted_cluster_mapped = []\n",
    "for i in range(len(cluster_results_df)):\n",
    "    if cluster_results_df.loc[i, 'Predicted cluster'] == 1:\n",
    "        predicted_cluster_mapped.append(0)\n",
    "    elif cluster_results_df.loc[i, 'Predicted cluster'] == 0:\n",
    "        predicted_cluster_mapped.append(1)\n",
    "    else:\n",
    "        predicted_cluster_mapped.append(2)\n",
    "\n",
    "# add a new column to the dataframe with corrected (mapped) predicted cluster assignments\n",
    "cluster_results_df['Predicted cluster mapped'] = predicted_cluster_mapped\n",
    "\n",
    "# add a new column if clustering was correct (true == predicted mapped)\n",
    "cluster_results_df['Correctly clustered'] = cluster_results_df['True cluster'] - cluster_results_df['Predicted cluster mapped']\n",
    "\n",
    "clustering_correct = []\n",
    "for i in range(len(cluster_results_df)):\n",
    "    value = cluster_results_df.loc[i, 'Correctly clustered']\n",
    "    if value == 0:\n",
    "        clustering_correct.append(True)\n",
    "    else:\n",
    "        clustering_correct.append(False)\n",
    "\n",
    "cluster_results_df['Correctly clustered'] = clustering_correct\n",
    "\n",
    "# reassign the np array of predicted clusters for all data points with the adjusted/corrected/mapped series\n",
    "predicted_cluster = np.array(cluster_results_df['Predicted cluster mapped'])\n",
    "\n",
    "# print how many data points out of the 150 were wrongly clustered\n",
    "print(f'{len(cluster_results_df) - cluster_results_df[\"Correctly clustered\"].sum()} data points out of {len(cluster_results_df)} were wrongly clustered')\n",
    "\n",
    "# show df\n",
    "cluster_results_df"
   ],
   "metadata": {
    "collapsed": false,
    "pycharm": {
     "name": "#%%\n"
    }
   }
  },
  {
   "cell_type": "code",
   "execution_count": 107,
   "outputs": [
    {
     "data": {
      "text/plain": "<Figure size 720x576 with 2 Axes>",
      "image/png": "[encoded data removed]"
     },
     "metadata": {},
     "output_type": "display_data"
    }
   ],
   "source": [
    "sns.set_theme()\n",
    "\n",
    "conf_matrix = scikitmetrics.confusion_matrix(y_true=true_cluster, y_pred=predicted_cluster)\n",
    "df_conf_matrix = pd.DataFrame(conf_matrix, index = [i for i in range(kmeans_k3.n_clusters)], columns = [i for i in range(kmeans_k3.n_clusters)])\n",
    "\n",
    "fig, ax = plt.subplots(figsize = (10,8))\n",
    "sns.heatmap(df_conf_matrix, annot=True, ax = ax, cmap = sns.color_palette(\"light:b\", as_cmap=True))\n",
    "plt.show()"
   ],
   "metadata": {
    "collapsed": false,
    "pycharm": {
     "name": "#%%\n"
    }
   }
  },
  {
   "cell_type": "code",
   "execution_count": 108,
   "outputs": [
    {
     "name": "stdout",
     "output_type": "stream",
     "text": [
      "              precision    recall  f1-score   support\n",
      "\n",
      "     Class 0       1.00      1.00      1.00        50\n",
      "     Class 1       0.77      0.96      0.86        50\n",
      "     Class 2       0.95      0.72      0.82        50\n",
      "\n",
      "    accuracy                           0.89       150\n",
      "   macro avg       0.91      0.89      0.89       150\n",
      "weighted avg       0.91      0.89      0.89       150\n",
      "\n"
     ]
    }
   ],
   "source": [
    "from sklearn.metrics import classification_report\n",
    "print(classification_report(y_true=true_cluster, y_pred=predicted_cluster, target_names=[\"Class 0\", \"Class 1\", \"Class 2\"]))"
   ],
   "metadata": {
    "collapsed": false,
    "pycharm": {
     "name": "#%%\n"
    }
   }
  },
  {
   "cell_type": "code",
   "execution_count": 120,
   "outputs": [
    {
     "name": "stdout",
     "output_type": "stream",
     "text": [
      "Explained variance by the two PCA components are [0.92461872 0.05306648], therefore the total explained variance is: 0.977685206318795\n"
     ]
    }
   ],
   "source": [
    "# lets plot in 2 dimensions with two principal components\n",
    "\n",
    "from sklearn.decomposition import PCA\n",
    "pca = PCA(n_components=2)\n",
    "pca.fit(x)\n",
    "print(f'Explained variance by the two PCA components are {pca.explained_variance_ratio_}, therefore the total explained variance is: {sum(pca.explained_variance_ratio_)}')"
   ],
   "metadata": {
    "collapsed": false,
    "pycharm": {
     "name": "#%%\n"
    }
   }
  },
  {
   "cell_type": "code",
   "execution_count": 121,
   "outputs": [
    {
     "data": {
      "text/plain": "array([[-2.68412563,  0.31939725],\n       [-2.71414169, -0.17700123],\n       [-2.88899057, -0.14494943],\n       [-2.74534286, -0.31829898],\n       [-2.72871654,  0.32675451],\n       [-2.28085963,  0.74133045],\n       [-2.82053775, -0.08946138],\n       [-2.62614497,  0.16338496],\n       [-2.88638273, -0.57831175],\n       [-2.6727558 , -0.11377425],\n       [-2.50694709,  0.6450689 ],\n       [-2.61275523,  0.01472994],\n       [-2.78610927, -0.235112  ],\n       [-3.22380374, -0.51139459],\n       [-2.64475039,  1.17876464],\n       [-2.38603903,  1.33806233],\n       [-2.62352788,  0.81067951],\n       [-2.64829671,  0.31184914],\n       [-2.19982032,  0.87283904],\n       [-2.5879864 ,  0.51356031],\n       [-2.31025622,  0.39134594],\n       [-2.54370523,  0.43299606],\n       [-3.21593942,  0.13346807],\n       [-2.30273318,  0.09870885],\n       [-2.35575405, -0.03728186],\n       [-2.50666891, -0.14601688],\n       [-2.46882007,  0.13095149],\n       [-2.56231991,  0.36771886],\n       [-2.63953472,  0.31203998],\n       [-2.63198939, -0.19696122],\n       [-2.58739848, -0.20431849],\n       [-2.4099325 ,  0.41092426],\n       [-2.64886233,  0.81336382],\n       [-2.59873675,  1.09314576],\n       [-2.63692688, -0.12132235],\n       [-2.86624165,  0.06936447],\n       [-2.62523805,  0.59937002],\n       [-2.80068412,  0.26864374],\n       [-2.98050204, -0.48795834],\n       [-2.59000631,  0.22904384],\n       [-2.77010243,  0.26352753],\n       [-2.84936871, -0.94096057],\n       [-2.99740655, -0.34192606],\n       [-2.40561449,  0.18887143],\n       [-2.20948924,  0.43666314],\n       [-2.71445143, -0.2502082 ],\n       [-2.53814826,  0.50377114],\n       [-2.83946217, -0.22794557],\n       [-2.54308575,  0.57941002],\n       [-2.70335978,  0.10770608],\n       [ 1.28482569,  0.68516047],\n       [ 0.93248853,  0.31833364],\n       [ 1.46430232,  0.50426282],\n       [ 0.18331772, -0.82795901],\n       [ 1.08810326,  0.07459068],\n       [ 0.64166908, -0.41824687],\n       [ 1.09506066,  0.28346827],\n       [-0.74912267, -1.00489096],\n       [ 1.04413183,  0.2283619 ],\n       [-0.0087454 , -0.72308191],\n       [-0.50784088, -1.26597119],\n       [ 0.51169856, -0.10398124],\n       [ 0.26497651, -0.55003646],\n       [ 0.98493451, -0.12481785],\n       [-0.17392537, -0.25485421],\n       [ 0.92786078,  0.46717949],\n       [ 0.66028376, -0.35296967],\n       [ 0.23610499, -0.33361077],\n       [ 0.94473373, -0.54314555],\n       [ 0.04522698, -0.58383438],\n       [ 1.11628318, -0.08461685],\n       [ 0.35788842, -0.06892503],\n       [ 1.29818388, -0.32778731],\n       [ 0.92172892, -0.18273779],\n       [ 0.71485333,  0.14905594],\n       [ 0.90017437,  0.32850447],\n       [ 1.33202444,  0.24444088],\n       [ 1.55780216,  0.26749545],\n       [ 0.81329065, -0.1633503 ],\n       [-0.30558378, -0.36826219],\n       [-0.06812649, -0.70517213],\n       [-0.18962247, -0.68028676],\n       [ 0.13642871, -0.31403244],\n       [ 1.38002644, -0.42095429],\n       [ 0.58800644, -0.48428742],\n       [ 0.80685831,  0.19418231],\n       [ 1.22069088,  0.40761959],\n       [ 0.81509524, -0.37203706],\n       [ 0.24595768, -0.2685244 ],\n       [ 0.16641322, -0.68192672],\n       [ 0.46480029, -0.67071154],\n       [ 0.8908152 , -0.03446444],\n       [ 0.23054802, -0.40438585],\n       [-0.70453176, -1.01224823],\n       [ 0.35698149, -0.50491009],\n       [ 0.33193448, -0.21265468],\n       [ 0.37621565, -0.29321893],\n       [ 0.64257601,  0.01773819],\n       [-0.90646986, -0.75609337],\n       [ 0.29900084, -0.34889781],\n       [ 2.53119273, -0.00984911],\n       [ 1.41523588, -0.57491635],\n       [ 2.61667602,  0.34390315],\n       [ 1.97153105, -0.1797279 ],\n       [ 2.35000592, -0.04026095],\n       [ 3.39703874,  0.55083667],\n       [ 0.52123224, -1.19275873],\n       [ 2.93258707,  0.3555    ],\n       [ 2.32122882, -0.2438315 ],\n       [ 2.91675097,  0.78279195],\n       [ 1.66177415,  0.24222841],\n       [ 1.80340195, -0.21563762],\n       [ 2.1655918 ,  0.21627559],\n       [ 1.34616358, -0.77681835],\n       [ 1.58592822, -0.53964071],\n       [ 1.90445637,  0.11925069],\n       [ 1.94968906,  0.04194326],\n       [ 3.48705536,  1.17573933],\n       [ 3.79564542,  0.25732297],\n       [ 1.30079171, -0.76114964],\n       [ 2.42781791,  0.37819601],\n       [ 1.19900111, -0.60609153],\n       [ 3.49992004,  0.4606741 ],\n       [ 1.38876613, -0.20439933],\n       [ 2.2754305 ,  0.33499061],\n       [ 2.61409047,  0.56090136],\n       [ 1.25850816, -0.17970479],\n       [ 1.29113206, -0.11666865],\n       [ 2.12360872, -0.20972948],\n       [ 2.38800302,  0.4646398 ],\n       [ 2.84167278,  0.37526917],\n       [ 3.23067366,  1.37416509],\n       [ 2.15943764, -0.21727758],\n       [ 1.44416124, -0.14341341],\n       [ 1.78129481, -0.49990168],\n       [ 3.07649993,  0.68808568],\n       [ 2.14424331,  0.1400642 ],\n       [ 1.90509815,  0.04930053],\n       [ 1.16932634, -0.16499026],\n       [ 2.10761114,  0.37228787],\n       [ 2.31415471,  0.18365128],\n       [ 1.9222678 ,  0.40920347],\n       [ 1.41523588, -0.57491635],\n       [ 2.56301338,  0.2778626 ],\n       [ 2.41874618,  0.3047982 ],\n       [ 1.94410979,  0.1875323 ],\n       [ 1.52716661, -0.37531698],\n       [ 1.76434572,  0.07885885],\n       [ 1.90094161,  0.11662796],\n       [ 1.39018886, -0.28266094]])"
     },
     "execution_count": 121,
     "metadata": {},
     "output_type": "execute_result"
    }
   ],
   "source": [
    "x_pca = pca.transform(x)\n",
    "x_pca"
   ],
   "metadata": {
    "collapsed": false,
    "pycharm": {
     "name": "#%%\n"
    }
   }
  },
  {
   "cell_type": "code",
   "execution_count": 130,
   "outputs": [
    {
     "data": {
      "text/plain": "     True cluster  Predicted cluster  Predicted cluster mapped  \\\n0               0                  1                         0   \n1               0                  1                         0   \n2               0                  1                         0   \n3               0                  1                         0   \n4               0                  1                         0   \n..            ...                ...                       ...   \n145             2                  2                         2   \n146             2                  0                         1   \n147             2                  2                         2   \n148             2                  2                         2   \n149             2                  0                         1   \n\n     Correctly clustered     PCA 1     PCA 2  \n0                   True -2.684126  0.319397  \n1                   True -2.714142 -0.177001  \n2                   True -2.888991 -0.144949  \n3                   True -2.745343 -0.318299  \n4                   True -2.728717  0.326755  \n..                   ...       ...       ...  \n145                 True  1.944110  0.187532  \n146                False  1.527167 -0.375317  \n147                 True  1.764346  0.078859  \n148                 True  1.900942  0.116628  \n149                False  1.390189 -0.282661  \n\n[150 rows x 6 columns]",
      "text/html": "<div>\n<style scoped>\n    .dataframe tbody tr th:only-of-type {\n        vertical-align: middle;\n    }\n\n    .dataframe tbody tr th {\n        vertical-align: top;\n    }\n\n    .dataframe thead th {\n        text-align: right;\n    }\n</style>\n<table border=\"1\" class=\"dataframe\">\n  <thead>\n    <tr style=\"text-align: right;\">\n      <th></th>\n      <th>True cluster</th>\n      <th>Predicted cluster</th>\n      <th>Predicted cluster mapped</th>\n      <th>Correctly clustered</th>\n      <th>PCA 1</th>\n      <th>PCA 2</th>\n    </tr>\n  </thead>\n  <tbody>\n    <tr>\n      <th>0</th>\n      <td>0</td>\n      <td>1</td>\n      <td>0</td>\n      <td>True</td>\n      <td>-2.684126</td>\n      <td>0.319397</td>\n    </tr>\n    <tr>\n      <th>1</th>\n      <td>0</td>\n      <td>1</td>\n      <td>0</td>\n      <td>True</td>\n      <td>-2.714142</td>\n      <td>-0.177001</td>\n    </tr>\n    <tr>\n      <th>2</th>\n      <td>0</td>\n      <td>1</td>\n      <td>0</td>\n      <td>True</td>\n      <td>-2.888991</td>\n      <td>-0.144949</td>\n    </tr>\n    <tr>\n      <th>3</th>\n      <td>0</td>\n      <td>1</td>\n      <td>0</td>\n      <td>True</td>\n      <td>-2.745343</td>\n      <td>-0.318299</td>\n    </tr>\n    <tr>\n      <th>4</th>\n      <td>0</td>\n      <td>1</td>\n      <td>0</td>\n      <td>True</td>\n      <td>-2.728717</td>\n      <td>0.326755</td>\n    </tr>\n    <tr>\n      <th>...</th>\n      <td>...</td>\n      <td>...</td>\n      <td>...</td>\n      <td>...</td>\n      <td>...</td>\n      <td>...</td>\n    </tr>\n    <tr>\n      <th>145</th>\n      <td>2</td>\n      <td>2</td>\n      <td>2</td>\n      <td>True</td>\n      <td>1.944110</td>\n      <td>0.187532</td>\n    </tr>\n    <tr>\n      <th>146</th>\n      <td>2</td>\n      <td>0</td>\n      <td>1</td>\n      <td>False</td>\n      <td>1.527167</td>\n      <td>-0.375317</td>\n    </tr>\n    <tr>\n      <th>147</th>\n      <td>2</td>\n      <td>2</td>\n      <td>2</td>\n      <td>True</td>\n      <td>1.764346</td>\n      <td>0.078859</td>\n    </tr>\n    <tr>\n      <th>148</th>\n      <td>2</td>\n      <td>2</td>\n      <td>2</td>\n      <td>True</td>\n      <td>1.900942</td>\n      <td>0.116628</td>\n    </tr>\n    <tr>\n      <th>149</th>\n      <td>2</td>\n      <td>0</td>\n      <td>1</td>\n      <td>False</td>\n      <td>1.390189</td>\n      <td>-0.282661</td>\n    </tr>\n  </tbody>\n</table>\n<p>150 rows × 6 columns</p>\n</div>"
     },
     "execution_count": 130,
     "metadata": {},
     "output_type": "execute_result"
    }
   ],
   "source": [
    "# add pca components to df\n",
    "\n",
    "cluster_results_df['PCA 1'] = x_pca[:, 0]\n",
    "cluster_results_df['PCA 2'] = x_pca[:, 1]\n",
    "cluster_results_df"
   ],
   "metadata": {
    "collapsed": false,
    "pycharm": {
     "name": "#%%\n"
    }
   }
  },
  {
   "cell_type": "code",
   "execution_count": 177,
   "outputs": [
    {
     "data": {
      "text/plain": "<Figure size 1152x360 with 3 Axes>",
      "image/png": "[encoded data removed]"
     },
     "metadata": {},
     "output_type": "display_data"
    }
   ],
   "source": [
    "fig, ax = plt.subplots(nrows=1, ncols=3, figsize=(16, 5), sharey=True)\n",
    "\n",
    "for i in range(k):\n",
    "    sub_df_true = cluster_results_df[cluster_results_df['True cluster'] == i]\n",
    "    ax[0].scatter(sub_df_true['PCA 1'], sub_df_true['PCA 2'], cmap=i, label=f'Cluster{i}')\n",
    "\n",
    "    sub_df_predicted = cluster_results_df[cluster_results_df['Predicted cluster mapped'] == i]\n",
    "    ax[1].scatter(sub_df_predicted['PCA 1'], sub_df_predicted['PCA 2'], cmap=i, label=f'Cluster{i}')\n",
    "\n",
    "sub_df_predicted_wrong = cluster_results_df[cluster_results_df['Correctly clustered'] == False]\n",
    "ax[2].scatter(sub_df_predicted_wrong['PCA 1'], sub_df_predicted_wrong['PCA 2'], c='red')\n",
    "ax[2].set_xlim(cluster_results_df['PCA 1'].min(), cluster_results_df['PCA 1'].max()) #use same x axis\n",
    "\n",
    "ax[0].set(title='True clusters', xlabel='PCA 1', ylabel='PCA2') #y axis is shared\n",
    "ax[1].set(title='Predicted clusters', xlabel='PCA 1')\n",
    "ax[2].set(title='Wrongly clustered data points', xlabel='PCA 1')\n",
    "\n",
    "ax[0].legend(title='Assigned to:')\n",
    "ax[1].legend(title='Assigned to:')\n",
    "\n",
    "plt.show()"
   ],
   "metadata": {
    "collapsed": false,
    "pycharm": {
     "name": "#%%\n"
    }
   }
  },
  {
   "cell_type": "markdown",
   "source": [
    "Προηγουμένως, βρέθηκαν οι 2 κύριες συνιστώσες ώστε να μπορούσουμε να οπτικοποιήσουμε στις 2 διαστάσεις τα δεδομένα.\n",
    "\n",
    "Παρατηρούμε με βάση όλα τα παραπάνω ότι για k=3 clusters, 16 δειγματικά στοιχεία από τα 150, ανατίθενται σε λάθος κλάση. Όπως φαίνεται και από το confusion matrix, αλλά και από τα προηγούμενα διαγράμματα, τα στοιχεία του cluster 1 και cluster 2 έχουν σύνορο αρκετά δυσδιάκριτο, με αποτέλεσμα όλα τα εσφαλμένως assigned δειγματικά στοιχεία να αφορούν τα δύο αυτά clusters αποκλειστικά (φαίνεται στο 3ο διάγραμμα παραπάνω αυτό αλλά και στο confusion matrix).\n",
    "\n",
    "Τα 14 εκ των 16 mispredicted data points γίνονται predicted πως ανήκουν στο cluster1 με βάση τα 4 χαρακτηριστικά (features) τους, ενώ πραγματικά ανήκουν στην κλάση 2 (με βάση τα labels που έχουν δοθεί στο dataset και αφορούν το πραγματικό cluster καθενός δειγματικού στοιχείου), ενώ τα υπόλοιπα 2 εκ των 16 έχουν predicted cluster: cluster2 και actual cluster: cluster1.\n",
    "\n",
    "Τέλος από το classification report φαίνεται πως για το cluster0, όντως έχουμε τέλειο clustering χωρίς λανθασμένα ταξινομημένα δειγματικά στοιχεία, αφού το precision και recall είναι 1.\n",
    "Αντίθετα το precision για το cluster1 είναι 0.77 και recal 0.96 ενώ για το cluster2 είναι 0.95 και 0.72 αντιστοίχως.\n",
    "\n",
    "Οι τιμές αυτές είναι αναμενόμενες, αφού $precision = TP / (TP + FP)$ και άρα λόγου χάρη για το cluster1 που προβλέπονται $TP+FP=48+14=62$ data points ως positive, μόνο τα $TP=48$ εξ αυτών προβλέφθηκαν σωστά, τουτέστιν $precision=TP/(TP+FP)=48/62=0.77$.\n",
    "\n",
    "To cluster2 από την άλλη, έχει μικρό recall καθώς αρκετά (14/50) από τα δειγματικά στοιχεία που πραγματικά ανήκουν στο cluster αυτό (cluster2), ανατίθενται με βάση τα χαρακτηριστικά τους στο cluster1.\n",
    "\n",
    "Οι παρακάτω ορισμοί είναι από τη βιβλιοθήκη sklearn:\n",
    "\n",
    "- The precision is intuitively the ability of the classifier not to label as positive a sample that is negative.\n",
    "- The recall is  intuitively the ability of the classifier to find all the positive samples.\n",
    "- The F1 score can be interpreted as a harmonic mean of the precision and recall, where an F1 score reaches its best value at 1 and worst score at 0. The relative contribution of precision and recall to the F1 score are equal.\n",
    "- Also, in the classification report, the reported averages include macro average (averaging the unweighted  mean per label), weighted average (averaging the support-weighted mean per label), and sample average (only for multilabel classification)."
   ],
   "metadata": {
    "collapsed": false,
    "pycharm": {
     "name": "#%% md\n"
    }
   }
  }
 ],
 "metadata": {
  "colab": {
   "name": "Stochastic_Processes_&_Optimization_in_Machine_Learning_(Lab_2_K_Means).ipynb",
   "provenance": []
  },
  "kernelspec": {
   "display_name": "Python 3",
   "language": "python",
   "name": "python3"
  },
  "language_info": {
   "codemirror_mode": {
    "name": "ipython",
    "version": 3
   },
   "file_extension": ".py",
   "mimetype": "text/x-python",
   "name": "python",
   "nbconvert_exporter": "python",
   "pygments_lexer": "ipython3",
   "version": "3.8.8"
  }
 },
 "nbformat": 4,
 "nbformat_minor": 1
}