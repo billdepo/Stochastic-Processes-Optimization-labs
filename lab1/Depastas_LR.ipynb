{
 "nbformat": 4,
 "nbformat_minor": 0,
 "metadata": {
  "colab": {
   "name": "Stochastic_Processes_&_Optimization_in_Machine_Learning_(Lab_1_Linear_Regression).ipynb",
   "provenance": []
  },
  "kernelspec": {
   "name": "python3",
   "display_name": "Python 3"
  }
 },
 "cells": [
  {
   "cell_type": "markdown",
   "metadata": {
    "id": "SCIo5COiZR65"
   },
   "source": [
    "<h1><b>Ο Αλγόριθμος Γραμμικής Παλινδρόμησης (Linear Regression)</b></h1>\n",
    "\n",
    "<p align=\"justify\">Στην άσκηση αυτή θα μελετήσετε τον αλγόριθμο <i>γραμμικής παλινδρόμησης (linear regression)</i>, αναπτύσσοντας ένα δικό σας πρόγραμμα Python που υλοποιεί όλες τις απαραίτητες ενέργειες, χωρίς να χρησιμοποιήσετε κάποια βιβλιοθήκη της Python που υλοποιεί το μοντέλο <i>linear regression</i>, όπως είναι η <i>Scikit-Learn</i>.</p>\n",
    "\n",
    "<p align=\"justify\">Αρχικά παρέχονται δύο αρχεία με δεδομένα εκπαίδευσης: (α) <i><a href=\"https://github.com/nkostopoulos/StochasticsLabPublic/blob/master/lab1/data1a.csv\">data1a.csv</a></i> και (β) <i><a href=\"https://github.com/nkostopoulos/StochasticsLabPublic/blob/master/lab1/data1b.csv\">data1b.csv</a></i>. Κάθε γραμμή του αρχείου <i>data1a.csv</i> περιλαμβάνει πληροφορίες που αφορούν τη θέαση video στο <i>YouTube</i>, όπως <i>τίτλος</i>, <i>αριθμός views</i>, <i>likes</i>, <i>dislikes</i>, κτλ. Συνολικά, το αρχείο <i>data1a.csv</i> περιλαμβάνει 11 στήλες. Περισσότερες πληροφορίες για το αρχείο <i>data1a.csv</i> μπορούν να αναζητηθούν <a href=\"https://www.kaggle.com/akanshasingh/us-videos-csv\">εδώ</a>. Το αρχείο <i>data1b.csv</i> περιλαμβάνει 2 στήλες με επικεφαλίδες x και y αντίστοιχα. Οι τιμές αυτές δεν έχουν κάποια φυσική σημασία. Περισσότερες πληροφορίες μπορούν να βρεθούν <a href=\"https://www.kaggle.com/testpython/linear-regression-with-single-variable\">εδώ</a>.</p>\n",
    "\n",
    "<p align=\"justify\">Σκοπός της άσκησης είναι να αναπτύξετε ένα μοντέλο απλής (simple) <i>linear regression</i>, το οποίο θα είναι σε θέση να εκτιμά (α) για την περίπτωση του αρχείου <i>data1a.csv</i> τον αριθμό των <i>views</i> (εξαρτημένη μεταβλητή) ενός video βάσει του αριθμού των <i>likes</i> (ανεξάρτητη μεταβλητή) που αυτό έχει πάρει και (β) για την περίπτωση του αρχείου <i>data1b.csv</i> την τιμή της μεταβλητής y βάσει των τιμών της μεταβλητής x. Να αναπτύξετε ένα ενιαίο πρόγραμμα που να κάνει τα παρακάτω:</p>\n",
    "<ul>\n",
    "<li>Θα φορτώνει τα δεδομένα από τα αρχεία .csv και θα απομονώνει τις στήλες που έχουν σημασία, δηλαδή στην περίπτωση του αρχείου data1a.csv τις στήλες με επικεφαλίδες views και likes και στην περίπτωση του αρχείου data1b.csv τις στήλες με επικεφαλίδες y και x.</li>\n",
    "<li>Θα υπολογίζει τη συσχέτιση (correlation) ανάμεσα στην ανεξάρτητη και εξαρτημένη μεταβλητή των δεδομένων που παρέχονται. Το βήμα αυτό είναι απαραίτητο για να εξακριβωθεί ποιος είναι ο βαθμός γραμμικής εξάρτησης ανάμεσα στις δύο μεταβλητές. Ποιο είναι το correlation που προκύπτει στις δύο περιπτώσεις; Είναι ικανοποιητική η γραμμική εξάρτηση των δύο μεταβλητών; Για το ερώτημα αυτό να μελετήσετε την πηγή <a href=\"https://en.wikipedia.org/wiki/Correlation_and_dependence\">εδώ</a>.</li>\n",
    "<li>Θα απεικονίζει τα σημεία που προκύπτουν ως ζεύγη της ανεξάρτητης και εξαρτημένης μεταβλητής που απομονώθηκαν στο πρώτο ερώτημα. Τι παρατηρείτε σε σχέση με τα συμπεράσματα που βγάλατε στο δεύτερο ερώτημα;</li>\n",
    "<li>Θα κανονικοποιεί τα δεδομένα που παρέχονται με τη μέθοδο min-max normalization. Περισσότερες πληροφορίες για τη μέθοδο αυτή μπορούν να βρεθούν <a href=\"https://en.wikipedia.org/wiki/Feature_scaling\">εδώ</a>.</li>\n",
    "<li>Θα υποδιαιρεί τα δεδομένα που παρέχονται με τυχαίο τρόπο σε δύο υποσύνολα: (α) το training set που περιλαμβάνει τα δεδομένα που θα χρησιμοποιηθούν για την εκπαίδευση του μοντέλου και (β) το test set που περιλαμβάνει τα δεδομένα που θα χρησιμοποιηθούν για τον υπολογισμό της ακρίβειας του μοντέλου. Ο χρήστης θα ορίζει το ποσοστό του κάθε αρχείου σε σχέση με το αρχικό.</li>\n",
    "<li>Θα υπολογίζει τις παραμέτρους του μοντέλου linear regression, χρησιμοποιώντας τη μέθοδο Stochastic Gradient Descent (SGD). Για το σκοπό αυτό, ο χρήστης θα πρέπει να ορίζει το ρυθμό μάθησης (learning rate) και το συνολικό αριθμό των εποχών (epochs) εκπαίδευσης. Να θεωρήσετε ότι οι αρχικές τιμές των παραμέτρων είναι μηδενικές.</li>\n",
    "<li>Θα υπολογίζει το μέσο τετραγωνικό σφάλμα (mean squared error) των προβλέψεων πάνω στο test set. Περισσότερες πληροφορίες μπορούν να βρεθούν <a href=\"https://en.wikipedia.org/wiki/Mean_squared_error\">εδώ</a>.</li>\n",
    "</ul>\n",
    "\n",
    "<p align=\"justify\">Να θεωρήσετε ότι το test set είναι το 20% του αρχικού dataset. Τι παρατηρείτε ότι συμβαίνει στην περίπτωση που δε γίνει κανονικοποίηση των δεδομένων; Πειραματιστείτε με τις τιμές του ρυθμού μάθησης και τον αριθμό των εποχών για να δείτε πώς αλλάζει το μέσο τετραγωνικό σφάλμα.<p>"
   ]
  },
  {
   "cell_type": "code",
   "metadata": {
    "id": "-Mh1rOPC1eV1"
   },
   "source": [
    "!pip install numpy\n",
    "!pip install matplotlib\n",
    "!pip install pandas\n",
    "\n",
    "import numpy as np\n",
    "import matplotlib.pyplot as plt\n",
    "import pandas as pd"
   ],
   "execution_count": 1,
   "outputs": [
    {
     "name": "stdout",
     "output_type": "stream",
     "text": [
      "Collecting numpy\n",
      "  Downloading numpy-1.22.3-cp310-cp310-win_amd64.whl (14.7 MB)\n",
      "Installing collected packages: numpy\n",
      "Successfully installed numpy-1.22.3\n"
     ]
    },
    {
     "name": "stderr",
     "output_type": "stream",
     "text": [
      "WARNING: You are using pip version 21.2.4; however, version 22.0.4 is available.\n",
      "You should consider upgrading via the 'C:\\Users\\User\\Downloads\\DSML MsC\\2nd semester\\Στοχαστικές Διεργασίες και Βελτιστοποίηση\\StochasticsLabPublic\\venv\\Scripts\\python.exe -m pip install --upgrade pip' command.\n"
     ]
    },
    {
     "name": "stdout",
     "output_type": "stream",
     "text": [
      "Collecting matplotlib\n",
      "  Using cached matplotlib-3.5.1-cp310-cp310-win_amd64.whl (7.2 MB)\n",
      "Collecting cycler>=0.10\n",
      "  Using cached cycler-0.11.0-py3-none-any.whl (6.4 kB)\n",
      "Requirement already satisfied: python-dateutil>=2.7 in c:\\users\\user\\downloads\\dsml msc\\2nd semester\\στοχαστικές διεργασίες και βελτιστοποίηση\\stochasticslabpublic\\venv\\lib\\site-packages (from matplotlib) (2.8.2)\n",
      "Requirement already satisfied: packaging>=20.0 in c:\\users\\user\\downloads\\dsml msc\\2nd semester\\στοχαστικές διεργασίες και βελτιστοποίηση\\stochasticslabpublic\\venv\\lib\\site-packages (from matplotlib) (21.3)\n",
      "Collecting fonttools>=4.22.0\n",
      "  Downloading fonttools-4.30.0-py3-none-any.whl (898 kB)\n",
      "Collecting kiwisolver>=1.0.1\n",
      "  Using cached kiwisolver-1.3.2-cp310-cp310-win_amd64.whl (52 kB)\n",
      "Collecting pillow>=6.2.0\n",
      "  Using cached Pillow-9.0.1-cp310-cp310-win_amd64.whl (3.2 MB)\n",
      "Requirement already satisfied: numpy>=1.17 in c:\\users\\user\\downloads\\dsml msc\\2nd semester\\στοχαστικές διεργασίες και βελτιστοποίηση\\stochasticslabpublic\\venv\\lib\\site-packages (from matplotlib) (1.22.3)\n",
      "Requirement already satisfied: pyparsing>=2.2.1 in c:\\users\\user\\downloads\\dsml msc\\2nd semester\\στοχαστικές διεργασίες και βελτιστοποίηση\\stochasticslabpublic\\venv\\lib\\site-packages (from matplotlib) (3.0.7)\n",
      "Requirement already satisfied: six>=1.5 in c:\\users\\user\\downloads\\dsml msc\\2nd semester\\στοχαστικές διεργασίες και βελτιστοποίηση\\stochasticslabpublic\\venv\\lib\\site-packages (from python-dateutil>=2.7->matplotlib) (1.16.0)\n",
      "Installing collected packages: pillow, kiwisolver, fonttools, cycler, matplotlib\n",
      "Successfully installed cycler-0.11.0 fonttools-4.30.0 kiwisolver-1.3.2 matplotlib-3.5.1 pillow-9.0.1\n"
     ]
    },
    {
     "name": "stderr",
     "output_type": "stream",
     "text": [
      "WARNING: You are using pip version 21.2.4; however, version 22.0.4 is available.\n",
      "You should consider upgrading via the 'C:\\Users\\User\\Downloads\\DSML MsC\\2nd semester\\Στοχαστικές Διεργασίες και Βελτιστοποίηση\\StochasticsLabPublic\\venv\\Scripts\\python.exe -m pip install --upgrade pip' command.\n",
      "WARNING: You are using pip version 21.2.4; however, version 22.0.4 is available.\n",
      "You should consider upgrading via the 'C:\\Users\\User\\Downloads\\DSML MsC\\2nd semester\\Στοχαστικές Διεργασίες και Βελτιστοποίηση\\StochasticsLabPublic\\venv\\Scripts\\python.exe -m pip install --upgrade pip' command.\n"
     ]
    },
    {
     "name": "stdout",
     "output_type": "stream",
     "text": [
      "Collecting pandas\n",
      "  Downloading pandas-1.4.1-cp310-cp310-win_amd64.whl (10.6 MB)\n",
      "Requirement already satisfied: numpy>=1.21.0 in c:\\users\\user\\downloads\\dsml msc\\2nd semester\\στοχαστικές διεργασίες και βελτιστοποίηση\\stochasticslabpublic\\venv\\lib\\site-packages (from pandas) (1.22.3)\n",
      "Collecting pytz>=2020.1\n",
      "  Using cached pytz-2021.3-py2.py3-none-any.whl (503 kB)\n",
      "Requirement already satisfied: python-dateutil>=2.8.1 in c:\\users\\user\\downloads\\dsml msc\\2nd semester\\στοχαστικές διεργασίες και βελτιστοποίηση\\stochasticslabpublic\\venv\\lib\\site-packages (from pandas) (2.8.2)\n",
      "Requirement already satisfied: six>=1.5 in c:\\users\\user\\downloads\\dsml msc\\2nd semester\\στοχαστικές διεργασίες και βελτιστοποίηση\\stochasticslabpublic\\venv\\lib\\site-packages (from python-dateutil>=2.8.1->pandas) (1.16.0)\n",
      "Installing collected packages: pytz, pandas\n",
      "Successfully installed pandas-1.4.1 pytz-2021.3\n"
     ]
    }
   ]
  },
  {
   "cell_type": "code",
   "metadata": {
    "id": "Gi6eokNdf30g"
   },
   "source": [
    "df1 = pd.read_csv('data1a.csv')\n",
    "df1.head(5)"
   ],
   "execution_count": 4,
   "outputs": [
    {
     "data": {
      "text/plain": "      video_id                                              title  \\\n0  XpVt6Z1Gjjo  1 YEAR OF VLOGGING -- HOW LOGAN PAUL CHANGED Y...   \n1  K4wEI5zhHB0            iPhone X — Introducing iPhone X — Apple   \n2  cLdxuaxaQwc                                        My Response   \n3  WYYvHb03Eog                          Apple iPhone X first look   \n4  sjlHnJvXdQs                                  iPhone X (parody)   \n\n      channel_title  category_id  \\\n0  Logan Paul Vlogs           24   \n1             Apple           28   \n2         PewDiePie           22   \n3         The Verge           28   \n4        jacksfilms           23   \n\n                                                tags    views   likes  \\\n0  logan paul vlog|logan paul|logan|paul|olympics...  4394029  320053   \n1  Apple|iPhone 10|iPhone Ten|iPhone|Portrait Lig...  7860119  185853   \n2                                             [none]  5845909  576597   \n3  apple iphone x hands on|Apple iPhone X|iPhone ...  2642103   24975   \n4  jacksfilms|parody|parodies|iphone|iphone x|iph...  1168130   96666   \n\n   dislikes  comment_total                                  thumbnail_link  \\\n0      5931          46245  https://i.ytimg.com/vi/XpVt6Z1Gjjo/default.jpg   \n1     26679              0  https://i.ytimg.com/vi/K4wEI5zhHB0/default.jpg   \n2     39774         170708  https://i.ytimg.com/vi/cLdxuaxaQwc/default.jpg   \n3      4542          12829  https://i.ytimg.com/vi/WYYvHb03Eog/default.jpg   \n4       568           6666  https://i.ytimg.com/vi/sjlHnJvXdQs/default.jpg   \n\n    date  \n0  13.09  \n1  13.09  \n2  13.09  \n3  13.09  \n4  13.09  ",
      "text/html": "<div>\n<style scoped>\n    .dataframe tbody tr th:only-of-type {\n        vertical-align: middle;\n    }\n\n    .dataframe tbody tr th {\n        vertical-align: top;\n    }\n\n    .dataframe thead th {\n        text-align: right;\n    }\n</style>\n<table border=\"1\" class=\"dataframe\">\n  <thead>\n    <tr style=\"text-align: right;\">\n      <th></th>\n      <th>video_id</th>\n      <th>title</th>\n      <th>channel_title</th>\n      <th>category_id</th>\n      <th>tags</th>\n      <th>views</th>\n      <th>likes</th>\n      <th>dislikes</th>\n      <th>comment_total</th>\n      <th>thumbnail_link</th>\n      <th>date</th>\n    </tr>\n  </thead>\n  <tbody>\n    <tr>\n      <th>0</th>\n      <td>XpVt6Z1Gjjo</td>\n      <td>1 YEAR OF VLOGGING -- HOW LOGAN PAUL CHANGED Y...</td>\n      <td>Logan Paul Vlogs</td>\n      <td>24</td>\n      <td>logan paul vlog|logan paul|logan|paul|olympics...</td>\n      <td>4394029</td>\n      <td>320053</td>\n      <td>5931</td>\n      <td>46245</td>\n      <td>https://i.ytimg.com/vi/XpVt6Z1Gjjo/default.jpg</td>\n      <td>13.09</td>\n    </tr>\n    <tr>\n      <th>1</th>\n      <td>K4wEI5zhHB0</td>\n      <td>iPhone X — Introducing iPhone X — Apple</td>\n      <td>Apple</td>\n      <td>28</td>\n      <td>Apple|iPhone 10|iPhone Ten|iPhone|Portrait Lig...</td>\n      <td>7860119</td>\n      <td>185853</td>\n      <td>26679</td>\n      <td>0</td>\n      <td>https://i.ytimg.com/vi/K4wEI5zhHB0/default.jpg</td>\n      <td>13.09</td>\n    </tr>\n    <tr>\n      <th>2</th>\n      <td>cLdxuaxaQwc</td>\n      <td>My Response</td>\n      <td>PewDiePie</td>\n      <td>22</td>\n      <td>[none]</td>\n      <td>5845909</td>\n      <td>576597</td>\n      <td>39774</td>\n      <td>170708</td>\n      <td>https://i.ytimg.com/vi/cLdxuaxaQwc/default.jpg</td>\n      <td>13.09</td>\n    </tr>\n    <tr>\n      <th>3</th>\n      <td>WYYvHb03Eog</td>\n      <td>Apple iPhone X first look</td>\n      <td>The Verge</td>\n      <td>28</td>\n      <td>apple iphone x hands on|Apple iPhone X|iPhone ...</td>\n      <td>2642103</td>\n      <td>24975</td>\n      <td>4542</td>\n      <td>12829</td>\n      <td>https://i.ytimg.com/vi/WYYvHb03Eog/default.jpg</td>\n      <td>13.09</td>\n    </tr>\n    <tr>\n      <th>4</th>\n      <td>sjlHnJvXdQs</td>\n      <td>iPhone X (parody)</td>\n      <td>jacksfilms</td>\n      <td>23</td>\n      <td>jacksfilms|parody|parodies|iphone|iphone x|iph...</td>\n      <td>1168130</td>\n      <td>96666</td>\n      <td>568</td>\n      <td>6666</td>\n      <td>https://i.ytimg.com/vi/sjlHnJvXdQs/default.jpg</td>\n      <td>13.09</td>\n    </tr>\n  </tbody>\n</table>\n</div>"
     },
     "execution_count": 4,
     "metadata": {},
     "output_type": "execute_result"
    }
   ]
  },
  {
   "cell_type": "code",
   "metadata": {
    "id": "ii1-WiYOf8Uo"
   },
   "source": [
    "df2 = pd.read_csv('data1b.csv')\n",
    "df2.head(5)"
   ],
   "execution_count": 5,
   "outputs": [
    {
     "data": {
      "text/plain": "    x          y\n0  24  21.549452\n1  50  47.464463\n2  15  17.218656\n3  38  36.586398\n4  87  87.288984",
      "text/html": "<div>\n<style scoped>\n    .dataframe tbody tr th:only-of-type {\n        vertical-align: middle;\n    }\n\n    .dataframe tbody tr th {\n        vertical-align: top;\n    }\n\n    .dataframe thead th {\n        text-align: right;\n    }\n</style>\n<table border=\"1\" class=\"dataframe\">\n  <thead>\n    <tr style=\"text-align: right;\">\n      <th></th>\n      <th>x</th>\n      <th>y</th>\n    </tr>\n  </thead>\n  <tbody>\n    <tr>\n      <th>0</th>\n      <td>24</td>\n      <td>21.549452</td>\n    </tr>\n    <tr>\n      <th>1</th>\n      <td>50</td>\n      <td>47.464463</td>\n    </tr>\n    <tr>\n      <th>2</th>\n      <td>15</td>\n      <td>17.218656</td>\n    </tr>\n    <tr>\n      <th>3</th>\n      <td>38</td>\n      <td>36.586398</td>\n    </tr>\n    <tr>\n      <th>4</th>\n      <td>87</td>\n      <td>87.288984</td>\n    </tr>\n  </tbody>\n</table>\n</div>"
     },
     "execution_count": 5,
     "metadata": {},
     "output_type": "execute_result"
    }
   ]
  },
  {
   "cell_type": "markdown",
   "source": [
    "## Data Loading\n",
    "\"*Θα φορτώνει τα δεδομένα από τα αρχεία .csv και θα απομονώνει τις στήλες που έχουν σημασία, δηλαδή στην περίπτωση του αρχείου data1a.csv τις στήλες με επικεφαλίδες views και likes και στην περίπτωση του αρχείου data1b.csv τις στήλες με επικεφαλίδες y και x.*\""
   ],
   "metadata": {
    "collapsed": false,
    "pycharm": {
     "name": "#%% md\n"
    }
   }
  },
  {
   "cell_type": "markdown",
   "source": [
    "Το dataset με x και y έχει ήδη μόνο 2 στήλες, άρα δεν απαιτείται περαιτέρω επεξεργασία για αυτό το ερώτημα"
   ],
   "metadata": {
    "collapsed": false,
    "pycharm": {
     "name": "#%% md\n"
    }
   }
  },
  {
   "cell_type": "code",
   "execution_count": 8,
   "outputs": [
    {
     "data": {
      "text/plain": "     views   likes\n0  4394029  320053\n1  7860119  185853\n2  5845909  576597\n3  2642103   24975\n4  1168130   96666",
      "text/html": "<div>\n<style scoped>\n    .dataframe tbody tr th:only-of-type {\n        vertical-align: middle;\n    }\n\n    .dataframe tbody tr th {\n        vertical-align: top;\n    }\n\n    .dataframe thead th {\n        text-align: right;\n    }\n</style>\n<table border=\"1\" class=\"dataframe\">\n  <thead>\n    <tr style=\"text-align: right;\">\n      <th></th>\n      <th>views</th>\n      <th>likes</th>\n    </tr>\n  </thead>\n  <tbody>\n    <tr>\n      <th>0</th>\n      <td>4394029</td>\n      <td>320053</td>\n    </tr>\n    <tr>\n      <th>1</th>\n      <td>7860119</td>\n      <td>185853</td>\n    </tr>\n    <tr>\n      <th>2</th>\n      <td>5845909</td>\n      <td>576597</td>\n    </tr>\n    <tr>\n      <th>3</th>\n      <td>2642103</td>\n      <td>24975</td>\n    </tr>\n    <tr>\n      <th>4</th>\n      <td>1168130</td>\n      <td>96666</td>\n    </tr>\n  </tbody>\n</table>\n</div>"
     },
     "execution_count": 8,
     "metadata": {},
     "output_type": "execute_result"
    }
   ],
   "source": [
    "df1 = df1[['views', 'likes']]\n",
    "df1.head()"
   ],
   "metadata": {
    "collapsed": false,
    "pycharm": {
     "name": "#%%\n"
    }
   }
  },
  {
   "cell_type": "markdown",
   "source": [
    "## Correlation between independent and dependent variable\n",
    "\"*Θα υπολογίζει τη συσχέτιση (correlation) ανάμεσα στην ανεξάρτητη και εξαρτημένη μεταβλητή των δεδομένων που παρέχονται. Το βήμα αυτό είναι απαραίτητο για να εξακριβωθεί ποιος είναι ο βαθμός γραμμικής εξάρτησης ανάμεσα στις δύο μεταβλητές. Ποιο είναι το correlation που προκύπτει στις δύο περιπτώσεις; Είναι ικανοποιητική η γραμμική εξάρτηση των δύο μεταβλητών; Για το ερώτημα αυτό να μελετήσετε την πηγή εδώ.*\""
   ],
   "metadata": {
    "collapsed": false,
    "pycharm": {
     "name": "#%% md\n"
    }
   }
  },
  {
   "cell_type": "code",
   "execution_count": 9,
   "outputs": [
    {
     "data": {
      "text/plain": "          views     likes\nviews  1.000000  0.832853\nlikes  0.832853  1.000000",
      "text/html": "<div>\n<style scoped>\n    .dataframe tbody tr th:only-of-type {\n        vertical-align: middle;\n    }\n\n    .dataframe tbody tr th {\n        vertical-align: top;\n    }\n\n    .dataframe thead th {\n        text-align: right;\n    }\n</style>\n<table border=\"1\" class=\"dataframe\">\n  <thead>\n    <tr style=\"text-align: right;\">\n      <th></th>\n      <th>views</th>\n      <th>likes</th>\n    </tr>\n  </thead>\n  <tbody>\n    <tr>\n      <th>views</th>\n      <td>1.000000</td>\n      <td>0.832853</td>\n    </tr>\n    <tr>\n      <th>likes</th>\n      <td>0.832853</td>\n      <td>1.000000</td>\n    </tr>\n  </tbody>\n</table>\n</div>"
     },
     "execution_count": 9,
     "metadata": {},
     "output_type": "execute_result"
    }
   ],
   "source": [
    "df1.corr(method='pearson')"
   ],
   "metadata": {
    "collapsed": false,
    "pycharm": {
     "name": "#%%\n"
    }
   }
  },
  {
   "cell_type": "code",
   "execution_count": 10,
   "outputs": [
    {
     "data": {
      "text/plain": "          x         y\nx  1.000000  0.995071\ny  0.995071  1.000000",
      "text/html": "<div>\n<style scoped>\n    .dataframe tbody tr th:only-of-type {\n        vertical-align: middle;\n    }\n\n    .dataframe tbody tr th {\n        vertical-align: top;\n    }\n\n    .dataframe thead th {\n        text-align: right;\n    }\n</style>\n<table border=\"1\" class=\"dataframe\">\n  <thead>\n    <tr style=\"text-align: right;\">\n      <th></th>\n      <th>x</th>\n      <th>y</th>\n    </tr>\n  </thead>\n  <tbody>\n    <tr>\n      <th>x</th>\n      <td>1.000000</td>\n      <td>0.995071</td>\n    </tr>\n    <tr>\n      <th>y</th>\n      <td>0.995071</td>\n      <td>1.000000</td>\n    </tr>\n  </tbody>\n</table>\n</div>"
     },
     "execution_count": 10,
     "metadata": {},
     "output_type": "execute_result"
    }
   ],
   "source": [
    "df2.corr(method='pearson')"
   ],
   "metadata": {
    "collapsed": false,
    "pycharm": {
     "name": "#%%\n"
    }
   }
  },
  {
   "cell_type": "markdown",
   "source": [
    "## Scatter plot of data points\n",
    "\"*Θα απεικονίζει τα σημεία που προκύπτουν ως ζεύγη της ανεξάρτητης και εξαρτημένης μεταβλητής που απομονώθηκαν στο πρώτο ερώτημα. Τι παρατηρείτε σε σχέση με τα συμπεράσματα που βγάλατε στο δεύτερο ερώτημα;*\""
   ],
   "metadata": {
    "collapsed": false,
    "pycharm": {
     "name": "#%% md\n"
    }
   }
  },
  {
   "cell_type": "code",
   "execution_count": 30,
   "outputs": [
    {
     "data": {
      "text/plain": "[Text(0.5, 1.0, 'Y vs X'), Text(0.5, 0, 'X'), Text(0, 0.5, 'Y')]"
     },
     "execution_count": 30,
     "metadata": {},
     "output_type": "execute_result"
    },
    {
     "data": {
      "text/plain": "<Figure size 1080x504 with 2 Axes>",
      "image/png": "[encoded data removed]"
     },
     "metadata": {
      "needs_background": "light"
     },
     "output_type": "display_data"
    }
   ],
   "source": [
    "fig, ax = plt.subplots(nrows=1, ncols=2, figsize=(15,7)) #define figure and 2 axes\n",
    "\n",
    "ax[0].scatter(df1['likes'], df1['views'], s=10)\n",
    "ax[0].set(title='Views vs Likes', xlabel='Likes', ylabel='Views')\n",
    "\n",
    "ax[1].scatter(df2['x'], df2['y'], s=10)\n",
    "ax[1].set(title='Y vs X', xlabel='X', ylabel='Y')"
   ],
   "metadata": {
    "collapsed": false,
    "pycharm": {
     "name": "#%%\n"
    }
   }
  },
  {
   "cell_type": "markdown",
   "source": [
    "Παρατηρούμε ότι στο 2ο dataset (**Y vs X**) στο οποίο η ανεξάρτητη και εξαρτημένη μεταβλητή είχαν το μεγαλύτερο correlation επιδεικνύει καλύτερη γραμμική συσχέτιση μεταξύ των μεταβλητών και προσομοιάζει το σχήμα περισσότερο σε ευθεία γραμμή."
   ],
   "metadata": {
    "collapsed": false,
    "pycharm": {
     "name": "#%% md\n"
    }
   }
  },
  {
   "cell_type": "markdown",
   "source": [
    "## Data normalization\n",
    "\"*Θα κανονικοποιεί τα δεδομένα που παρέχονται με τη μέθοδο min-max normalization. Περισσότερες πληροφορίες για τη μέθοδο αυτή μπορούν να βρεθούν εδώ.*\""
   ],
   "metadata": {
    "collapsed": false,
    "pycharm": {
     "name": "#%% md\n"
    }
   }
  },
  {
   "cell_type": "markdown",
   "source": [
    "Εδώ κανονικοποιούμε τα δεδομένα με τη μέθοδο **min-max** πηγαίνοντάς τα στο **$[0,1]$**. Ο μαθηματικός τύπος που χρησιμοποιείται είναι:\n",
    "$x' = \\frac{x-min(x)}{max(x)-min(x)}$"
   ],
   "metadata": {
    "collapsed": false,
    "pycharm": {
     "name": "#%% md\n"
    }
   }
  },
  {
   "cell_type": "code",
   "execution_count": 38,
   "outputs": [
    {
     "name": "stdout",
     "output_type": "stream",
     "text": [
      "Normalized likes in [0.0,1.0] and normalized views in [0.0,1.0]\n"
     ]
    },
    {
     "data": {
      "text/plain": "      views     likes\n0  0.105879  0.159201\n1  0.189397  0.092447\n2  0.140863  0.286812\n3  0.063664  0.012423\n4  0.028147  0.048084",
      "text/html": "<div>\n<style scoped>\n    .dataframe tbody tr th:only-of-type {\n        vertical-align: middle;\n    }\n\n    .dataframe tbody tr th {\n        vertical-align: top;\n    }\n\n    .dataframe thead th {\n        text-align: right;\n    }\n</style>\n<table border=\"1\" class=\"dataframe\">\n  <thead>\n    <tr style=\"text-align: right;\">\n      <th></th>\n      <th>views</th>\n      <th>likes</th>\n    </tr>\n  </thead>\n  <tbody>\n    <tr>\n      <th>0</th>\n      <td>0.105879</td>\n      <td>0.159201</td>\n    </tr>\n    <tr>\n      <th>1</th>\n      <td>0.189397</td>\n      <td>0.092447</td>\n    </tr>\n    <tr>\n      <th>2</th>\n      <td>0.140863</td>\n      <td>0.286812</td>\n    </tr>\n    <tr>\n      <th>3</th>\n      <td>0.063664</td>\n      <td>0.012423</td>\n    </tr>\n    <tr>\n      <th>4</th>\n      <td>0.028147</td>\n      <td>0.048084</td>\n    </tr>\n  </tbody>\n</table>\n</div>"
     },
     "execution_count": 38,
     "metadata": {},
     "output_type": "execute_result"
    }
   ],
   "source": [
    "min_likes, max_likes, min_views, max_views = df1['likes'].min(), df1['likes'].max(), df1['views'].min(), df1['views'].max()\n",
    "df1['likes'] = (df1['likes'] - min_likes) / (max_likes - min_likes)\n",
    "df1['views'] = (df1['views'] - min_views) / (max_views - min_views)\n",
    "\n",
    "print(f'Normalized likes in [{min_likes},{max_likes}] and normalized views in [{min_views},{max_views}]')\n",
    "df1.head(5) # show first 5 rows of dataframe"
   ],
   "metadata": {
    "collapsed": false,
    "pycharm": {
     "name": "#%%\n"
    }
   }
  },
  {
   "cell_type": "code",
   "execution_count": 39,
   "outputs": [
    {
     "name": "stdout",
     "output_type": "stream",
     "text": [
      "Normalized x in [0.0,1.0] and normalized y in [0.0,1.0]\n"
     ]
    },
    {
     "data": {
      "text/plain": "      x         y\n0  0.24  0.225260\n1  0.50  0.455183\n2  0.15  0.186836\n3  0.38  0.358671\n4  0.87  0.808515",
      "text/html": "<div>\n<style scoped>\n    .dataframe tbody tr th:only-of-type {\n        vertical-align: middle;\n    }\n\n    .dataframe tbody tr th {\n        vertical-align: top;\n    }\n\n    .dataframe thead th {\n        text-align: right;\n    }\n</style>\n<table border=\"1\" class=\"dataframe\">\n  <thead>\n    <tr style=\"text-align: right;\">\n      <th></th>\n      <th>x</th>\n      <th>y</th>\n    </tr>\n  </thead>\n  <tbody>\n    <tr>\n      <th>0</th>\n      <td>0.24</td>\n      <td>0.225260</td>\n    </tr>\n    <tr>\n      <th>1</th>\n      <td>0.50</td>\n      <td>0.455183</td>\n    </tr>\n    <tr>\n      <th>2</th>\n      <td>0.15</td>\n      <td>0.186836</td>\n    </tr>\n    <tr>\n      <th>3</th>\n      <td>0.38</td>\n      <td>0.358671</td>\n    </tr>\n    <tr>\n      <th>4</th>\n      <td>0.87</td>\n      <td>0.808515</td>\n    </tr>\n  </tbody>\n</table>\n</div>"
     },
     "execution_count": 39,
     "metadata": {},
     "output_type": "execute_result"
    }
   ],
   "source": [
    "min_x, max_x, min_y, max_y = df2['x'].min(), df2['x'].max(), df2['y'].min(), df2['y'].max()\n",
    "df2['x'] = (df2['x'] - min_x) / (max_x - min_x)\n",
    "df2['y'] = (df2['y'] - min_y) / (max_y - min_y)\n",
    "\n",
    "print(f'Normalized x in [{min_x},{max_x}] and normalized y in [{min_y},{max_y}]')\n",
    "df2.head(5) # show first 5 rows of dataframe"
   ],
   "metadata": {
    "collapsed": false,
    "pycharm": {
     "name": "#%%\n"
    }
   }
  },
  {
   "cell_type": "markdown",
   "source": [
    "## Train - Test split of dataset\n",
    "\"*Θα υποδιαιρεί τα δεδομένα που παρέχονται με τυχαίο τρόπο σε δύο υποσύνολα: (α) το training set που περιλαμβάνει τα δεδομένα που θα χρησιμοποιηθούν για την εκπαίδευση του μοντέλου και (β) το test set που περιλαμβάνει τα δεδομένα που θα χρησιμοποιηθούν για τον υπολογισμό της ακρίβειας του μοντέλου. Ο χρήστης θα ορίζει το ποσοστό του κάθε αρχείου σε σχέση με το αρχικό.*\""
   ],
   "metadata": {
    "collapsed": false,
    "pycharm": {
     "name": "#%% md\n"
    }
   }
  },
  {
   "cell_type": "markdown",
   "source": [
    "Πρώτα απομονώνουμε για τα δύο datasets τις δύο μεταβλητές (εξαρτημένη και ανεξάρτητη) σε numpy arrays ώστε μετά να γίνει το split σε training και test set."
   ],
   "metadata": {
    "collapsed": false,
    "pycharm": {
     "name": "#%% md\n"
    }
   }
  },
  {
   "cell_type": "code",
   "execution_count": 48,
   "outputs": [
    {
     "data": {
      "text/plain": "(array([0.15920136, 0.09244735, 0.28681195, 0.01242311, 0.04808378]),\n array([0.1058785 , 0.18939739, 0.140863  , 0.0636641 , 0.02814726]))"
     },
     "execution_count": 48,
     "metadata": {},
     "output_type": "execute_result"
    }
   ],
   "source": [
    "X1, y1 = np.array(df1['likes']), np.array(df1['views']) # transform columns in np array format\n",
    "X1[:5], y1[:5]"
   ],
   "metadata": {
    "collapsed": false,
    "pycharm": {
     "name": "#%%\n"
    }
   }
  },
  {
   "cell_type": "code",
   "execution_count": 49,
   "outputs": [
    {
     "data": {
      "text/plain": "(array([0.24, 0.5 , 0.15, 0.38, 0.87]),\n array([0.22526016, 0.45518336, 0.18683647, 0.35867097, 0.80851452]))"
     },
     "execution_count": 49,
     "metadata": {},
     "output_type": "execute_result"
    }
   ],
   "source": [
    "X2, y2 = np.array(df2['x']), np.array(df2['y']) # transform columns in np array format\n",
    "X2[:5], y2[:5]"
   ],
   "metadata": {
    "collapsed": false,
    "pycharm": {
     "name": "#%%\n"
    }
   }
  },
  {
   "cell_type": "markdown",
   "source": [
    "Συνάρτηση train-test split"
   ],
   "metadata": {
    "collapsed": false,
    "pycharm": {
     "name": "#%% md\n"
    }
   }
  },
  {
   "cell_type": "code",
   "execution_count": 86,
   "outputs": [],
   "source": [
    "def train_test_split(X, y, test_percentage=0.3 , shuffle=True, random_state=42):\n",
    "    \"\"\"\n",
    "    Input:      X: numpy array, contains independent variable values\n",
    "                y: numpy array, contains dependent variable values\n",
    "                test_percentage: [0,1] percentage of total dataset examples kept out for test set\n",
    "                shuffle: boolean, whether to shuffle X and y before splitting to train and test sets\n",
    "                random_state: integer, if set along with shuffle=True, then reproducible results returned for different runs\n",
    "    Returns:    X_train, y_train: subset of X and y corresponding to training set\n",
    "                X_test, y_test: subset of X and y corresponding to test set\n",
    "    \"\"\"\n",
    "\n",
    "    X_and_y = np.stack((X, y), axis=-1) # combine X and y numpy arrays\n",
    "\n",
    "    # shuffle X and y\n",
    "    if shuffle == True:\n",
    "        try:\n",
    "            shuffle_random_state = np.random.RandomState(random_state)\n",
    "        except:\n",
    "            raise Exception(f\"Wrong inout for random state. Value given: {random_state}\")\n",
    "        shuffle_random_state.shuffle(X_and_y) # in place shuffling\n",
    "\n",
    "    # split dataset\n",
    "    N = len(X_and_y) # length / # of rows of full dataset\n",
    "    N_train = int(np.ceil(N * (1 - test_percentage))) # length of training set\n",
    "    X_and_y_train, X_and_y_test = X_and_y[:N_train], X_and_y[N_train:] # split of dataset\n",
    "    X_train, y_train, X_test, y_test = X_and_y_train[:, 0], X_and_y_train[:, 1], X_and_y_test[:, 0], X_and_y_test[:, 1]\n",
    "\n",
    "    return X_train, y_train, X_test, y_test"
   ],
   "metadata": {
    "collapsed": false,
    "pycharm": {
     "name": "#%%\n"
    }
   }
  },
  {
   "cell_type": "code",
   "execution_count": 87,
   "outputs": [],
   "source": [
    "X_train1, y_train1, X_test1, y_test1 = train_test_split(X1, y1, test_percentage=0.3)\n",
    "X_train2, y_train2, X_test2, y_test2 = train_test_split(X2, y2, test_percentage=0.3)"
   ],
   "metadata": {
    "collapsed": false,
    "pycharm": {
     "name": "#%%\n"
    }
   }
  },
  {
   "cell_type": "code",
   "execution_count": 90,
   "outputs": [
    {
     "data": {
      "text/plain": "<matplotlib.legend.Legend at 0x1add99f5ed0>"
     },
     "execution_count": 90,
     "metadata": {},
     "output_type": "execute_result"
    },
    {
     "data": {
      "text/plain": "<Figure size 1080x504 with 2 Axes>",
      "image/png": "[encoded data removed]"
     },
     "metadata": {
      "needs_background": "light"
     },
     "output_type": "display_data"
    }
   ],
   "source": [
    "fig, ax = plt.subplots(nrows=1, ncols=2, figsize=(15,7)) #define figure and 2 axes\n",
    "\n",
    "ax[0].scatter(X_train1, y_train1, s=10, color='blue', label='train set') #training set samples\n",
    "ax[0].scatter(X_test1, y_test1, s=10, color='red', label='test set') #test set samples\n",
    "ax[0].set(title='Views vs Likes', xlabel='Likes', ylabel='Views')\n",
    "ax[0].legend()\n",
    "\n",
    "ax[1].scatter(X_train2, y_train2, s=10, color='blue', label='train set')\n",
    "ax[1].scatter(X_test2, y_test2, s=10, color='red', label='test set')\n",
    "ax[1].set(title='Y vs X', xlabel='X', ylabel='Y')\n",
    "ax[1].legend()"
   ],
   "metadata": {
    "collapsed": false,
    "pycharm": {
     "name": "#%%\n"
    }
   }
  },
  {
   "cell_type": "markdown",
   "source": [
    "## Linear Regression model parameters estimation with SGD\n",
    "\"*Θα υπολογίζει τις παραμέτρους του μοντέλου linear regression, χρησιμοποιώντας τη μέθοδο Stochastic Gradient Descent (SGD). Για το σκοπό αυτό, ο χρήστης θα πρέπει να ορίζει το ρυθμό μάθησης (learning rate) και το συνολικό αριθμό των εποχών (epochs) εκπαίδευσης. Να θεωρήσετε ότι οι αρχικές τιμές των παραμέτρων είναι μηδενικές.*\""
   ],
   "metadata": {
    "collapsed": false,
    "pycharm": {
     "name": "#%% md\n"
    }
   }
  },
  {
   "cell_type": "code",
   "execution_count": null,
   "outputs": [],
   "source": [],
   "metadata": {
    "collapsed": false,
    "pycharm": {
     "name": "#%%\n"
    }
   }
  },
  {
   "cell_type": "markdown",
   "source": [
    "## MSE of predictions\n",
    "\"*Θα υπολογίζει το μέσο τετραγωνικό σφάλμα (mean squared error) των προβλέψεων πάνω στο test set. Περισσότερες πληροφορίες μπορούν να βρεθούν εδώ.*\""
   ],
   "metadata": {
    "collapsed": false,
    "pycharm": {
     "name": "#%% md\n"
    }
   }
  },
  {
   "cell_type": "code",
   "execution_count": null,
   "outputs": [],
   "source": [],
   "metadata": {
    "collapsed": false,
    "pycharm": {
     "name": "#%%\n"
    }
   }
  }
 ]
}