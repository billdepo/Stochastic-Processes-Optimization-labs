{
 "nbformat": 4,
 "nbformat_minor": 0,
 "metadata": {
  "colab": {
   "name": "Stochastic_Processes_&_Optimization_in_Machine_Learning_(Lab_10_KNN).ipynb",
   "provenance": [],
   "collapsed_sections": []
  },
  "kernelspec": {
   "name": "python3",
   "display_name": "Python 3"
  },
  "language_info": {
   "name": "python"
  }
 },
 "cells": [
  {
   "cell_type": "markdown",
   "source": [
    "# Αλγόριθμος ΚΝΝ\n",
    "\n",
    "Στο παρακάτω παράδειγμα θα εξετάσουμε πως λειτουργεί ο αλγόριθμος Κ-Nearest Neighbors ([KNN](https://en.wikipedia.org/wiki/K-nearest_neighbors_algorithm?msclkid=0c75f966cf9c11ecbab5cba311a90428)), χρησιμοποιώντας το [iris dataset](https://en.wikipedia.org/wiki/Iris_flower_data_set?msclkid=33057869cf9c11ec8e488a45734cbc68) σε προβλήματα κατηγοριοποίησης και προβλέψεων. Το αρχείο που θα χρησιμοποιήσετε είναι διαθέσιμο [**εδώ**](https://github.com/nkostopoulos/StochasticsLabPublic/blob/master/lab10/KNN/iris.csv).\n",
    "\n",
    "\n",
    "### Ερωτήσεις\n",
    "\n",
    "\n",
    "\n",
    "*   Να περιγράψετε συνοπτικά το τρόπο λειτουργίας του αλγορίθμου ΚΝΝ\n",
    "*   Ποια είναι τα πλεονεκτήματα και τα μειονεκτήματα του συγκεκριμένου αλγορίθμου; \n",
    "*   Ο συγκεκριμένος αλγόριθμος είναι αποδοτικός στην περίπτωση που έχουμε μεγάλο πλήθος χαρακτηριστικών; Τι συμβαίνει στις περιπτώσεις όπου επιλέξουμε μεγάλο ή μικρό k; \n",
    "\n"
   ],
   "metadata": {
    "id": "3Sc2hbFf_5x4"
   }
  },
  {
   "cell_type": "markdown",
   "source": [
    "#### Eρώτηση 1:\n",
    "Να περιγράψετε συνοπτικά το τρόπο λειτουργίας του αλγορίθμου ΚΝΝ\n",
    "\n"
   ],
   "metadata": {
    "collapsed": false,
    "pycharm": {
     "name": "#%% md\n"
    }
   }
  },
  {
   "cell_type": "markdown",
   "source": [
    "Ο τρόπος με τον οποίον λειτουργεί ο αλγόριθμος k-πλησιέστερων γειτόνων (kNN) είναι ο εξής:\n",
    "\n",
    "- Αρχικά, ορίζεται μια τιμή $k \\in \\mathbb{N}$ ως υπερπαράμετρος από το σχεδιαστή ή χρήστη του αλγορίθμου και ο ταξινομητής τροφοδοτείται με και απομνημονεύει τα στιγμιότυπα του συνόλου εκπαίδευσης μαζί με την ετικέτα τους (target label)\n",
    "- Ύστερα, για ένα νέο στιγμιότυπο, έστω $\\vec{x}$, βρίσκουμε τα $k$ σε αριθμό πιο κοντινά σε αυτό στιγμιότυπα του συνόλου εκπαίδευσης $\\vec{x}_1, \\vec{x}_2,..., \\vec{x}_k$. Για την εύρεση αυτών των διανυσμάτων, απαιτείται ο ορισμός της μετρικής απόστασης (πχ. ευκλείδια, manhattan, minkowsky, chebyshev κτλ) μεταξύ δύο στιγμιοτύπων $d(\\vec{x},\\vec{x}_i)$.\n",
    "- Τέλος, παίρνοντας τα αντίστοιχα labels για τα κοντυνότερα διανύσματα $y_1, y_2, ..., y_k$, αναθέτουμε ως πρόβλεψη/ταξινόμηση κλάσης στο $\\vec{x}$ την κλάση εκείνη που πλειοψηφεί στους κοντυνότερους γείτονες/διανύσματα.\n",
    "\n",
    "Αναφέρουμε εδώ, πως ο ταξινομητής αυτός δεν εκπαιδεύεται όπως άλλοι ταξινομητές, αλλά απομνημονεύει όπως αναφέρθηκε τα δειγματικά στοιχεία εκπαίδευσης και έπειτα εκμεταλλευόμενος την τοπολογική εγγύτητα με άλλα στιγμιότυπα ταξινομεί νέα στιγμιότυπα."
   ],
   "metadata": {
    "collapsed": false,
    "pycharm": {
     "name": "#%% md\n"
    }
   }
  },
  {
   "cell_type": "code",
   "source": [
    "# Make Predictions with k-nearest neighbors on the Iris Flowers Dataset\n",
    "from csv import reader\n",
    "from math import sqrt"
   ],
   "metadata": {
    "id": "YdDd567UDrAH"
   },
   "execution_count": 24,
   "outputs": []
  },
  {
   "cell_type": "code",
   "source": [
    "# Load a CSV file\n",
    "def load_csv(filename):\n",
    "\tdataset = list()\n",
    "\twith open(filename, 'r') as file:\n",
    "\t\tcsv_reader = reader(file)\n",
    "\t\tfor row in csv_reader:\n",
    "\t\t\tif not row:\n",
    "\t\t\t\tcontinue\n",
    "\t\t\tdataset.append(row)\n",
    "\treturn dataset\n",
    "\n",
    "# Convert string column to float\n",
    "def str_column_to_float(dataset, column):\n",
    "\tfor row in dataset:\n",
    "\t\trow[column] = float(row[column].strip())\n",
    "\n",
    "# Convert string column to integer\n",
    "def str_column_to_int(dataset, column):\n",
    "\tclass_values = [row[column] for row in dataset]\n",
    "\tunique = set(class_values)\n",
    "\tlookup = dict()\n",
    "\tfor i, value in enumerate(unique):\n",
    "\t\tlookup[value] = i\n",
    "\t\tprint('[%s] => %d' % (value, i))\n",
    "\tfor row in dataset:\n",
    "\t\trow[column] = lookup[row[column]]\n",
    "\treturn lookup\n",
    "\n",
    "# Find the min and max values for each column\n",
    "def dataset_minmax(dataset):\n",
    "\tminmax = list()\n",
    "\tfor i in range(len(dataset[0])):\n",
    "\t\tcol_values = [row[i] for row in dataset]\n",
    "\t\tvalue_min = min(col_values)\n",
    "\t\tvalue_max = max(col_values)\n",
    "\t\tminmax.append([value_min, value_max])\n",
    "\treturn minmax\n",
    "\n",
    "# Rescale dataset columns to the range 0-1\n",
    "def normalize_dataset(dataset, minmax):\n",
    "\tfor row in dataset:\n",
    "\t\tfor i in range(len(row)):\n",
    "\t\t\trow[i] = (row[i] - minmax[i][0]) / (minmax[i][1] - minmax[i][0])"
   ],
   "metadata": {
    "id": "Z0S9ZQ57Dv8-"
   },
   "execution_count": 25,
   "outputs": []
  },
  {
   "cell_type": "markdown",
   "source": [
    "\n",
    "\n",
    "*   Αναφέρετε άλλες μεθόδους υπολογισμού της απόστασης\n",
    "\n"
   ],
   "metadata": {
    "id": "2APEXH9DD3S_"
   }
  },
  {
   "cell_type": "markdown",
   "source": [
    "Στο παρακάτω κελί κώδικα, υλοποιείται η **ευκλείδια απόσταση** για δύο διανύσματα. Ωστόσο όπως αναφέρθηκε προηγουμένως, υπάρχουν και άλλες μετρικές αποστάσεις που μπορούν να χρησιμοποιηθούν αντ' αυτής.\n",
    "\n",
    "- Euclidean distance: $d(\\vec{x}, \\vec{y}) = \\sqrt{\\sum_{i=1}^{m}|x_i-y_i|^2}$\n",
    "- Manhattan distance: $d(\\vec{x}, \\vec{y}) = \\sum_{i=1}^{m}|x_i-y_i|$\n",
    "- Minkowsky distance: $d(\\vec{x}, \\vec{y}) = (\\sum_{i=1}^{m} |x_i-y_i|^r)^{1/r} $\n",
    "- Chebyshev distance: $d(\\vec{x}, \\vec{y}) = \\max_{i=1,...,m}|x_i-y_i|$\n",
    "\n"
   ],
   "metadata": {
    "collapsed": false,
    "pycharm": {
     "name": "#%% md\n"
    }
   }
  },
  {
   "cell_type": "code",
   "execution_count": 26,
   "metadata": {
    "id": "R4OjL9p18HL-"
   },
   "outputs": [],
   "source": [
    "# Calculate the Euclidean distance between two vectors\n",
    "def euclidean_distance(row1, row2):\n",
    "\tdistance = 0.0\n",
    "\tfor i in range(len(row1)-1):\n",
    "\t\tdistance += (row1[i] - row2[i])**2\n",
    "\treturn sqrt(distance)\n",
    "\n",
    "# Locate the most similar neighbors\n",
    "def get_neighbors(train, test_row, num_neighbors):\n",
    "\tdistances = list()\n",
    "\tfor train_row in train:\n",
    "\t\tdist = euclidean_distance(test_row, train_row)\n",
    "\t\tdistances.append((train_row, dist))\n",
    "\tdistances.sort(key=lambda tup: tup[1])\n",
    "\tneighbors = list()\n",
    "\tfor i in range(num_neighbors):\n",
    "\t\tneighbors.append(distances[i][0])\n",
    "\treturn neighbors\n",
    "\n",
    "# Make a prediction with neighbors\n",
    "def predict_classification(train, test_row, num_neighbors):\n",
    "\tneighbors = get_neighbors(train, test_row, num_neighbors)\n",
    "\toutput_values = [row[-1] for row in neighbors]\n",
    "\tprediction = max(set(output_values), key=output_values.count)\n",
    "\treturn prediction"
   ]
  },
  {
   "cell_type": "markdown",
   "source": [
    "\n",
    "\n",
    "*   Δοκιμάστε με τα παρακάτω ζεύγη τιμών και σημειώστε τα αποτελέσματα\n",
    "\n",
    "\n",
    "\t*   [4.9, 3.1, 1.5, 0.1]\n",
    "\t*   [6.9, 3.1, 4.9, 1.5]\n",
    "\t*   [5.0, 2.0, 3.5, 1.0]\n",
    "\t*   [5.6, 2.7, 4.2, 1.3]\n",
    "\t*   [6.3, 3.3, 6.0, 2.5]\n",
    "\t*   [5.7, 2.9, 4.2, 1.3]\n",
    "\t*   [5.9, 3.0, 5.1, 1.8]\n",
    "\n",
    "\n",
    "\n",
    "\n",
    "\n",
    "\n",
    "\n",
    "\n",
    "\n"
   ],
   "metadata": {
    "id": "hIVzwwpSEeE-"
   }
  },
  {
   "cell_type": "code",
   "source": [
    "# Make a prediction with KNN on Iris Dataset\n",
    "filename = 'iris.csv'\n",
    "dataset = load_csv(filename)\n",
    "for i in range(len(dataset[0])-1):\n",
    "\tstr_column_to_float(dataset, i)\n",
    "# convert class column to integers\n",
    "str_column_to_int(dataset, len(dataset[0])-1)\n",
    "# define model parameter\n",
    "num_neighbors = 5\n",
    "# define a new record\n",
    "row = [4.5, 2.3, 1.3, 0.3]\n",
    "# predict the label\n",
    "label = predict_classification(dataset, row, num_neighbors)\n",
    "print('Data=%s, Predicted: %s' % (row, label))"
   ],
   "metadata": {
    "id": "vVci7H7jExef"
   },
   "execution_count": 27,
   "outputs": [
    {
     "name": "stdout",
     "output_type": "stream",
     "text": [
      "[Iris-virginica] => 0\n",
      "[Iris-setosa] => 1\n",
      "[Iris-versicolor] => 2\n",
      "Data=[4.5, 2.3, 1.3, 0.3], Predicted: 1\n"
     ]
    }
   ]
  },
  {
   "cell_type": "markdown",
   "source": [
    "Στο παρακάτω κελί φαίνονται τα αποτελέσματα του prediction για τα ζεύγη τιμών που ζητήθηκαν:"
   ],
   "metadata": {
    "collapsed": false,
    "pycharm": {
     "name": "#%% md\n"
    }
   }
  },
  {
   "cell_type": "code",
   "execution_count": 28,
   "outputs": [
    {
     "name": "stdout",
     "output_type": "stream",
     "text": [
      "Data=[4.9, 3.1, 1.5, 0.1], Distance=Euclidean, Predicted: 1\n",
      "Data=[6.9, 3.1, 4.9, 1.5], Distance=Euclidean, Predicted: 2\n",
      "Data=[5.0, 2.0, 3.5, 1.0], Distance=Euclidean, Predicted: 2\n",
      "Data=[5.6, 2.7, 4.2, 1.3], Distance=Euclidean, Predicted: 2\n",
      "Data=[6.3, 3.3, 6.0, 2.5], Distance=Euclidean, Predicted: 0\n",
      "Data=[5.7, 2.9, 4.2, 1.3], Distance=Euclidean, Predicted: 2\n",
      "Data=[5.9, 3.0, 5.1, 1.8], Distance=Euclidean, Predicted: 0\n"
     ]
    }
   ],
   "source": [
    "# define the new records for which to get predictions\n",
    "rows = [[4.9, 3.1, 1.5, 0.1],\n",
    "\t\t[6.9, 3.1, 4.9, 1.5],\n",
    "\t\t[5.0, 2.0, 3.5, 1.0],\n",
    "\t\t[5.6, 2.7, 4.2, 1.3],\n",
    "\t\t[6.3, 3.3, 6.0, 2.5],\n",
    "\t\t[5.7, 2.9, 4.2, 1.3],\n",
    "\t\t[5.9, 3.0, 5.1, 1.8]]\n",
    "\n",
    "for row in rows: # for each new sample point\n",
    "\t# predict the label\n",
    "\tlabel = predict_classification(dataset, row, num_neighbors)\n",
    "\tprint('Data=%s, Distance=Euclidean, Predicted: %s' % (row, label))"
   ],
   "metadata": {
    "collapsed": false,
    "pycharm": {
     "name": "#%%\n"
    }
   }
  },
  {
   "cell_type": "markdown",
   "source": [
    "\n",
    "\n",
    "*   Δοκιμάστε να υπολογίσετε την απόσταση με τη μετρική [Manhattan](https://iq.opengenus.org/manhattan-distance/#:~:text=Manhattan%20distance%20is%20a%20distance%20metric%20between%20two,the%20measures%20in%20all%20dimensions%20of%20two%20points.?msclkid=50bbf70ecfa011ec91862d6b9263d761) για τα ζέυγη που σας έχουν δοθεί. Παρατηρείτε κάποια διαφοροποίηση ως προς τα αποτελέσματα;\n"
   ],
   "metadata": {
    "id": "9__nuQqGGyN4"
   }
  },
  {
   "cell_type": "code",
   "execution_count": 29,
   "outputs": [],
   "source": [
    "# Calculate the Manhattan distance between two vectors\n",
    "def manhattan_distance(row1, row2):\n",
    "\tdistance = 0.0\n",
    "\tfor i in range(len(row1)-1):\n",
    "\t\tdistance += abs(row1[i] - row2[i])\n",
    "\treturn distance\n",
    "\n",
    "# Locate the most similar neighbors\n",
    "def get_neighbors_manhattan(train, test_row, num_neighbors):\n",
    "\tdistances = list()\n",
    "\tfor train_row in train:\n",
    "\t\tdist = manhattan_distance(test_row, train_row)\n",
    "\t\tdistances.append((train_row, dist))\n",
    "\tdistances.sort(key=lambda tup: tup[1])\n",
    "\tneighbors = list()\n",
    "\tfor i in range(num_neighbors):\n",
    "\t\tneighbors.append(distances[i][0])\n",
    "\treturn neighbors\n",
    "\n",
    "# Make a prediction with neighbors\n",
    "def predict_classification_manhattan(train, test_row, num_neighbors):\n",
    "\tneighbors = get_neighbors_manhattan(train, test_row, num_neighbors)\n",
    "\toutput_values = [row[-1] for row in neighbors]\n",
    "\tprediction = max(set(output_values), key=output_values.count)\n",
    "\treturn prediction"
   ],
   "metadata": {
    "collapsed": false,
    "pycharm": {
     "name": "#%%\n"
    }
   }
  },
  {
   "cell_type": "code",
   "execution_count": 32,
   "outputs": [
    {
     "name": "stdout",
     "output_type": "stream",
     "text": [
      "Data=[4.9, 3.1, 1.5, 0.1], Distance=Manhattan, Predicted: 1\n",
      "Data=[6.9, 3.1, 4.9, 1.5], Distance=Manhattan, Predicted: 2\n",
      "Data=[5.0, 2.0, 3.5, 1.0], Distance=Manhattan, Predicted: 2\n",
      "Data=[5.6, 2.7, 4.2, 1.3], Distance=Manhattan, Predicted: 2\n",
      "Data=[6.3, 3.3, 6.0, 2.5], Distance=Manhattan, Predicted: 0\n",
      "Data=[5.7, 2.9, 4.2, 1.3], Distance=Manhattan, Predicted: 2\n",
      "Data=[5.9, 3.0, 5.1, 1.8], Distance=Manhattan, Predicted: 0\n"
     ]
    }
   ],
   "source": [
    "for row in rows: # for each new sample point\n",
    "\t# predict the label - this time with manhattan distance\n",
    "\tlabel = predict_classification_manhattan(dataset, row, num_neighbors)\n",
    "\tprint('Data=%s, Distance=Manhattan, Predicted: %s' % (row, label))"
   ],
   "metadata": {
    "collapsed": false,
    "pycharm": {
     "name": "#%%\n"
    }
   }
  },
  {
   "cell_type": "markdown",
   "source": [
    "Δεν παρατηρούμε κάποια διαφορά στα αποτελέσματα, αλλά η ταξινόμηση είναι στις ίδιες κλάσεις για όλα τα δειγματικά στοιχεία."
   ],
   "metadata": {
    "collapsed": false,
    "pycharm": {
     "name": "#%% md\n"
    }
   }
  },
  {
   "cell_type": "code",
   "execution_count": null,
   "outputs": [],
   "source": [],
   "metadata": {
    "collapsed": false,
    "pycharm": {
     "name": "#%%\n"
    }
   }
  }
 ]
}